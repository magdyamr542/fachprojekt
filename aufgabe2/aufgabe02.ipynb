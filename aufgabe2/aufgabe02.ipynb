{
 "cells": [
  {
   "cell_type": "markdown",
   "metadata": {
    "deletable": false,
    "editable": false,
    "nbgrader": {
     "cell_type": "markdown",
     "checksum": "512775c2266c8b1407ac95c8d2d5d5d9",
     "grade": false,
     "grade_id": "cell-df12980fa94a3e5e",
     "locked": true,
     "schema_version": 3,
     "solution": false,
     "task": false
    },
    "pycharm": {
     "name": "#%% md\n"
    },
    "tags": []
   },
   "source": [
    "**Fachprojekt Dokumentenanalyse** *WS 22/23* -- *Philipp Oberdiek, Gernot A. Fink* -- *Technische Universität Dortmund, Lehrstuhl XII, Mustererkennung in eingebetteten Systemen*\n",
    "---\n",
    "# Aufgabe 2: Bag-of-Words, Klassifikation\n",
    "\n",
    "In dieser Aufgabe sollen unbekannte Dokumente zu bekannten Kategorien automatisch zugeordnet werden.\n",
    "\n",
    "Die dabei erforderlichen numerischen Berechnungen lassen sich im Vergleich zu einer direkten Implementierung in Python erheblich einfacher mit NumPy / SciPy durchführen. Die folgende Aufgabe soll Ihnen die Unterschiede anhand eines kleinen Beispiels verdeutlichen.\n",
    "\n",
    "Geben Sie für jede Katgorie des Brown Corpus die durchschnittliche Anzahl von Wörtern pro Dokument aus. Bestimmen Sie auch die Standardabweichung. Stellen Sie diese Statistik mit einem bar plot dar. Verwenden Sie dabei auch Fehlerbalken (siehe [`visualization.hbar_plot`](../common/visualization.py))\n",
    "\n",
    "Berechnen Sie Mittelwert und Standardabweichung jeweils:\n",
    "\n",
    " - nur mit Python Funktionen\n",
    "   hilfreiche Funktionen: `sum`, `float`, `math.sqrt`, `math.pow`\n",
    "\n",
    " - mit NumPy\n",
    "   hilfreiche Funktionen: `np.array`, `np.mean`, `np.std`\n",
    "\n",
    "http://docs.python.org/3/library/math.html  \n",
    "http://docs.scipy.org/doc/numpy/reference/generated/numpy.mean.html  \n",
    "http://docs.scipy.org/doc/numpy/reference/generated/numpy.std.html  "
   ]
  },
  {
   "cell_type": "code",
   "execution_count": 2,
   "metadata": {
    "deletable": false,
    "editable": false,
    "jupyter": {
     "outputs_hidden": false
    },
    "nbgrader": {
     "cell_type": "code",
     "checksum": "a175534535410ec0f67d0a0af35246ee",
     "grade": false,
     "grade_id": "cell-8bad984d6d3989a8",
     "locked": true,
     "schema_version": 3,
     "solution": false,
     "task": false
    },
    "pycharm": {
     "name": "#%%\n"
    },
    "tags": []
   },
   "outputs": [],
   "source": [
    "%load_ext autoreload\n",
    "%autoreload 2\n",
    "%matplotlib widget\n",
    "\n",
    "import sys\n",
    "from nltk.corpus import brown\n",
    "from nltk.corpus import CategorizedCorpusReader\n",
    "\n",
    "\n",
    "if \"..\" not in sys.path:\n",
    "    sys.path.append(\"..\")\n",
    "    \n",
    "from common.corpus import CorpusLoader\n",
    "\n",
    "CorpusLoader.load()"
   ]
  },
  {
   "cell_type": "code",
   "execution_count": 3,
   "metadata": {},
   "outputs": [],
   "source": [
    "\n",
    "brown : CategorizedCorpusReader = CorpusLoader.brown_corpus()\n",
    "brown_categories = brown.categories()\n",
    "brown_documents = brown.fileids()\n",
    "brown_words = brown.words()"
   ]
  },
  {
   "cell_type": "markdown",
   "metadata": {},
   "source": [
    "Solution with python stdlib"
   ]
  },
  {
   "cell_type": "code",
   "execution_count": 4,
   "metadata": {},
   "outputs": [
    {
     "name": "stdout",
     "output_type": "stream",
     "text": [
      "avg adventure 2391.103448275862 std 76.95244605356372\n",
      "avg belles_lettres 2307.9466666666667 std 64.64691657165268\n",
      "avg editorial 2281.6296296296296 std 48.053325431732716\n",
      "avg fiction 2361.655172413793 std 71.55864528221204\n",
      "avg government 2337.233333333333 std 98.64977896016234\n",
      "avg hobbies 2287.3611111111113 std 57.44279897707795\n",
      "avg humor 2410.5555555555557 std 96.29827633291967\n",
      "avg learned 2273.6 std 66.50537572256846\n",
      "avg lore 2297.8958333333335 std 59.24393062561111\n",
      "avg mystery 2382.0416666666665 std 55.38236720493466\n",
      "avg news 2285.318181818182 std 49.49920693913496\n",
      "avg religion 2317.5882352941176 std 57.06555448473728\n",
      "avg reviews 2394.3529411764707 std 74.93443500936675\n",
      "avg romance 2414.551724137931 std 91.73484511008985\n",
      "avg science_fiction 2411.6666666666665 std 46.87809249058194\n"
     ]
    }
   ],
   "source": [
    "import math\n",
    "# Implementieren Sie hier die beiden oben erwähnten Varianten\n",
    "avg_num_words_per_category = []\n",
    "std_per_category = []\n",
    "for i in range(len(brown_categories)):\n",
    "\tcategory = brown_categories[i]\n",
    "\tdocuments = brown.fileids(categories=category)\n",
    "\tnum_words_in_all_documents = 0\n",
    "\n",
    "\tfor document in documents:\n",
    "\t\tnum_words_in_all_documents += len(brown.words(fileids=document))\n",
    "\n",
    "\t# mean\n",
    "\tavg_num_words_per_category.append(num_words_in_all_documents / len(documents))\n",
    "\tmean = num_words_in_all_documents / len(documents)\n",
    "\ttotal_per_doc = 0\n",
    "\tfor document in documents:\n",
    "\t\tnum_words_in_doc = len(brown.words(fileids=document))\n",
    "\t\ttotal_per_doc += pow((num_words_in_doc - mean) ,2)\n",
    "\tstd_per_category.append(math.sqrt(total_per_doc / len(documents)))\n",
    "\n",
    "for i in range(len(brown_categories)):\n",
    "\tprint(f\"avg {brown_categories[i]}\",avg_num_words_per_category[i] , \"std\" , std_per_category[i])\n",
    "\t"
   ]
  },
  {
   "cell_type": "markdown",
   "metadata": {},
   "source": [
    "Solution with numpy"
   ]
  },
  {
   "cell_type": "code",
   "execution_count": 5,
   "metadata": {},
   "outputs": [
    {
     "name": "stdout",
     "output_type": "stream",
     "text": [
      "avg adventure 2391.103448275862 std 76.95244605356373\n",
      "avg belles_lettres 2307.9466666666667 std 64.64691657165268\n",
      "avg editorial 2281.6296296296296 std 48.05332543173272\n",
      "avg fiction 2361.655172413793 std 71.55864528221204\n",
      "avg government 2337.233333333333 std 98.64977896016235\n",
      "avg hobbies 2287.3611111111113 std 57.442798977077956\n",
      "avg humor 2410.5555555555557 std 96.29827633291967\n",
      "avg learned 2273.6 std 66.50537572256847\n",
      "avg lore 2297.8958333333335 std 59.243930625611114\n",
      "avg mystery 2382.0416666666665 std 55.38236720493467\n",
      "avg news 2285.318181818182 std 49.49920693913495\n",
      "avg religion 2317.5882352941176 std 57.065554484737284\n",
      "avg reviews 2394.3529411764707 std 74.93443500936675\n",
      "avg romance 2414.551724137931 std 91.73484511008986\n",
      "avg science_fiction 2411.6666666666665 std 46.87809249058194\n"
     ]
    }
   ],
   "source": [
    "import numpy as np \n",
    "# Implementieren Sie hier die beiden oben erwähnten Varianten\n",
    "avg_num_words_per_category = []\n",
    "std_per_category = []\n",
    "for i in range(len(brown_categories)):\n",
    "\tcategory = brown_categories[i]\n",
    "\tdocuments = brown.fileids(categories=category)\n",
    "\tnum_word_per_doc = [len(brown.words(fileids=document)) for document in documents]\n",
    "\tmean = np.mean(num_word_per_doc)\n",
    "\tstd = np.std(num_word_per_doc) \n",
    "\tprint(f\"avg {category} {mean}\", f\"std {std}\")\n",
    "\tavg_num_words_per_category.append(mean)"
   ]
  },
  {
   "cell_type": "code",
   "execution_count": 6,
   "metadata": {},
   "outputs": [
    {
     "data": {
      "application/vnd.jupyter.widget-view+json": {
       "model_id": "2643747cecad4f3b9c50c6a30f804fed",
       "version_major": 2,
       "version_minor": 0
      },
      "image/png": "[encoded data removed]",
      "text/html": [
       "\n",
       "            <div style=\"display: inline-block;\">\n",
       "                <div class=\"jupyter-widgets widget-label\" style=\"text-align: center;\">\n",
       "                    Figure\n",
       "                </div>\n",
       "                <img src='data:image/png;base64,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' width=640.0/>\n",
       "            </div>\n",
       "        "
      ],
      "text/plain": [
       "Canvas(toolbar=Toolbar(toolitems=[('Home', 'Reset original view', 'home', 'home'), ('Back', 'Back to previous …"
      ]
     },
     "metadata": {},
     "output_type": "display_data"
    }
   ],
   "source": [
    "# visualize\n",
    "from common.visualization import hbar_plot\n",
    "hbar_plot(avg_num_words_per_category , brown_categories , std)"
   ]
  },
  {
   "cell_type": "markdown",
   "metadata": {
    "deletable": false,
    "editable": false,
    "nbgrader": {
     "cell_type": "markdown",
     "checksum": "d4114b178a9da4cb89a47d60eb1e4656",
     "grade": false,
     "grade_id": "cell-cb00a71c0bc0a9d7",
     "locked": true,
     "schema_version": 3,
     "solution": false,
     "task": false
    },
    "pycharm": {
     "name": "#%% md\n"
    },
    "tags": []
   },
   "source": [
    " ## Klassifikation von Dokumenten\n",
    "\n",
    "Nachdem Sie sich nun mit der Struktur und den Eigenschaften des Brown Corpus vertraut gemacht haben, soll er die Datengrundlage für die Evaluierung von Algorithmen zur automatischen Klassifikation von Dokumenten bilden.\n",
    "In der Regel bestehen diese Algorithmen aus drei Schritten:\n",
    " 1. Vorverarbeitung\n",
    " 2. Merkmalsberechnung\n",
    " 3. Klassifikation\n",
    "\n",
    "Bei der Anwendung auf Dokumente (Texte) werden diese Schritte wie folgt umgesetzt:\n",
    "\n",
    " - **Vorverarbeitung:** Filterung von stopwords und Abbildung von Wörtern auf Wortstämme.\n",
    " - **Merkmalsberechnung:** Jedes Dokument wird numerisch durch einen Vektor repräsentiert (--> NumPy), der möglichst die bzgl. der Klassifikation bedeutungsunterscheidenden Informationen enthählt.\n",
    " - **Klassifikation:** Jedem Merkmalsvektor (Dokument) wird ein Klassenindex (Kategorie) zugeordnet.\n",
    "\n",
    "Details finden Sie zum Beispiel in:\n",
    "http://www5.informatik.uni-erlangen.de/fileadmin/Persons/NiemannHeinrich/klassifikation-von-mustern/m00-www.pdf (section 1.3)\n",
    "\n",
    "Eine sehr verbreitete Merkmalsrepräsentation für (textuelle) Dokumente sind sogenannte Bag-of-Words. Dabei wird jedes Dokument durch ein Histogram (Verteilung) über Wortfrequenzen repräsentiert. Man betrachtet dazu das Vorkommen von 'typischen' Wörtern, die durch ein Vokabular gegeben sind.\n",
    "\n",
    "Bestimmen Sie ein Vokabular, also die typischen Wörter, für den Brown Corpus. Berechnen Sie dazu die 500 häufigsten Wörter (nach stemming und Filterung von stopwords und Satzzeichen).  \n",
    "Bestimmen Sie außerdem das `category_wordlists_dict`, welches als Eingabe für `BagofWords.category_bow_dict` im Modul [features](../common/features.py) dient."
   ]
  },
  {
   "cell_type": "code",
   "execution_count": 7,
   "metadata": {},
   "outputs": [],
   "source": [
    "from common.features import BagOfWords, WordListNormalizer\n",
    "stop_words = CorpusLoader.stopwords_corpus()\n",
    "normalizer =  WordListNormalizer(stop_words)\n",
    "words , stemmed_words  = normalizer.normalize_words(brown_words)"
   ]
  },
  {
   "cell_type": "code",
   "execution_count": 8,
   "metadata": {
    "jupyter": {
     "outputs_hidden": false
    },
    "pycharm": {
     "name": "#%%\n"
    }
   },
   "outputs": [],
   "source": [
    "vocabulary = BagOfWords.most_freq_words(stemmed_words , 500)\n",
    "category_wordlists_dict = {}\n",
    "for category in brown_categories:\n",
    "\tcategory_wordlists_dict[category] = []\n",
    "\tdocs = brown.fileids(categories=category)\n",
    "\tfor doc in docs: \n",
    "\t\twords  = brown.words(fileids=doc)\n",
    "\t\tcategory_wordlists_dict[category].append(words)\n"
   ]
  },
  {
   "cell_type": "markdown",
   "metadata": {
    "deletable": false,
    "editable": false,
    "nbgrader": {
     "cell_type": "markdown",
     "checksum": "4c14d82dde1b379c1e1b7b6b40a48241",
     "grade": false,
     "grade_id": "cell-dccfa7251b70b432",
     "locked": true,
     "schema_version": 3,
     "solution": false,
     "task": false
    },
    "tags": []
   },
   "source": [
    "Berechnen Sie Bag-of-Words Repräsentationen für jedes Dokument des Brown Corpus. Verwenden Sie absolute Frequenzen. Speichern Sie die Bag-of-Word Repräsentationen für jede Kategorie in einem 2-D NumPy Array. Speichern Sie den Bag-of-Words Vektor für jedes Dokument in einer Zeile, so dass das Array (ndarray) folgende Dimension hat:\n",
    "\n",
    " |Dokument_kat| X |Vokabular|\n",
    "\n",
    "|Dokument_kat| entspricht der Anzahl Dokumente einer Kategorie.\n",
    "|Vokabular| entspricht der Anzahl Wörter im Vokabular (hier 500).\n",
    "\n",
    "Eine einfache Zuordnung von Kategorie und Bag-of-Words Matrix ist durch ein Dictionary möglich.\n",
    "\n",
    "Implementieren Sie die Funktion `BagOfWords.category_bow_dict` im Modul [features](../common/features.py)."
   ]
  },
  {
   "cell_type": "code",
   "execution_count": 9,
   "metadata": {
    "deletable": false,
    "editable": false,
    "jupyter": {
     "outputs_hidden": false
    },
    "nbgrader": {
     "cell_type": "code",
     "checksum": "e79e4a2cb469556b39e2b82d2e495b05",
     "grade": false,
     "grade_id": "cell-a54cb400e411d0bf",
     "locked": true,
     "schema_version": 3,
     "solution": false,
     "task": false
    },
    "pycharm": {
     "name": "#%%\n"
    },
    "tags": []
   },
   "outputs": [
    {
     "name": "stdout",
     "output_type": "stream",
     "text": [
      "Building Bag-of-Words feature vector representations...\n"
     ]
    }
   ],
   "source": [
    "print('Building Bag-of-Words feature vector representations...')\n",
    "bow = BagOfWords(vocabulary)\n",
    "category_bow_dict = bow.category_bow_dict(category_wordlists_dict)"
   ]
  },
  {
   "cell_type": "markdown",
   "metadata": {
    "deletable": false,
    "editable": false,
    "nbgrader": {
     "cell_type": "markdown",
     "checksum": "22d1243a8c062f59dbb887b5bfaed06a",
     "grade": false,
     "grade_id": "cell-df1f410cad5d2531",
     "locked": true,
     "schema_version": 3,
     "solution": false,
     "task": false
    },
    "tags": []
   },
   "source": [
    "Testen Sie ihre Implementierung mit folgendem Unittest:"
   ]
  },
  {
   "cell_type": "code",
   "execution_count": 10,
   "metadata": {
    "deletable": false,
    "editable": false,
    "jupyter": {
     "outputs_hidden": false
    },
    "nbgrader": {
     "cell_type": "code",
     "checksum": "f6512fe5c06428d41f052c8786aa1f05",
     "grade": false,
     "grade_id": "cell-a9178afaed717b50",
     "locked": true,
     "schema_version": 3,
     "solution": false,
     "task": false
    },
    "pycharm": {
     "name": "#%%\n"
    },
    "tags": []
   },
   "outputs": [
    {
     "name": "stderr",
     "output_type": "stream",
     "text": [
      ".\n",
      "----------------------------------------------------------------------\n",
      "Ran 1 test in 0.002s\n",
      "\n",
      "OK\n"
     ]
    },
    {
     "data": {
      "text/plain": [
       "<unittest.runner.TextTestResult run=1 errors=0 failures=0>"
      ]
     },
     "execution_count": 10,
     "metadata": {},
     "output_type": "execute_result"
    }
   ],
   "source": [
    "import unittest\n",
    "\n",
    "from utest.test_features import BagOfWordsTest\n",
    "\n",
    "suite = unittest.TestSuite()\n",
    "suite.addTest(BagOfWordsTest(\"test_category_bow_dict\"))\n",
    "runner = unittest.TextTestRunner()\n",
    "runner.run(suite)"
   ]
  },
  {
   "cell_type": "markdown",
   "metadata": {
    "deletable": false,
    "editable": false,
    "nbgrader": {
     "cell_type": "markdown",
     "checksum": "d1c6bd5351bcbc414dc44a927e7f829d",
     "grade": false,
     "grade_id": "cell-549cee3887e38839",
     "locked": true,
     "schema_version": 3,
     "solution": false,
     "task": false
    },
    "tags": []
   },
   "source": [
    "Um einen Klassifikator statistisch zu evaluieren, benötigt man eine Trainingsstichprobe und eine Teststichprobe der Daten die klassifiziert werden sollen. Die Trainingsstichprobe benötigt man zum Erstellen oder Trainieren des Klassifikators. Dabei werden in der Regel die Modellparameter des Klassifikators statistisch aus den Daten der Traingingsstichprobe geschätzt. Die Klassenzugehörigkeiten sind für die Beispiele aus der Trainingsstichprobe durch so genannte Klassenlabels gegeben.\n",
    "\n",
    "Nachdem man den Klassifikator trainiert hat, interessiert man sich normalerweise dafür wie gut er sich unter realen Bedingung verhält. Das heißt, dass der Klassifikator bei der Klassifikation zuvor unbekannter Daten möglichst wenige Fehler machen soll. Dies simuliert man mit der Teststichprobe. Da auch für jedes Beispiel aus der Teststichprobe die Klassenzugehörigkeit bekannt ist, kann man am Ende die Klassifikationsergebnisse mit den wahren Klassenlabels (aus der Teststichprobe) vergleichen und eine Fehlerrate angeben.\n",
    "\n",
    "In dem gegebenen Brown Corpus ist keine Aufteilung in Trainings- und Testdaten vorgegeben.\n",
    "\n",
    "Wählen Sie daher die ersten 80% der Dokumente ÜBER ALLE KATEGORIEN als Trainingstichprobe und die letzten 20% der Dokumente ÜBER ALLE KATEGORIEN als Teststichprobe.\n",
    "\n",
    "Erklären Sie, warum Sie die Stichproben über alle Kategorien zusammenstellen MÜSSEN."
   ]
  },
  {
   "cell_type": "markdown",
   "metadata": {
    "deletable": false,
    "editable": false,
    "nbgrader": {
     "cell_type": "markdown",
     "checksum": "f4288aa4af96af538ca56ea8ae70a3f2",
     "grade": false,
     "grade_id": "cell-54c24cb60f9a4df7",
     "locked": true,
     "schema_version": 3,
     "solution": false,
     "task": false
    },
    "tags": []
   },
   "source": [
    "**Antwort:**"
   ]
  },
  {
   "cell_type": "markdown",
   "metadata": {},
   "source": [
    "Damit das Model beim Training die Dokumente von allen Kategorien sieht"
   ]
  },
  {
   "cell_type": "markdown",
   "metadata": {},
   "source": []
  },
  {
   "cell_type": "markdown",
   "metadata": {
    "deletable": false,
    "editable": false,
    "nbgrader": {
     "cell_type": "markdown",
     "checksum": "1a2f89f38fe251cef73e8342062df6fd",
     "grade": false,
     "grade_id": "cell-44ebf3cbd72cce5e",
     "locked": true,
     "schema_version": 3,
     "solution": false,
     "task": false
    },
    "tags": []
   },
   "source": [
    "Bitte beachten Sie, dass wir im Rahmen des Fachprojekts keinen Test auf unbekannten Testdaten simulieren. Wir haben ja bereits für die Erstellung der Vokabulars (häufigste Wörter, siehe oben) den kompletten Datensatz verwendet. Stattdessen betrachten wir hier ein sogenanntes Validierungsszenario, in dem wir die Klassifikationsleistung auf dem Brown Corpus optimieren. Die Ergebnisse lassen sich somit nur sehr bedingt auf unbekannte Daten übertragen.\n",
    "\n",
    "Erstellen Sie nun die NumPy Arrays `train_samples`, `train_labels`, `test_samples` und `test_labels`, sodass diese mit den `estimate` und `classify` Methoden der Klassen im [`classification`](../common/classification.py) Modul verwendet werden können. Teilen Sie die Daten wie oben angegeben zu 80% in Trainingsdaten und 20% in Testdaten auf.\n",
    "\n",
    "Hinweis: Vollziehen Sie nach, wie die Klasse `CrossValidation` im [`evaluation`](../common/evaluation.py) Modul funktioniert. Wenn Sie möchten, können Sie die Klasse zur Aufteilung der Daten verwenden."
   ]
  },
  {
   "cell_type": "code",
   "execution_count": 11,
   "metadata": {
    "jupyter": {
     "outputs_hidden": false
    },
    "pycharm": {
     "name": "#%%\n"
    }
   },
   "outputs": [],
   "source": [
    "from common.evaluation import CrossValidation\n",
    "cv = CrossValidation(category_bow_dict , 5)\n",
    "train_samples , train_labels , test_samples , test_labels = cv.corpus_fold(2)\n"
   ]
  },
  {
   "cell_type": "markdown",
   "metadata": {
    "deletable": false,
    "editable": false,
    "nbgrader": {
     "cell_type": "markdown",
     "checksum": "3b06b76ff7bcff36ab0fb1dd4d3a3e15",
     "grade": false,
     "grade_id": "cell-37b3b2967c00d127",
     "locked": true,
     "schema_version": 3,
     "solution": false,
     "task": false
    },
    "tags": []
   },
   "source": [
    "Klassifizieren Sie nun alle Dokumente der Teststichprobe nach dem Prinzip des k-nächste-Nachbarn Klassifikators. Dabei wird die Distanz zwischen dem Merkmalsvektor eines Testbeispiels und allen Merkmalsvektoren aus der Trainingstichprobe berechnet. Das Klassenlabel des Testbeispiels wird dann über einen Mehrheitsentscheid der Klassenlabels der k ähnlichsten Merkmalsvektoren aus der Trainingsstichprobe bestimmt.\n",
    "\n",
    "http://www5.informatik.uni-erlangen.de/fileadmin/Persons/NiemannHeinrich/klassifikation-von-mustern/m00-www.pdf (Abschnitt 4.2.7)\n",
    "\n",
    "Bestimmen Sie die Distanzen von Testdaten zu Trainingsdaten mit cdist:  \n",
    "http://docs.scipy.org/doc/scipy/reference/generated/scipy.spatial.distance.cdist.html  \n",
    "Bestimmen Sie die k-nächsten Nachbarn auf Grundlage der zuvor berechneten Distanzen mit argsort:  \n",
    "http://docs.scipy.org/doc/numpy/reference/generated/numpy.argsort.html  \n",
    "Überlegen Sie, welche zuvor von Ihnen implementierte Funktion Sie wiederverwenden können, um den Mehrheitsentscheid umzusetzen.  \n",
    "\n",
    "Implementieren Sie die Funktionen `estimate` und `classify` in der Klasse `KNNClassifier` im Modul [`classification`](../common/classification.py).\n",
    "\n",
    "Verwenden Sie die Euklidische Distanz und betrachten Sie zunächst nur den nächsten Nachbarn (k=1).\n",
    "\n",
    "HINWEIS: Hier ist zunächst nur die Implementierung eines nächster Nachbar Klassifikators erforderlich. Diese soll aber in der nächsten Aufgabe zu einer Implementierung eines k-nächste Nachbarn Klassifikators erweitert werden. Berüchsichtigen Sie das in ihrer Implementierung.\n"
   ]
  },
  {
   "cell_type": "code",
   "execution_count": 21,
   "metadata": {
    "deletable": false,
    "editable": false,
    "jupyter": {
     "outputs_hidden": false
    },
    "nbgrader": {
     "cell_type": "code",
     "checksum": "66a77739f30bab3cdf9bb870618f7a48",
     "grade": false,
     "grade_id": "cell-b8c8d77c91ede8c1",
     "locked": true,
     "schema_version": 3,
     "solution": false,
     "task": false
    },
    "pycharm": {
     "name": "#%%\n"
    },
    "tags": []
   },
   "outputs": [
    {
     "name": "stdout",
     "output_type": "stream",
     "text": [
      "[['romance']\n",
      " ['fiction']\n",
      " ['mystery']\n",
      " ['belles_lettres']\n",
      " ['humor']\n",
      " ['lore']\n",
      " ['science_fiction']\n",
      " ['editorial']\n",
      " ['belles_lettres']\n",
      " ['lore']\n",
      " ['news']\n",
      " ['learned']\n",
      " ['belles_lettres']\n",
      " ['belles_lettres']\n",
      " ['reviews']\n",
      " ['belles_lettres']\n",
      " ['reviews']\n",
      " ['lore']\n",
      " ['belles_lettres']\n",
      " ['learned']\n",
      " ['editorial']\n",
      " ['editorial']\n",
      " ['belles_lettres']\n",
      " ['humor']\n",
      " ['news']\n",
      " ['news']\n",
      " ['romance']\n",
      " ['fiction']\n",
      " ['mystery']\n",
      " ['romance']\n",
      " ['romance']\n",
      " ['science_fiction']\n",
      " ['belles_lettres']\n",
      " ['belles_lettres']\n",
      " ['editorial']\n",
      " ['government']\n",
      " ['government']\n",
      " ['learned']\n",
      " ['fiction']\n",
      " ['lore']\n",
      " ['lore']\n",
      " ['lore']\n",
      " ['reviews']\n",
      " ['learned']\n",
      " ['learned']\n",
      " ['science_fiction']\n",
      " ['news']\n",
      " ['learned']\n",
      " ['learned']\n",
      " ['editorial']\n",
      " ['learned']\n",
      " ['learned']\n",
      " ['news']\n",
      " ['news']\n",
      " ['hobbies']\n",
      " ['belles_lettres']\n",
      " ['learned']\n",
      " ['lore']\n",
      " ['lore']\n",
      " ['belles_lettres']\n",
      " ['reviews']\n",
      " ['learned']\n",
      " ['learned']\n",
      " ['belles_lettres']\n",
      " ['lore']\n",
      " ['hobbies']\n",
      " ['belles_lettres']\n",
      " ['editorial']\n",
      " ['learned']\n",
      " ['lore']\n",
      " ['lore']\n",
      " ['belles_lettres']\n",
      " ['editorial']\n",
      " ['adventure']\n",
      " ['mystery']\n",
      " ['mystery']\n",
      " ['romance']\n",
      " ['belles_lettres']\n",
      " ['news']\n",
      " ['editorial']\n",
      " ['news']\n",
      " ['news']\n",
      " ['news']\n",
      " ['government']\n",
      " ['lore']\n",
      " ['belles_lettres']\n",
      " ['lore']\n",
      " ['editorial']\n",
      " ['learned']\n",
      " ['religion']\n",
      " ['lore']\n",
      " ['reviews']\n",
      " ['news']\n",
      " ['mystery']\n",
      " ['romance']\n",
      " ['adventure']\n",
      " ['adventure']\n",
      " ['romance']\n",
      " ['fiction']\n",
      " ['mystery']]\n"
     ]
    }
   ],
   "source": [
    "from common.classification import KNNClassifier\n",
    "\n",
    "knn_classifier = KNNClassifier(k_neighbors=1, metric='euclidean')\n",
    "knn_classifier.estimate(train_samples, train_labels)\n",
    "knn_test_labels = knn_classifier.classify(test_samples)\n",
    "print(knn_test_labels)"
   ]
  },
  {
   "cell_type": "markdown",
   "metadata": {
    "deletable": false,
    "editable": false,
    "nbgrader": {
     "cell_type": "markdown",
     "checksum": "f678db4733f85bf1b634aae09f0abd66",
     "grade": false,
     "grade_id": "cell-891889fd39c22fd5",
     "locked": true,
     "schema_version": 3,
     "solution": false,
     "task": false
    },
    "tags": []
   },
   "source": [
    "Testen Sie ihre Implementierung mit folgendem Unittest:"
   ]
  },
  {
   "cell_type": "code",
   "execution_count": 22,
   "metadata": {
    "deletable": false,
    "editable": false,
    "jupyter": {
     "outputs_hidden": false
    },
    "nbgrader": {
     "cell_type": "code",
     "checksum": "c9c304a956b3cfd603c2c7d3882b16ab",
     "grade": false,
     "grade_id": "cell-673f3ab628869cb9",
     "locked": true,
     "schema_version": 3,
     "solution": false,
     "task": false
    },
    "pycharm": {
     "name": "#%%\n"
    },
    "tags": []
   },
   "outputs": [
    {
     "name": "stderr",
     "output_type": "stream",
     "text": [
      "."
     ]
    },
    {
     "name": "stdout",
     "output_type": "stream",
     "text": [
      "nn_test\n"
     ]
    },
    {
     "name": "stderr",
     "output_type": "stream",
     "text": [
      "\n",
      "----------------------------------------------------------------------\n",
      "Ran 1 test in 0.002s\n",
      "\n",
      "OK\n"
     ]
    },
    {
     "data": {
      "text/plain": [
       "<unittest.runner.TextTestResult run=1 errors=0 failures=0>"
      ]
     },
     "execution_count": 22,
     "metadata": {},
     "output_type": "execute_result"
    }
   ],
   "source": [
    "import unittest\n",
    "from utest.test_classification import ClassificationTest\n",
    "\n",
    "suite = unittest.TestSuite()\n",
    "suite.addTest(ClassificationTest(\"test_nn\"))\n",
    "runner = unittest.TextTestRunner()\n",
    "runner.run(suite)"
   ]
  },
  {
   "cell_type": "markdown",
   "metadata": {
    "deletable": false,
    "editable": false,
    "nbgrader": {
     "cell_type": "markdown",
     "checksum": "de3217c1fb00d16701d519f816b77141",
     "grade": false,
     "grade_id": "cell-1d016d55219c64be",
     "locked": true,
     "schema_version": 3,
     "solution": false,
     "task": false
    },
    "pycharm": {
     "name": "#%% md\n"
    },
    "tags": []
   },
   "source": [
    "Nachdem Sie mit dem `KNNClassifier` für jedes Testbeispiel ein Klassenlabel geschätzt haben, können Sie dieses mit dem tatsächlichen Klassenlabel vergleichen. Dieses können Sie wie bei den Traingingsdaten dem Corpus entnehmen.\n",
    "\n",
    "Ermitteln Sie eine Gesamtfehlerrate und je eine Fehlerrate pro Kategorie. Implementieren Sie dazu die Klasse `ClassificationEvaluator` im [`evaluation`](../common/evaluation.py) Modul.\n",
    "\n",
    "Warum ist diese Aufteilung der Daten in Training und Test problematisch? Was sagen die Ergebnisse aus?"
   ]
  },
  {
   "cell_type": "markdown",
   "metadata": {
    "deletable": false,
    "editable": false,
    "nbgrader": {
     "cell_type": "markdown",
     "checksum": "e068483eeacf702f532cc3d666b33e2f",
     "grade": false,
     "grade_id": "cell-3df1fc47e3827423",
     "locked": true,
     "schema_version": 3,
     "solution": false,
     "task": false
    },
    "tags": []
   },
   "source": [
    "**Antwort:**"
   ]
  },
  {
   "cell_type": "markdown",
   "metadata": {},
   "source": []
  },
  {
   "cell_type": "code",
   "execution_count": null,
   "metadata": {},
   "outputs": [],
   "source": []
  },
  {
   "cell_type": "code",
   "execution_count": 26,
   "metadata": {
    "deletable": false,
    "editable": false,
    "jupyter": {
     "outputs_hidden": false
    },
    "nbgrader": {
     "cell_type": "code",
     "checksum": "824baa88269bebf82f5ae0e8796b8276",
     "grade": false,
     "grade_id": "cell-0286f300aaaface9",
     "locked": true,
     "schema_version": 3,
     "solution": false,
     "task": false
    },
    "pycharm": {
     "name": "#%%\n"
    },
    "tags": []
   },
   "outputs": [
    {
     "name": "stdout",
     "output_type": "stream",
     "text": [
      "Classification error rates: ( n_wrong, n_samples ) error_rate\n",
      "\tOverall        : (  71 / 100 )  71.00 %\n",
      "Class specific :\n",
      "\tadventure      : (   6 /   6 ) 100.00 %\n",
      "\tbelles_lettres : (  10 /  15 )  66.67 %\n",
      "\teditorial      : (   4 /   5 )  80.00 %\n",
      "\tfiction        : (   5 /   6 )  83.33 %\n",
      "\tgovernment     : (   4 /   6 )  66.67 %\n",
      "\thobbies        : (   7 /   7 ) 100.00 %\n",
      "\thumor          : (   2 /   2 ) 100.00 %\n",
      "\tlearned        : (   9 /  16 )  56.25 %\n",
      "\tlore           : (   7 /  10 )  70.00 %\n",
      "\tmystery        : (   3 /   5 )  60.00 %\n",
      "\tnews           : (   5 /   9 )  55.56 %\n",
      "\treligion       : (   2 /   3 )  66.67 %\n",
      "\treviews        : (   2 /   3 )  66.67 %\n",
      "\tromance        : (   4 /   6 )  66.67 %\n",
      "\tscience_fiction: (   1 /   1 ) 100.00 %\n"
     ]
    }
   ],
   "source": [
    "from common.evaluation import ClassificationEvaluator\n",
    "\n",
    "classification_eval = ClassificationEvaluator(knn_test_labels, test_labels)\n",
    "err, n_wrong, n_sampels = classification_eval.error_rate()\n",
    "category_error_rates = classification_eval.category_error_rates()\n",
    "print('Classification error rates: ( n_wrong, n_samples ) error_rate')\n",
    "print('\\t{:15}: ( {:3} / {:3} ) {:6,.2f} %'.format('Overall', n_wrong, n_sampels, err))\n",
    "print('Class specific :')\n",
    "for category, error, n_wrong, n_samples in category_error_rates:\n",
    "    print('\\t{:15}: ( {:3} / {:3} ) {:6,.2f} %'.format(category, n_wrong, n_samples, error))"
   ]
  },
  {
   "cell_type": "markdown",
   "metadata": {
    "deletable": false,
    "editable": false,
    "nbgrader": {
     "cell_type": "markdown",
     "checksum": "1c4b88fef824677cac08ed6938551cae",
     "grade": false,
     "grade_id": "cell-49c13db10a61d8e1",
     "locked": true,
     "schema_version": 3,
     "solution": false,
     "task": false
    },
    "pycharm": {
     "name": "#%% md\n"
    },
    "tags": []
   },
   "source": [
    "Testen Sie ihre Implementierung mit folgendem Unittest:"
   ]
  },
  {
   "cell_type": "code",
   "execution_count": 15,
   "metadata": {
    "deletable": false,
    "editable": false,
    "jupyter": {
     "outputs_hidden": false
    },
    "nbgrader": {
     "cell_type": "code",
     "checksum": "cdccd6718f18a2539a1bc2ae1c79884d",
     "grade": false,
     "grade_id": "cell-f309ea92246629e6",
     "locked": true,
     "schema_version": 3,
     "solution": false,
     "task": false
    },
    "pycharm": {
     "name": "#%%\n"
    },
    "tags": []
   },
   "outputs": [
    {
     "name": "stderr",
     "output_type": "stream",
     "text": [
      "..\n",
      "----------------------------------------------------------------------\n",
      "Ran 2 tests in 0.001s\n",
      "\n",
      "OK\n"
     ]
    },
    {
     "data": {
      "text/plain": [
       "<unittest.main.TestProgram at 0x7fa246a23400>"
      ]
     },
     "execution_count": 15,
     "metadata": {},
     "output_type": "execute_result"
    }
   ],
   "source": [
    "import unittest\n",
    "\n",
    "from utest.test_evaluation import ClassificationEvaluatorTest\n",
    "unittest.main(ClassificationEvaluatorTest(), argv=[''], exit=False)"
   ]
  }
 ],
 "metadata": {
  "kernelspec": {
   "display_name": "Python 3.8.10 ('venv': venv)",
   "language": "python",
   "name": "python3"
  },
  "language_info": {
   "codemirror_mode": {
    "name": "ipython",
    "version": 3
   },
   "file_extension": ".py",
   "mimetype": "text/x-python",
   "name": "python",
   "nbconvert_exporter": "python",
   "pygments_lexer": "ipython3",
   "version": "3.8.10"
  },
  "vscode": {
   "interpreter": {
    "hash": "532930a045c70b6179a9e76aad6b950d5161a1fd1537a8fdd1aa5c1fdfc9fb89"
   }
  }
 },
 "nbformat": 4,
 "nbformat_minor": 4
}
