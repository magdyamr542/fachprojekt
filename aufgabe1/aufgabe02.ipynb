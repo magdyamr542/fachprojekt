{
 "cells": [
  {
   "cell_type": "markdown",
   "metadata": {
    "deletable": false,
    "editable": false,
    "nbgrader": {
     "cell_type": "markdown",
     "checksum": "512775c2266c8b1407ac95c8d2d5d5d9",
     "grade": false,
     "grade_id": "cell-df12980fa94a3e5e",
     "locked": true,
     "schema_version": 3,
     "solution": false,
     "task": false
    },
    "pycharm": {
     "name": "#%% md\n"
    },
    "tags": []
   },
   "source": [
    "**Fachprojekt Dokumentenanalyse** *WS 22/23* -- *Philipp Oberdiek, Gernot A. Fink* -- *Technische Universität Dortmund, Lehrstuhl XII, Mustererkennung in eingebetteten Systemen*\n",
    "---\n",
    "# Aufgabe 2: Bag-of-Words, Klassifikation\n",
    "\n",
    "In dieser Aufgabe sollen unbekannte Dokumente zu bekannten Kategorien automatisch zugeordnet werden.\n",
    "\n",
    "Die dabei erforderlichen numerischen Berechnungen lassen sich im Vergleich zu einer direkten Implementierung in Python erheblich einfacher mit NumPy / SciPy durchführen. Die folgende Aufgabe soll Ihnen die Unterschiede anhand eines kleinen Beispiels verdeutlichen.\n",
    "\n",
    "Geben Sie für jede Katgorie des Brown Corpus die durchschnittliche Anzahl von Wörtern pro Dokument aus. Bestimmen Sie auch die Standardabweichung. Stellen Sie diese Statistik mit einem bar plot dar. Verwenden Sie dabei auch Fehlerbalken (siehe [`visualization.hbar_plot`](../common/visualization.py))\n",
    "\n",
    "Berechnen Sie Mittelwert und Standardabweichung jeweils:\n",
    "\n",
    " - nur mit Python Funktionen\n",
    "   hilfreiche Funktionen: `sum`, `float`, `math.sqrt`, `math.pow`\n",
    "\n",
    " - mit NumPy\n",
    "   hilfreiche Funktionen: `np.array`, `np.mean`, `np.std`\n",
    "\n",
    "http://docs.python.org/3/library/math.html  \n",
    "http://docs.scipy.org/doc/numpy/reference/generated/numpy.mean.html  \n",
    "http://docs.scipy.org/doc/numpy/reference/generated/numpy.std.html  "
   ]
  },
  {
   "cell_type": "code",
   "execution_count": 1,
   "metadata": {
    "deletable": false,
    "editable": false,
    "jupyter": {
     "outputs_hidden": false
    },
    "nbgrader": {
     "cell_type": "code",
     "checksum": "a175534535410ec0f67d0a0af35246ee",
     "grade": false,
     "grade_id": "cell-8bad984d6d3989a8",
     "locked": true,
     "schema_version": 3,
     "solution": false,
     "task": false
    },
    "pycharm": {
     "name": "#%%\n"
    },
    "tags": []
   },
   "outputs": [],
   "source": [
    "%load_ext autoreload\n",
    "%autoreload 2\n",
    "%matplotlib widget\n",
    "\n",
    "import sys\n",
    "from nltk.corpus import brown\n",
    "from nltk.corpus import CategorizedCorpusReader\n",
    "\n",
    "\n",
    "if \"..\" not in sys.path:\n",
    "    sys.path.append(\"..\")\n",
    "    \n",
    "from common.corpus import CorpusLoader\n",
    "\n",
    "CorpusLoader.load()"
   ]
  },
  {
   "cell_type": "code",
   "execution_count": 2,
   "metadata": {},
   "outputs": [],
   "source": [
    "\n",
    "brown : CategorizedCorpusReader = CorpusLoader.brown_corpus()\n",
    "brown_categories = brown.categories()\n",
    "brown_documents = brown.fileids()\n",
    "brown_words = brown.words()"
   ]
  },
  {
   "cell_type": "markdown",
   "metadata": {},
   "source": [
    "Solution with python stdlib"
   ]
  },
  {
   "cell_type": "code",
   "execution_count": 18,
   "metadata": {},
   "outputs": [
    {
     "name": "stdout",
     "output_type": "stream",
     "text": [
      "avg adventure 2391.103448275862 std 76.95244605356372\n",
      "avg belles_lettres 2307.9466666666667 std 64.64691657165268\n",
      "avg editorial 2281.6296296296296 std 48.053325431732716\n",
      "avg fiction 2361.655172413793 std 71.55864528221204\n",
      "avg government 2337.233333333333 std 98.64977896016234\n",
      "avg hobbies 2287.3611111111113 std 57.44279897707795\n",
      "avg humor 2410.5555555555557 std 96.29827633291967\n",
      "avg learned 2273.6 std 66.50537572256846\n",
      "avg lore 2297.8958333333335 std 59.24393062561111\n",
      "avg mystery 2382.0416666666665 std 55.38236720493466\n",
      "avg news 2285.318181818182 std 49.49920693913496\n",
      "avg religion 2317.5882352941176 std 57.06555448473728\n",
      "avg reviews 2394.3529411764707 std 74.93443500936675\n",
      "avg romance 2414.551724137931 std 91.73484511008985\n",
      "avg science_fiction 2411.6666666666665 std 46.87809249058194\n"
     ]
    }
   ],
   "source": [
    "import math\n",
    "# Implementieren Sie hier die beiden oben erwähnten Varianten\n",
    "avg_num_words_per_category = []\n",
    "std_per_category = []\n",
    "for i in range(len(brown_categories)):\n",
    "\tcategory = brown_categories[i]\n",
    "\tdocuments = brown.fileids(categories=category)\n",
    "\tnum_words_in_all_documents = 0\n",
    "\n",
    "\tfor document in documents:\n",
    "\t\tnum_words_in_all_documents += len(brown.words(fileids=document))\n",
    "\n",
    "\t# mean\n",
    "\tavg_num_words_per_category.append(num_words_in_all_documents / len(documents))\n",
    "\tmean = num_words_in_all_documents / len(documents)\n",
    "\ttotal_per_doc = 0\n",
    "\tfor document in documents:\n",
    "\t\tnum_words_in_doc = len(brown.words(fileids=document))\n",
    "\t\ttotal_per_doc += pow((num_words_in_doc - mean) ,2)\n",
    "\tstd_per_category.append(math.sqrt(total_per_doc / len(documents)))\n",
    "\n",
    "for i in range(len(brown_categories)):\n",
    "\tprint(f\"avg {brown_categories[i]}\",avg_num_words_per_category[i] , \"std\" , std_per_category[i])\n",
    "\t"
   ]
  },
  {
   "cell_type": "markdown",
   "metadata": {},
   "source": [
    "Solution with numpy"
   ]
  },
  {
   "cell_type": "code",
   "execution_count": 28,
   "metadata": {},
   "outputs": [
    {
     "name": "stdout",
     "output_type": "stream",
     "text": [
      "avg adventure 2391.103448275862 std 76.95244605356373\n",
      "avg belles_lettres 2307.9466666666667 std 64.64691657165268\n",
      "avg editorial 2281.6296296296296 std 48.05332543173272\n",
      "avg fiction 2361.655172413793 std 71.55864528221204\n",
      "avg government 2337.233333333333 std 98.64977896016235\n",
      "avg hobbies 2287.3611111111113 std 57.442798977077956\n",
      "avg humor 2410.5555555555557 std 96.29827633291967\n",
      "avg learned 2273.6 std 66.50537572256847\n",
      "avg lore 2297.8958333333335 std 59.243930625611114\n",
      "avg mystery 2382.0416666666665 std 55.38236720493467\n",
      "avg news 2285.318181818182 std 49.49920693913495\n",
      "avg religion 2317.5882352941176 std 57.065554484737284\n",
      "avg reviews 2394.3529411764707 std 74.93443500936675\n",
      "avg romance 2414.551724137931 std 91.73484511008986\n",
      "avg science_fiction 2411.6666666666665 std 46.87809249058194\n"
     ]
    }
   ],
   "source": [
    "import numpy as np \n",
    "# Implementieren Sie hier die beiden oben erwähnten Varianten\n",
    "avg_num_words_per_category = []\n",
    "std_per_category = []\n",
    "for i in range(len(brown_categories)):\n",
    "\tcategory = brown_categories[i]\n",
    "\tdocuments = brown.fileids(categories=category)\n",
    "\tnum_word_per_doc = [len(brown.words(fileids=document)) for document in documents]\n",
    "\tmean = np.mean(num_word_per_doc)\n",
    "\tstd = np.std(num_word_per_doc) \n",
    "\tprint(f\"avg {category} {mean}\", f\"std {std}\")\n",
    "\tavg_num_words_per_category.append(mean)"
   ]
  },
  {
   "cell_type": "code",
   "execution_count": 29,
   "metadata": {},
   "outputs": [
    {
     "data": {
      "application/vnd.jupyter.widget-view+json": {
       "model_id": "3c600df7fc4b41f0abf984b1d70d1086",
       "version_major": 2,
       "version_minor": 0
      },
      "image/png": "[encoded data removed]",
      "text/html": [
       "\n",
       "            <div style=\"display: inline-block;\">\n",
       "                <div class=\"jupyter-widgets widget-label\" style=\"text-align: center;\">\n",
       "                    Figure\n",
       "                </div>\n",
       "                <img src='data:image/png;base64,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' width=640.0/>\n",
       "            </div>\n",
       "        "
      ],
      "text/plain": [
       "Canvas(toolbar=Toolbar(toolitems=[('Home', 'Reset original view', 'home', 'home'), ('Back', 'Back to previous …"
      ]
     },
     "metadata": {},
     "output_type": "display_data"
    }
   ],
   "source": [
    "# visualize\n",
    "from common.visualization import hbar_plot\n",
    "hbar_plot(avg_num_words_per_category , brown_categories)"
   ]
  },
  {
   "cell_type": "markdown",
   "metadata": {
    "deletable": false,
    "editable": false,
    "nbgrader": {
     "cell_type": "markdown",
     "checksum": "d4114b178a9da4cb89a47d60eb1e4656",
     "grade": false,
     "grade_id": "cell-cb00a71c0bc0a9d7",
     "locked": true,
     "schema_version": 3,
     "solution": false,
     "task": false
    },
    "pycharm": {
     "name": "#%% md\n"
    },
    "tags": []
   },
   "source": [
    " ## Klassifikation von Dokumenten\n",
    "\n",
    "Nachdem Sie sich nun mit der Struktur und den Eigenschaften des Brown Corpus vertraut gemacht haben, soll er die Datengrundlage für die Evaluierung von Algorithmen zur automatischen Klassifikation von Dokumenten bilden.\n",
    "In der Regel bestehen diese Algorithmen aus drei Schritten:\n",
    " 1. Vorverarbeitung\n",
    " 2. Merkmalsberechnung\n",
    " 3. Klassifikation\n",
    "\n",
    "Bei der Anwendung auf Dokumente (Texte) werden diese Schritte wie folgt umgesetzt:\n",
    "\n",
    " - **Vorverarbeitung:** Filterung von stopwords und Abbildung von Wörtern auf Wortstämme.\n",
    " - **Merkmalsberechnung:** Jedes Dokument wird numerisch durch einen Vektor repräsentiert (--> NumPy), der möglichst die bzgl. der Klassifikation bedeutungsunterscheidenden Informationen enthählt.\n",
    " - **Klassifikation:** Jedem Merkmalsvektor (Dokument) wird ein Klassenindex (Kategorie) zugeordnet.\n",
    "\n",
    "Details finden Sie zum Beispiel in:\n",
    "http://www5.informatik.uni-erlangen.de/fileadmin/Persons/NiemannHeinrich/klassifikation-von-mustern/m00-www.pdf (section 1.3)\n",
    "\n",
    "Eine sehr verbreitete Merkmalsrepräsentation für (textuelle) Dokumente sind sogenannte Bag-of-Words. Dabei wird jedes Dokument durch ein Histogram (Verteilung) über Wortfrequenzen repräsentiert. Man betrachtet dazu das Vorkommen von 'typischen' Wörtern, die durch ein Vokabular gegeben sind.\n",
    "\n",
    "Bestimmen Sie ein Vokabular, also die typischen Wörter, für den Brown Corpus. Berechnen Sie dazu die 500 häufigsten Wörter (nach stemming und Filterung von stopwords und Satzzeichen).  \n",
    "Bestimmen Sie außerdem das `category_wordlists_dict`, welches als Eingabe für `BagofWords.category_bow_dict` im Modul [features](../common/features.py) dient."
   ]
  },
  {
   "cell_type": "code",
   "execution_count": null,
   "metadata": {},
   "outputs": [],
   "source": [
    "from common.features import BagOfWords, WordListNormalizer\n",
    "stop_words = CorpusLoader.stopwords_corpus()\n",
    "normalizer =  WordListNormalizer(stop_words)\n",
    "words , stemmed_words  = normalizer.normalize_words(brown_words)"
   ]
  },
  {
   "cell_type": "code",
   "execution_count": 35,
   "metadata": {
    "jupyter": {
     "outputs_hidden": false
    },
    "pycharm": {
     "name": "#%%\n"
    }
   },
   "outputs": [],
   "source": [
    "vocabulary = BagOfWords.most_freq_words(stemmed_words , 500)\n",
    "category_wordlists_dict = {}\n",
    "for category in brown_categories:\n",
    "\tcategory_wordlists_dict[category] = []\n",
    "\tdocs = brown.fileids(categories=category)\n",
    "\tfor doc in docs: \n",
    "\t\twords  = brown.words(fileids=doc)\n",
    "\t\tcategory_wordlists_dict[category].append(words)\n"
   ]
  },
  {
   "cell_type": "markdown",
   "metadata": {
    "deletable": false,
    "editable": false,
    "nbgrader": {
     "cell_type": "markdown",
     "checksum": "4c14d82dde1b379c1e1b7b6b40a48241",
     "grade": false,
     "grade_id": "cell-dccfa7251b70b432",
     "locked": true,
     "schema_version": 3,
     "solution": false,
     "task": false
    },
    "tags": []
   },
   "source": [
    "Berechnen Sie Bag-of-Words Repräsentationen für jedes Dokument des Brown Corpus. Verwenden Sie absolute Frequenzen. Speichern Sie die Bag-of-Word Repräsentationen für jede Kategorie in einem 2-D NumPy Array. Speichern Sie den Bag-of-Words Vektor für jedes Dokument in einer Zeile, so dass das Array (ndarray) folgende Dimension hat:\n",
    "\n",
    " |Dokument_kat| X |Vokabular|\n",
    "\n",
    "|Dokument_kat| entspricht der Anzahl Dokumente einer Kategorie.\n",
    "|Vokabular| entspricht der Anzahl Wörter im Vokabular (hier 500).\n",
    "\n",
    "Eine einfache Zuordnung von Kategorie und Bag-of-Words Matrix ist durch ein Dictionary möglich.\n",
    "\n",
    "Implementieren Sie die Funktion `BagOfWords.category_bow_dict` im Modul [features](../common/features.py)."
   ]
  },
  {
   "cell_type": "code",
   "execution_count": 60,
   "metadata": {
    "deletable": false,
    "editable": false,
    "jupyter": {
     "outputs_hidden": false
    },
    "nbgrader": {
     "cell_type": "code",
     "checksum": "e79e4a2cb469556b39e2b82d2e495b05",
     "grade": false,
     "grade_id": "cell-a54cb400e411d0bf",
     "locked": true,
     "schema_version": 3,
     "solution": false,
     "task": false
    },
    "pycharm": {
     "name": "#%%\n"
    },
    "tags": []
   },
   "outputs": [
    {
     "name": "stdout",
     "output_type": "stream",
     "text": [
      "Building Bag-of-Words feature vector representations...\n"
     ]
    }
   ],
   "source": [
    "print('Building Bag-of-Words feature vector representations...')\n",
    "bow = BagOfWords(vocabulary)\n",
    "category_bow_dict = bow.category_bow_dict(category_wordlists_dict)"
   ]
  },
  {
   "cell_type": "markdown",
   "metadata": {
    "deletable": false,
    "editable": false,
    "nbgrader": {
     "cell_type": "markdown",
     "checksum": "22d1243a8c062f59dbb887b5bfaed06a",
     "grade": false,
     "grade_id": "cell-df1f410cad5d2531",
     "locked": true,
     "schema_version": 3,
     "solution": false,
     "task": false
    },
    "tags": []
   },
   "source": [
    "Testen Sie ihre Implementierung mit folgendem Unittest:"
   ]
  },
  {
   "cell_type": "code",
   "execution_count": 61,
   "metadata": {
    "deletable": false,
    "editable": false,
    "jupyter": {
     "outputs_hidden": false
    },
    "nbgrader": {
     "cell_type": "code",
     "checksum": "f6512fe5c06428d41f052c8786aa1f05",
     "grade": false,
     "grade_id": "cell-a9178afaed717b50",
     "locked": true,
     "schema_version": 3,
     "solution": false,
     "task": false
    },
    "pycharm": {
     "name": "#%%\n"
    },
    "tags": []
   },
   "outputs": [
    {
     "name": "stderr",
     "output_type": "stream",
     "text": [
      ".\n",
      "----------------------------------------------------------------------\n",
      "Ran 1 test in 0.002s\n",
      "\n",
      "OK\n"
     ]
    },
    {
     "data": {
      "text/plain": [
       "<unittest.runner.TextTestResult run=1 errors=0 failures=0>"
      ]
     },
     "execution_count": 61,
     "metadata": {},
     "output_type": "execute_result"
    }
   ],
   "source": [
    "import unittest\n",
    "\n",
    "from utest.test_features import BagOfWordsTest\n",
    "\n",
    "suite = unittest.TestSuite()\n",
    "suite.addTest(BagOfWordsTest(\"test_category_bow_dict\"))\n",
    "runner = unittest.TextTestRunner()\n",
    "runner.run(suite)"
   ]
  },
  {
   "cell_type": "markdown",
   "metadata": {
    "deletable": false,
    "editable": false,
    "nbgrader": {
     "cell_type": "markdown",
     "checksum": "d1c6bd5351bcbc414dc44a927e7f829d",
     "grade": false,
     "grade_id": "cell-549cee3887e38839",
     "locked": true,
     "schema_version": 3,
     "solution": false,
     "task": false
    },
    "tags": []
   },
   "source": [
    "Um einen Klassifikator statistisch zu evaluieren, benötigt man eine Trainingsstichprobe und eine Teststichprobe der Daten die klassifiziert werden sollen. Die Trainingsstichprobe benötigt man zum Erstellen oder Trainieren des Klassifikators. Dabei werden in der Regel die Modellparameter des Klassifikators statistisch aus den Daten der Traingingsstichprobe geschätzt. Die Klassenzugehörigkeiten sind für die Beispiele aus der Trainingsstichprobe durch so genannte Klassenlabels gegeben.\n",
    "\n",
    "Nachdem man den Klassifikator trainiert hat, interessiert man sich normalerweise dafür wie gut er sich unter realen Bedingung verhält. Das heißt, dass der Klassifikator bei der Klassifikation zuvor unbekannter Daten möglichst wenige Fehler machen soll. Dies simuliert man mit der Teststichprobe. Da auch für jedes Beispiel aus der Teststichprobe die Klassenzugehörigkeit bekannt ist, kann man am Ende die Klassifikationsergebnisse mit den wahren Klassenlabels (aus der Teststichprobe) vergleichen und eine Fehlerrate angeben.\n",
    "\n",
    "In dem gegebenen Brown Corpus ist keine Aufteilung in Trainings- und Testdaten vorgegeben.\n",
    "\n",
    "Wählen Sie daher die ersten 80% der Dokumente ÜBER ALLE KATEGORIEN als Trainingstichprobe und die letzten 20% der Dokumente ÜBER ALLE KATEGORIEN als Teststichprobe.\n",
    "\n",
    "Erklären Sie, warum Sie die Stichproben über alle Kategorien zusammenstellen MÜSSEN."
   ]
  },
  {
   "cell_type": "markdown",
   "metadata": {
    "deletable": false,
    "editable": false,
    "nbgrader": {
     "cell_type": "markdown",
     "checksum": "f4288aa4af96af538ca56ea8ae70a3f2",
     "grade": false,
     "grade_id": "cell-54c24cb60f9a4df7",
     "locked": true,
     "schema_version": 3,
     "solution": false,
     "task": false
    },
    "tags": []
   },
   "source": [
    "**Antwort:**"
   ]
  },
  {
   "cell_type": "markdown",
   "metadata": {},
   "source": [
    "Damit das Model beim Training die Dokumente von allen Kategorien sieht"
   ]
  },
  {
   "cell_type": "markdown",
   "metadata": {},
   "source": []
  },
  {
   "cell_type": "markdown",
   "metadata": {
    "deletable": false,
    "editable": false,
    "nbgrader": {
     "cell_type": "markdown",
     "checksum": "1a2f89f38fe251cef73e8342062df6fd",
     "grade": false,
     "grade_id": "cell-44ebf3cbd72cce5e",
     "locked": true,
     "schema_version": 3,
     "solution": false,
     "task": false
    },
    "tags": []
   },
   "source": [
    "Bitte beachten Sie, dass wir im Rahmen des Fachprojekts keinen Test auf unbekannten Testdaten simulieren. Wir haben ja bereits für die Erstellung der Vokabulars (häufigste Wörter, siehe oben) den kompletten Datensatz verwendet. Stattdessen betrachten wir hier ein sogenanntes Validierungsszenario, in dem wir die Klassifikationsleistung auf dem Brown Corpus optimieren. Die Ergebnisse lassen sich somit nur sehr bedingt auf unbekannte Daten übertragen.\n",
    "\n",
    "Erstellen Sie nun die NumPy Arrays `train_samples`, `train_labels`, `test_samples` und `test_labels`, sodass diese mit den `estimate` und `classify` Methoden der Klassen im [`classification`](../common/classification.py) Modul verwendet werden können. Teilen Sie die Daten wie oben angegeben zu 80% in Trainingsdaten und 20% in Testdaten auf.\n",
    "\n",
    "Hinweis: Vollziehen Sie nach, wie die Klasse `CrossValidation` im [`evaluation`](../common/evaluation.py) Modul funktioniert. Wenn Sie möchten, können Sie die Klasse zur Aufteilung der Daten verwenden."
   ]
  },
  {
   "cell_type": "code",
   "execution_count": 113,
   "metadata": {
    "jupyter": {
     "outputs_hidden": false
    },
    "pycharm": {
     "name": "#%%\n"
    }
   },
   "outputs": [
    {
     "name": "stdout",
     "output_type": "stream",
     "text": [
      "[['adventure']\n",
      " ['adventure']\n",
      " ['adventure']\n",
      " ['adventure']\n",
      " ['adventure']\n",
      " ['adventure']\n",
      " ['adventure']\n",
      " ['adventure']\n",
      " ['adventure']\n",
      " ['adventure']\n",
      " ['adventure']\n",
      " ['adventure']\n",
      " ['adventure']\n",
      " ['adventure']\n",
      " ['adventure']\n",
      " ['adventure']\n",
      " ['adventure']\n",
      " ['adventure']\n",
      " ['adventure']\n",
      " ['adventure']\n",
      " ['adventure']\n",
      " ['adventure']\n",
      " ['adventure']\n",
      " ['belles_lettres']\n",
      " ['belles_lettres']\n",
      " ['belles_lettres']\n",
      " ['belles_lettres']\n",
      " ['belles_lettres']\n",
      " ['belles_lettres']\n",
      " ['belles_lettres']\n",
      " ['belles_lettres']\n",
      " ['belles_lettres']\n",
      " ['belles_lettres']\n",
      " ['belles_lettres']\n",
      " ['belles_lettres']\n",
      " ['belles_lettres']\n",
      " ['belles_lettres']\n",
      " ['belles_lettres']\n",
      " ['belles_lettres']\n",
      " ['belles_lettres']\n",
      " ['belles_lettres']\n",
      " ['belles_lettres']\n",
      " ['belles_lettres']\n",
      " ['belles_lettres']\n",
      " ['belles_lettres']\n",
      " ['belles_lettres']\n",
      " ['belles_lettres']\n",
      " ['belles_lettres']\n",
      " ['belles_lettres']\n",
      " ['belles_lettres']\n",
      " ['belles_lettres']\n",
      " ['belles_lettres']\n",
      " ['belles_lettres']\n",
      " ['belles_lettres']\n",
      " ['belles_lettres']\n",
      " ['belles_lettres']\n",
      " ['belles_lettres']\n",
      " ['belles_lettres']\n",
      " ['belles_lettres']\n",
      " ['belles_lettres']\n",
      " ['belles_lettres']\n",
      " ['belles_lettres']\n",
      " ['belles_lettres']\n",
      " ['belles_lettres']\n",
      " ['belles_lettres']\n",
      " ['belles_lettres']\n",
      " ['belles_lettres']\n",
      " ['belles_lettres']\n",
      " ['belles_lettres']\n",
      " ['belles_lettres']\n",
      " ['belles_lettres']\n",
      " ['belles_lettres']\n",
      " ['belles_lettres']\n",
      " ['belles_lettres']\n",
      " ['belles_lettres']\n",
      " ['belles_lettres']\n",
      " ['belles_lettres']\n",
      " ['belles_lettres']\n",
      " ['belles_lettres']\n",
      " ['belles_lettres']\n",
      " ['belles_lettres']\n",
      " ['belles_lettres']\n",
      " ['belles_lettres']\n",
      " ['editorial']\n",
      " ['editorial']\n",
      " ['editorial']\n",
      " ['editorial']\n",
      " ['editorial']\n",
      " ['editorial']\n",
      " ['editorial']\n",
      " ['editorial']\n",
      " ['editorial']\n",
      " ['editorial']\n",
      " ['editorial']\n",
      " ['editorial']\n",
      " ['editorial']\n",
      " ['editorial']\n",
      " ['editorial']\n",
      " ['editorial']\n",
      " ['editorial']\n",
      " ['editorial']\n",
      " ['editorial']\n",
      " ['editorial']\n",
      " ['editorial']\n",
      " ['editorial']\n",
      " ['fiction']\n",
      " ['fiction']\n",
      " ['fiction']\n",
      " ['fiction']\n",
      " ['fiction']\n",
      " ['fiction']\n",
      " ['fiction']\n",
      " ['fiction']\n",
      " ['fiction']\n",
      " ['fiction']\n",
      " ['fiction']\n",
      " ['fiction']\n",
      " ['fiction']\n",
      " ['fiction']\n",
      " ['fiction']\n",
      " ['fiction']\n",
      " ['fiction']\n",
      " ['fiction']\n",
      " ['fiction']\n",
      " ['fiction']\n",
      " ['fiction']\n",
      " ['fiction']\n",
      " ['fiction']\n",
      " ['government']\n",
      " ['government']\n",
      " ['government']\n",
      " ['government']\n",
      " ['government']\n",
      " ['government']\n",
      " ['government']\n",
      " ['government']\n",
      " ['government']\n",
      " ['government']\n",
      " ['government']\n",
      " ['government']\n",
      " ['government']\n",
      " ['government']\n",
      " ['government']\n",
      " ['government']\n",
      " ['government']\n",
      " ['government']\n",
      " ['government']\n",
      " ['government']\n",
      " ['government']\n",
      " ['government']\n",
      " ['government']\n",
      " ['government']\n",
      " ['hobbies']\n",
      " ['hobbies']\n",
      " ['hobbies']\n",
      " ['hobbies']\n",
      " ['hobbies']\n",
      " ['hobbies']\n",
      " ['hobbies']\n",
      " ['hobbies']\n",
      " ['hobbies']\n",
      " ['hobbies']\n",
      " ['hobbies']\n",
      " ['hobbies']\n",
      " ['hobbies']\n",
      " ['hobbies']\n",
      " ['hobbies']\n",
      " ['hobbies']\n",
      " ['hobbies']\n",
      " ['hobbies']\n",
      " ['hobbies']\n",
      " ['hobbies']\n",
      " ['hobbies']\n",
      " ['hobbies']\n",
      " ['hobbies']\n",
      " ['hobbies']\n",
      " ['hobbies']\n",
      " ['hobbies']\n",
      " ['hobbies']\n",
      " ['hobbies']\n",
      " ['hobbies']\n",
      " ['humor']\n",
      " ['humor']\n",
      " ['humor']\n",
      " ['humor']\n",
      " ['humor']\n",
      " ['humor']\n",
      " ['humor']\n",
      " ['learned']\n",
      " ['learned']\n",
      " ['learned']\n",
      " ['learned']\n",
      " ['learned']\n",
      " ['learned']\n",
      " ['learned']\n",
      " ['learned']\n",
      " ['learned']\n",
      " ['learned']\n",
      " ['learned']\n",
      " ['learned']\n",
      " ['learned']\n",
      " ['learned']\n",
      " ['learned']\n",
      " ['learned']\n",
      " ['learned']\n",
      " ['learned']\n",
      " ['learned']\n",
      " ['learned']\n",
      " ['learned']\n",
      " ['learned']\n",
      " ['learned']\n",
      " ['learned']\n",
      " ['learned']\n",
      " ['learned']\n",
      " ['learned']\n",
      " ['learned']\n",
      " ['learned']\n",
      " ['learned']\n",
      " ['learned']\n",
      " ['learned']\n",
      " ['learned']\n",
      " ['learned']\n",
      " ['learned']\n",
      " ['learned']\n",
      " ['learned']\n",
      " ['learned']\n",
      " ['learned']\n",
      " ['learned']\n",
      " ['learned']\n",
      " ['learned']\n",
      " ['learned']\n",
      " ['learned']\n",
      " ['learned']\n",
      " ['learned']\n",
      " ['learned']\n",
      " ['learned']\n",
      " ['learned']\n",
      " ['learned']\n",
      " ['learned']\n",
      " ['learned']\n",
      " ['learned']\n",
      " ['learned']\n",
      " ['learned']\n",
      " ['learned']\n",
      " ['learned']\n",
      " ['learned']\n",
      " ['learned']\n",
      " ['learned']\n",
      " ['learned']\n",
      " ['learned']\n",
      " ['learned']\n",
      " ['learned']\n",
      " ['lore']\n",
      " ['lore']\n",
      " ['lore']\n",
      " ['lore']\n",
      " ['lore']\n",
      " ['lore']\n",
      " ['lore']\n",
      " ['lore']\n",
      " ['lore']\n",
      " ['lore']\n",
      " ['lore']\n",
      " ['lore']\n",
      " ['lore']\n",
      " ['lore']\n",
      " ['lore']\n",
      " ['lore']\n",
      " ['lore']\n",
      " ['lore']\n",
      " ['lore']\n",
      " ['lore']\n",
      " ['lore']\n",
      " ['lore']\n",
      " ['lore']\n",
      " ['lore']\n",
      " ['lore']\n",
      " ['lore']\n",
      " ['lore']\n",
      " ['lore']\n",
      " ['lore']\n",
      " ['lore']\n",
      " ['lore']\n",
      " ['lore']\n",
      " ['lore']\n",
      " ['lore']\n",
      " ['lore']\n",
      " ['lore']\n",
      " ['lore']\n",
      " ['lore']\n",
      " ['mystery']\n",
      " ['mystery']\n",
      " ['mystery']\n",
      " ['mystery']\n",
      " ['mystery']\n",
      " ['mystery']\n",
      " ['mystery']\n",
      " ['mystery']\n",
      " ['mystery']\n",
      " ['mystery']\n",
      " ['mystery']\n",
      " ['mystery']\n",
      " ['mystery']\n",
      " ['mystery']\n",
      " ['mystery']\n",
      " ['mystery']\n",
      " ['mystery']\n",
      " ['mystery']\n",
      " ['mystery']\n",
      " ['news']\n",
      " ['news']\n",
      " ['news']\n",
      " ['news']\n",
      " ['news']\n",
      " ['news']\n",
      " ['news']\n",
      " ['news']\n",
      " ['news']\n",
      " ['news']\n",
      " ['news']\n",
      " ['news']\n",
      " ['news']\n",
      " ['news']\n",
      " ['news']\n",
      " ['news']\n",
      " ['news']\n",
      " ['news']\n",
      " ['news']\n",
      " ['news']\n",
      " ['news']\n",
      " ['news']\n",
      " ['news']\n",
      " ['news']\n",
      " ['news']\n",
      " ['news']\n",
      " ['news']\n",
      " ['news']\n",
      " ['news']\n",
      " ['news']\n",
      " ['news']\n",
      " ['news']\n",
      " ['news']\n",
      " ['news']\n",
      " ['news']\n",
      " ['religion']\n",
      " ['religion']\n",
      " ['religion']\n",
      " ['religion']\n",
      " ['religion']\n",
      " ['religion']\n",
      " ['religion']\n",
      " ['religion']\n",
      " ['religion']\n",
      " ['religion']\n",
      " ['religion']\n",
      " ['religion']\n",
      " ['religion']\n",
      " ['religion']\n",
      " ['reviews']\n",
      " ['reviews']\n",
      " ['reviews']\n",
      " ['reviews']\n",
      " ['reviews']\n",
      " ['reviews']\n",
      " ['reviews']\n",
      " ['reviews']\n",
      " ['reviews']\n",
      " ['reviews']\n",
      " ['reviews']\n",
      " ['reviews']\n",
      " ['reviews']\n",
      " ['reviews']\n",
      " ['romance']\n",
      " ['romance']\n",
      " ['romance']\n",
      " ['romance']\n",
      " ['romance']\n",
      " ['romance']\n",
      " ['romance']\n",
      " ['romance']\n",
      " ['romance']\n",
      " ['romance']\n",
      " ['romance']\n",
      " ['romance']\n",
      " ['romance']\n",
      " ['romance']\n",
      " ['romance']\n",
      " ['romance']\n",
      " ['romance']\n",
      " ['romance']\n",
      " ['romance']\n",
      " ['romance']\n",
      " ['romance']\n",
      " ['romance']\n",
      " ['romance']\n",
      " ['science_fiction']\n",
      " ['science_fiction']\n",
      " ['science_fiction']\n",
      " ['science_fiction']\n",
      " ['science_fiction']]\n"
     ]
    }
   ],
   "source": [
    "from common.evaluation import CrossValidation\n",
    "cv = CrossValidation(category_bow_dict , 5)\n",
    "train_samples , train_labels , test_samples , test_labels = cv.corpus_fold(2)\n",
    "print(train_labels)\n"
   ]
  },
  {
   "cell_type": "markdown",
   "metadata": {
    "deletable": false,
    "editable": false,
    "nbgrader": {
     "cell_type": "markdown",
     "checksum": "3b06b76ff7bcff36ab0fb1dd4d3a3e15",
     "grade": false,
     "grade_id": "cell-37b3b2967c00d127",
     "locked": true,
     "schema_version": 3,
     "solution": false,
     "task": false
    },
    "tags": []
   },
   "source": [
    "Klassifizieren Sie nun alle Dokumente der Teststichprobe nach dem Prinzip des k-nächste-Nachbarn Klassifikators. Dabei wird die Distanz zwischen dem Merkmalsvektor eines Testbeispiels und allen Merkmalsvektoren aus der Trainingstichprobe berechnet. Das Klassenlabel des Testbeispiels wird dann über einen Mehrheitsentscheid der Klassenlabels der k ähnlichsten Merkmalsvektoren aus der Trainingsstichprobe bestimmt.\n",
    "\n",
    "http://www5.informatik.uni-erlangen.de/fileadmin/Persons/NiemannHeinrich/klassifikation-von-mustern/m00-www.pdf (Abschnitt 4.2.7)\n",
    "\n",
    "Bestimmen Sie die Distanzen von Testdaten zu Trainingsdaten mit cdist:  \n",
    "http://docs.scipy.org/doc/scipy/reference/generated/scipy.spatial.distance.cdist.html  \n",
    "Bestimmen Sie die k-nächsten Nachbarn auf Grundlage der zuvor berechneten Distanzen mit argsort:  \n",
    "http://docs.scipy.org/doc/numpy/reference/generated/numpy.argsort.html  \n",
    "Überlegen Sie, welche zuvor von Ihnen implementierte Funktion Sie wiederverwenden können, um den Mehrheitsentscheid umzusetzen.  \n",
    "\n",
    "Implementieren Sie die Funktionen `estimate` und `classify` in der Klasse `KNNClassifier` im Modul [`classification`](../common/classification.py).\n",
    "\n",
    "Verwenden Sie die Euklidische Distanz und betrachten Sie zunächst nur den nächsten Nachbarn (k=1).\n",
    "\n",
    "HINWEIS: Hier ist zunächst nur die Implementierung eines nächster Nachbar Klassifikators erforderlich. Diese soll aber in der nächsten Aufgabe zu einer Implementierung eines k-nächste Nachbarn Klassifikators erweitert werden. Berüchsichtigen Sie das in ihrer Implementierung.\n"
   ]
  },
  {
   "cell_type": "code",
   "execution_count": 163,
   "metadata": {
    "deletable": false,
    "editable": false,
    "jupyter": {
     "outputs_hidden": false
    },
    "nbgrader": {
     "cell_type": "code",
     "checksum": "66a77739f30bab3cdf9bb870618f7a48",
     "grade": false,
     "grade_id": "cell-b8c8d77c91ede8c1",
     "locked": true,
     "schema_version": 3,
     "solution": false,
     "task": false
    },
    "pycharm": {
     "name": "#%%\n"
    },
    "tags": []
   },
   "outputs": [
    {
     "name": "stdout",
     "output_type": "stream",
     "text": [
      "[['romance']\n",
      " ['fiction']\n",
      " ['mystery']\n",
      " ['belles_lettres']\n",
      " ['humor']\n",
      " ['lore']\n",
      " ['science_fiction']\n",
      " ['editorial']\n",
      " ['belles_lettres']\n",
      " ['lore']\n",
      " ['news']\n",
      " ['learned']\n",
      " ['belles_lettres']\n",
      " ['belles_lettres']\n",
      " ['reviews']\n",
      " ['belles_lettres']\n",
      " ['reviews']\n",
      " ['lore']\n",
      " ['belles_lettres']\n",
      " ['learned']\n",
      " ['editorial']\n",
      " ['editorial']\n",
      " ['belles_lettres']\n",
      " ['humor']\n",
      " ['news']\n",
      " ['news']\n",
      " ['romance']\n",
      " ['fiction']\n",
      " ['mystery']\n",
      " ['romance']\n",
      " ['romance']\n",
      " ['science_fiction']\n",
      " ['belles_lettres']\n",
      " ['belles_lettres']\n",
      " ['editorial']\n",
      " ['government']\n",
      " ['government']\n",
      " ['learned']\n",
      " ['fiction']\n",
      " ['lore']\n",
      " ['lore']\n",
      " ['lore']\n",
      " ['reviews']\n",
      " ['learned']\n",
      " ['learned']\n",
      " ['science_fiction']\n",
      " ['news']\n",
      " ['learned']\n",
      " ['learned']\n",
      " ['editorial']\n",
      " ['learned']\n",
      " ['learned']\n",
      " ['news']\n",
      " ['news']\n",
      " ['hobbies']\n",
      " ['belles_lettres']\n",
      " ['learned']\n",
      " ['lore']\n",
      " ['lore']\n",
      " ['belles_lettres']\n",
      " ['reviews']\n",
      " ['learned']\n",
      " ['learned']\n",
      " ['belles_lettres']\n",
      " ['lore']\n",
      " ['hobbies']\n",
      " ['belles_lettres']\n",
      " ['editorial']\n",
      " ['learned']\n",
      " ['lore']\n",
      " ['lore']\n",
      " ['belles_lettres']\n",
      " ['editorial']\n",
      " ['adventure']\n",
      " ['mystery']\n",
      " ['mystery']\n",
      " ['romance']\n",
      " ['belles_lettres']\n",
      " ['news']\n",
      " ['editorial']\n",
      " ['news']\n",
      " ['news']\n",
      " ['news']\n",
      " ['government']\n",
      " ['lore']\n",
      " ['belles_lettres']\n",
      " ['lore']\n",
      " ['editorial']\n",
      " ['learned']\n",
      " ['religion']\n",
      " ['lore']\n",
      " ['reviews']\n",
      " ['news']\n",
      " ['mystery']\n",
      " ['romance']\n",
      " ['adventure']\n",
      " ['adventure']\n",
      " ['romance']\n",
      " ['fiction']\n",
      " ['mystery']]\n"
     ]
    }
   ],
   "source": [
    "from common.classification import KNNClassifier\n",
    "\n",
    "knn_classifier = KNNClassifier(k_neighbors=1, metric='euclidean')\n",
    "knn_classifier.estimate(train_samples, train_labels)\n",
    "knn_test_labels = knn_classifier.classify(test_samples)\n",
    "print(knn_test_labels)"
   ]
  },
  {
   "cell_type": "markdown",
   "metadata": {
    "deletable": false,
    "editable": false,
    "nbgrader": {
     "cell_type": "markdown",
     "checksum": "f678db4733f85bf1b634aae09f0abd66",
     "grade": false,
     "grade_id": "cell-891889fd39c22fd5",
     "locked": true,
     "schema_version": 3,
     "solution": false,
     "task": false
    },
    "tags": []
   },
   "source": [
    "Testen Sie ihre Implementierung mit folgendem Unittest:"
   ]
  },
  {
   "cell_type": "code",
   "execution_count": 162,
   "metadata": {
    "deletable": false,
    "editable": false,
    "jupyter": {
     "outputs_hidden": false
    },
    "nbgrader": {
     "cell_type": "code",
     "checksum": "c9c304a956b3cfd603c2c7d3882b16ab",
     "grade": false,
     "grade_id": "cell-673f3ab628869cb9",
     "locked": true,
     "schema_version": 3,
     "solution": false,
     "task": false
    },
    "pycharm": {
     "name": "#%%\n"
    },
    "tags": []
   },
   "outputs": [
    {
     "name": "stderr",
     "output_type": "stream",
     "text": [
      "."
     ]
    },
    {
     "name": "stdout",
     "output_type": "stream",
     "text": [
      "nn_test\n"
     ]
    },
    {
     "name": "stderr",
     "output_type": "stream",
     "text": [
      "\n",
      "----------------------------------------------------------------------\n",
      "Ran 1 test in 0.002s\n",
      "\n",
      "OK\n"
     ]
    },
    {
     "data": {
      "text/plain": [
       "<unittest.runner.TextTestResult run=1 errors=0 failures=0>"
      ]
     },
     "execution_count": 162,
     "metadata": {},
     "output_type": "execute_result"
    }
   ],
   "source": [
    "import unittest\n",
    "from utest.test_classification import ClassificationTest\n",
    "\n",
    "suite = unittest.TestSuite()\n",
    "suite.addTest(ClassificationTest(\"test_nn\"))\n",
    "runner = unittest.TextTestRunner()\n",
    "runner.run(suite)"
   ]
  },
  {
   "cell_type": "markdown",
   "metadata": {
    "deletable": false,
    "editable": false,
    "nbgrader": {
     "cell_type": "markdown",
     "checksum": "de3217c1fb00d16701d519f816b77141",
     "grade": false,
     "grade_id": "cell-1d016d55219c64be",
     "locked": true,
     "schema_version": 3,
     "solution": false,
     "task": false
    },
    "pycharm": {
     "name": "#%% md\n"
    },
    "tags": []
   },
   "source": [
    "Nachdem Sie mit dem `KNNClassifier` für jedes Testbeispiel ein Klassenlabel geschätzt haben, können Sie dieses mit dem tatsächlichen Klassenlabel vergleichen. Dieses können Sie wie bei den Traingingsdaten dem Corpus entnehmen.\n",
    "\n",
    "Ermitteln Sie eine Gesamtfehlerrate und je eine Fehlerrate pro Kategorie. Implementieren Sie dazu die Klasse `ClassificationEvaluator` im [`evaluation`](../common/evaluation.py) Modul.\n",
    "\n",
    "Warum ist diese Aufteilung der Daten in Training und Test problematisch? Was sagen die Ergebnisse aus?"
   ]
  },
  {
   "cell_type": "markdown",
   "metadata": {
    "deletable": false,
    "editable": false,
    "nbgrader": {
     "cell_type": "markdown",
     "checksum": "e068483eeacf702f532cc3d666b33e2f",
     "grade": false,
     "grade_id": "cell-3df1fc47e3827423",
     "locked": true,
     "schema_version": 3,
     "solution": false,
     "task": false
    },
    "tags": []
   },
   "source": [
    "**Antwort:**"
   ]
  },
  {
   "cell_type": "markdown",
   "metadata": {},
   "source": []
  },
  {
   "cell_type": "code",
   "execution_count": null,
   "metadata": {
    "deletable": false,
    "editable": false,
    "jupyter": {
     "outputs_hidden": false
    },
    "nbgrader": {
     "cell_type": "code",
     "checksum": "824baa88269bebf82f5ae0e8796b8276",
     "grade": false,
     "grade_id": "cell-0286f300aaaface9",
     "locked": true,
     "schema_version": 3,
     "solution": false,
     "task": false
    },
    "pycharm": {
     "name": "#%%\n"
    },
    "tags": []
   },
   "outputs": [],
   "source": [
    "from common.evaluation import ClassificationEvaluator\n",
    "\n",
    "classification_eval = ClassificationEvaluator(knn_test_labels, test_labels)\n",
    "err, n_wrong, n_sampels = classification_eval.error_rate()\n",
    "category_error_rates = classification_eval.category_error_rates()\n",
    "print('Classification error rates: ( n_wrong, n_samples ) error_rate')\n",
    "print('\\t{:15}: ( {:3} / {:3} ) {:6,.2f} %'.format('Overall', n_wrong, n_sampels, err))\n",
    "print('Class specific :')\n",
    "for category, err, n_wrong, n_samples in category_error_rates:\n",
    "    print('\\t{:15}: ( {:3} / {:3} ) {:6,.2f} %'.format(category, n_wrong, n_samples, err))"
   ]
  },
  {
   "cell_type": "markdown",
   "metadata": {
    "deletable": false,
    "editable": false,
    "nbgrader": {
     "cell_type": "markdown",
     "checksum": "1c4b88fef824677cac08ed6938551cae",
     "grade": false,
     "grade_id": "cell-49c13db10a61d8e1",
     "locked": true,
     "schema_version": 3,
     "solution": false,
     "task": false
    },
    "pycharm": {
     "name": "#%% md\n"
    },
    "tags": []
   },
   "source": [
    "Testen Sie ihre Implementierung mit folgendem Unittest:"
   ]
  },
  {
   "cell_type": "code",
   "execution_count": null,
   "metadata": {
    "deletable": false,
    "editable": false,
    "jupyter": {
     "outputs_hidden": false
    },
    "nbgrader": {
     "cell_type": "code",
     "checksum": "cdccd6718f18a2539a1bc2ae1c79884d",
     "grade": false,
     "grade_id": "cell-f309ea92246629e6",
     "locked": true,
     "schema_version": 3,
     "solution": false,
     "task": false
    },
    "pycharm": {
     "name": "#%%\n"
    },
    "tags": []
   },
   "outputs": [],
   "source": [
    "import unittest\n",
    "\n",
    "from utest.test_evaluation import ClassificationEvaluatorTest\n",
    "unittest.main(ClassificationEvaluatorTest(), argv=[''], exit=False)"
   ]
  }
 ],
 "metadata": {
  "kernelspec": {
   "display_name": "Python 3.8.10 ('venv': venv)",
   "language": "python",
   "name": "python3"
  },
  "language_info": {
   "codemirror_mode": {
    "name": "ipython",
    "version": 3
   },
   "file_extension": ".py",
   "mimetype": "text/x-python",
   "name": "python",
   "nbconvert_exporter": "python",
   "pygments_lexer": "ipython3",
   "version": "3.8.10"
  },
  "vscode": {
   "interpreter": {
    "hash": "532930a045c70b6179a9e76aad6b950d5161a1fd1537a8fdd1aa5c1fdfc9fb89"
   }
  }
 },
 "nbformat": 4,
 "nbformat_minor": 4
}
