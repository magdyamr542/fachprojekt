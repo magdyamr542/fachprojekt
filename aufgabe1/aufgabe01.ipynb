{
 "cells": [
  {
   "cell_type": "markdown",
   "metadata": {
    "deletable": false,
    "editable": false,
    "nbgrader": {
     "cell_type": "markdown",
     "checksum": "6b26ea4d1d33ade197c4df046c3f995f",
     "grade": false,
     "grade_id": "cell-84add916f922e23f",
     "locked": true,
     "schema_version": 3,
     "solution": false,
     "task": false
    },
    "pycharm": {
     "name": "#%% md\n"
    }
   },
   "source": [
    "**Fachprojekt Dokumentenanalyse** *WS 22/23* -- *Philipp Oberdiek, Gernot A. Fink* -- *Technische Universität Dortmund, Lehrstuhl XII, Mustererkennung in eingebetteten Systemen*\n",
    "---\n",
    "# Aufgabe 1: Brown Corpus\n",
    "\n",
    "In der ersten Aufgabe sollen Sie sich mit dem Brown Corpus vertraut machen.\n",
    " - Laden Sie den Corpus und schauen Sie sich dessen Aufbau an.\n",
    " - Analysieren Sie den Corpus in dem Sie Wortstatistiken bestimmen.\n",
    " - Verbessern Sie die Aussagekraft der Statistiken.\n",
    "\n",
    "## Laden des Corpus\n",
    "Für das Fachprojekt benötigen Sie die NLTK (http://www.nltk.org/) Datensätze \"brown\" und \"stopwords\". Falls diese noch nicht lokal auf Ihrem Rechner verfügbar sein sollten, können Sie sie über den \"NLTK Downloader\" herunterladen. Ein entsprechender Dialog öffnet sich in diesem Fall automatisch.\n"
   ]
  },
  {
   "cell_type": "code",
   "execution_count": 3,
   "metadata": {
    "deletable": false,
    "editable": false,
    "jupyter": {
     "outputs_hidden": false
    },
    "nbgrader": {
     "cell_type": "code",
     "checksum": "de525fc23f4b5e8224107f6d35b71943",
     "grade": false,
     "grade_id": "cell-c45e5706e93c60a3",
     "locked": true,
     "schema_version": 3,
     "solution": false,
     "task": false
    },
    "pycharm": {
     "name": "#%%\n"
    }
   },
   "outputs": [],
   "source": [
    "%load_ext autoreload\n",
    "%autoreload 2\n",
    "%matplotlib widget\n",
    "\n",
    "import sys\n",
    "\n",
    "if \"..\" not in sys.path:\n",
    "    sys.path.append(\"..\")\n",
    "    \n",
    "from common.corpus import CorpusLoader\n",
    "\n",
    "CorpusLoader.load()"
   ]
  },
  {
   "cell_type": "markdown",
   "metadata": {
    "deletable": false,
    "editable": false,
    "nbgrader": {
     "cell_type": "markdown",
     "checksum": "8e72ca53544e59757605373ea31a3cf8",
     "grade": false,
     "grade_id": "cell-85c0a3032dd46c36",
     "locked": true,
     "schema_version": 3,
     "solution": false,
     "task": false
    }
   },
   "source": [
    "Im Folgenden werden einige grundlegende Statistiken des Brown Corpus ausgegeben, die vor allem etwas über dessen Struktur / Aufbau aussagen.\n",
    "\n",
    "Siehe auch: http://en.wikipedia.org/wiki/Brown_Corpus\n",
    "\n",
    "Der Corpus enthält verschiedene Kategorien, in die Dokumente einsortiert sind. Ein Dokument besteht aus Wörtern. Als nächstes sehen Sie, wie Sie auf Kategorien, Dokumente und Wörter zugreifen können."
   ]
  },
  {
   "cell_type": "code",
   "execution_count": 19,
   "metadata": {
    "deletable": false,
    "editable": false,
    "jupyter": {
     "outputs_hidden": false
    },
    "nbgrader": {
     "cell_type": "code",
     "checksum": "d982f9083f9e1bc463d942df80050a3e",
     "grade": false,
     "grade_id": "cell-69a976882afa9bc0",
     "locked": true,
     "schema_version": 3,
     "solution": false,
     "task": false
    },
    "pycharm": {
     "name": "#%%\n"
    }
   },
   "outputs": [
    {
     "data": {
      "text/plain": [
       "['adventure',\n",
       " 'belles_lettres',\n",
       " 'editorial',\n",
       " 'fiction',\n",
       " 'government',\n",
       " 'hobbies',\n",
       " 'humor',\n",
       " 'learned',\n",
       " 'lore',\n",
       " 'mystery',\n",
       " 'news',\n",
       " 'religion',\n",
       " 'reviews',\n",
       " 'romance',\n",
       " 'science_fiction']"
      ]
     },
     "execution_count": 19,
     "metadata": {},
     "output_type": "execute_result"
    }
   ],
   "source": [
    "brown = CorpusLoader.brown_corpus()\n",
    "brown_categories = brown.categories()\n",
    "brown_documents = brown.fileids()\n",
    "brown_words = brown.words()\n"
   ]
  },
  {
   "cell_type": "markdown",
   "metadata": {
    "deletable": false,
    "editable": false,
    "nbgrader": {
     "cell_type": "markdown",
     "checksum": "71865bb10cf59f6a7ca5c80f9cd1f5f1",
     "grade": false,
     "grade_id": "cell-e7dbe7aac64a0953",
     "locked": true,
     "schema_version": 3,
     "solution": false,
     "task": false
    },
    "pycharm": {
     "name": "#%% md\n"
    }
   },
   "source": [
    "Geben Sie nun die Gesamtanzahl von Kategorien, Dokumenten und Wörtern mit print aus."
   ]
  },
  {
   "cell_type": "code",
   "execution_count": 14,
   "metadata": {
    "jupyter": {
     "outputs_hidden": false
    },
    "pycharm": {
     "name": "#%%\n"
    },
    "tags": []
   },
   "outputs": [
    {
     "name": "stdout",
     "output_type": "stream",
     "text": [
      "Gesamtanzahl Kategorien: 15\n",
      "Gesamtanzahl Dokumenten: 500\n",
      "Gesamtanzahl Woertern: 1161192\n"
     ]
    }
   ],
   "source": [
    "print(\"Gesamtanzahl Kategorien:\", len(brown_categories))\n",
    "print(\"Gesamtanzahl Dokumenten:\", len(brown_documents))\n",
    "print(\"Gesamtanzahl Woertern:\", len(brown_words))"
   ]
  },
  {
   "cell_type": "markdown",
   "metadata": {
    "deletable": false,
    "editable": false,
    "nbgrader": {
     "cell_type": "markdown",
     "checksum": "1f8d008e6a7ff45d9bc0f13b3152c0e9",
     "grade": false,
     "grade_id": "cell-77636fba7f7320f0",
     "locked": true,
     "schema_version": 3,
     "solution": false,
     "task": false
    }
   },
   "source": [
    "Geben Sie die Namen der einzelnen Kategorien aus."
   ]
  },
  {
   "cell_type": "code",
   "execution_count": 43,
   "metadata": {
    "jupyter": {
     "outputs_hidden": false
    },
    "pycharm": {
     "name": "#%%\n"
    },
    "tags": []
   },
   "outputs": [
    {
     "name": "stdout",
     "output_type": "stream",
     "text": [
      "categories (15):\n",
      "['adventure', 'belles_lettres', 'editorial', 'fiction', 'government', 'hobbies', 'humor', 'learned', 'lore', 'mystery', 'news', 'religion', 'reviews', 'romance', 'science_fiction']\n",
      "docs (500):\n",
      "['ca01', 'ca02', 'ca03', 'ca04', 'ca05', 'ca06', 'ca07', 'ca08', 'ca09', 'ca10', 'ca11', 'ca12', 'ca13', 'ca14', 'ca15', 'ca16', 'ca17', 'ca18', 'ca19', 'ca20', 'ca21', 'ca22', 'ca23', 'ca24', 'ca25', 'ca26', 'ca27', 'ca28', 'ca29', 'ca30', 'ca31', 'ca32', 'ca33', 'ca34', 'ca35', 'ca36', 'ca37', 'ca38', 'ca39', 'ca40', 'ca41', 'ca42', 'ca43', 'ca44', 'cb01', 'cb02', 'cb03', 'cb04', 'cb05', 'cb06', 'cb07', 'cb08', 'cb09', 'cb10', 'cb11', 'cb12', 'cb13', 'cb14', 'cb15', 'cb16', 'cb17', 'cb18', 'cb19', 'cb20', 'cb21', 'cb22', 'cb23', 'cb24', 'cb25', 'cb26', 'cb27', 'cc01', 'cc02', 'cc03', 'cc04', 'cc05', 'cc06', 'cc07', 'cc08', 'cc09', 'cc10', 'cc11', 'cc12', 'cc13', 'cc14', 'cc15', 'cc16', 'cc17', 'cd01', 'cd02', 'cd03', 'cd04', 'cd05', 'cd06', 'cd07', 'cd08', 'cd09', 'cd10', 'cd11', 'cd12', 'cd13', 'cd14', 'cd15', 'cd16', 'cd17', 'ce01', 'ce02', 'ce03', 'ce04', 'ce05', 'ce06', 'ce07', 'ce08', 'ce09', 'ce10', 'ce11', 'ce12', 'ce13', 'ce14', 'ce15', 'ce16', 'ce17', 'ce18', 'ce19', 'ce20', 'ce21', 'ce22', 'ce23', 'ce24', 'ce25', 'ce26', 'ce27', 'ce28', 'ce29', 'ce30', 'ce31', 'ce32', 'ce33', 'ce34', 'ce35', 'ce36', 'cf01', 'cf02', 'cf03', 'cf04', 'cf05', 'cf06', 'cf07', 'cf08', 'cf09', 'cf10', 'cf11', 'cf12', 'cf13', 'cf14', 'cf15', 'cf16', 'cf17', 'cf18', 'cf19', 'cf20', 'cf21', 'cf22', 'cf23', 'cf24', 'cf25', 'cf26', 'cf27', 'cf28', 'cf29', 'cf30', 'cf31', 'cf32', 'cf33', 'cf34', 'cf35', 'cf36', 'cf37', 'cf38', 'cf39', 'cf40', 'cf41', 'cf42', 'cf43', 'cf44', 'cf45', 'cf46', 'cf47', 'cf48', 'cg01', 'cg02', 'cg03', 'cg04', 'cg05', 'cg06', 'cg07', 'cg08', 'cg09', 'cg10', 'cg11', 'cg12', 'cg13', 'cg14', 'cg15', 'cg16', 'cg17', 'cg18', 'cg19', 'cg20', 'cg21', 'cg22', 'cg23', 'cg24', 'cg25', 'cg26', 'cg27', 'cg28', 'cg29', 'cg30', 'cg31', 'cg32', 'cg33', 'cg34', 'cg35', 'cg36', 'cg37', 'cg38', 'cg39', 'cg40', 'cg41', 'cg42', 'cg43', 'cg44', 'cg45', 'cg46', 'cg47', 'cg48', 'cg49', 'cg50', 'cg51', 'cg52', 'cg53', 'cg54', 'cg55', 'cg56', 'cg57', 'cg58', 'cg59', 'cg60', 'cg61', 'cg62', 'cg63', 'cg64', 'cg65', 'cg66', 'cg67', 'cg68', 'cg69', 'cg70', 'cg71', 'cg72', 'cg73', 'cg74', 'cg75', 'ch01', 'ch02', 'ch03', 'ch04', 'ch05', 'ch06', 'ch07', 'ch08', 'ch09', 'ch10', 'ch11', 'ch12', 'ch13', 'ch14', 'ch15', 'ch16', 'ch17', 'ch18', 'ch19', 'ch20', 'ch21', 'ch22', 'ch23', 'ch24', 'ch25', 'ch26', 'ch27', 'ch28', 'ch29', 'ch30', 'cj01', 'cj02', 'cj03', 'cj04', 'cj05', 'cj06', 'cj07', 'cj08', 'cj09', 'cj10', 'cj11', 'cj12', 'cj13', 'cj14', 'cj15', 'cj16', 'cj17', 'cj18', 'cj19', 'cj20', 'cj21', 'cj22', 'cj23', 'cj24', 'cj25', 'cj26', 'cj27', 'cj28', 'cj29', 'cj30', 'cj31', 'cj32', 'cj33', 'cj34', 'cj35', 'cj36', 'cj37', 'cj38', 'cj39', 'cj40', 'cj41', 'cj42', 'cj43', 'cj44', 'cj45', 'cj46', 'cj47', 'cj48', 'cj49', 'cj50', 'cj51', 'cj52', 'cj53', 'cj54', 'cj55', 'cj56', 'cj57', 'cj58', 'cj59', 'cj60', 'cj61', 'cj62', 'cj63', 'cj64', 'cj65', 'cj66', 'cj67', 'cj68', 'cj69', 'cj70', 'cj71', 'cj72', 'cj73', 'cj74', 'cj75', 'cj76', 'cj77', 'cj78', 'cj79', 'cj80', 'ck01', 'ck02', 'ck03', 'ck04', 'ck05', 'ck06', 'ck07', 'ck08', 'ck09', 'ck10', 'ck11', 'ck12', 'ck13', 'ck14', 'ck15', 'ck16', 'ck17', 'ck18', 'ck19', 'ck20', 'ck21', 'ck22', 'ck23', 'ck24', 'ck25', 'ck26', 'ck27', 'ck28', 'ck29', 'cl01', 'cl02', 'cl03', 'cl04', 'cl05', 'cl06', 'cl07', 'cl08', 'cl09', 'cl10', 'cl11', 'cl12', 'cl13', 'cl14', 'cl15', 'cl16', 'cl17', 'cl18', 'cl19', 'cl20', 'cl21', 'cl22', 'cl23', 'cl24', 'cm01', 'cm02', 'cm03', 'cm04', 'cm05', 'cm06', 'cn01', 'cn02', 'cn03', 'cn04', 'cn05', 'cn06', 'cn07', 'cn08', 'cn09', 'cn10', 'cn11', 'cn12', 'cn13', 'cn14', 'cn15', 'cn16', 'cn17', 'cn18', 'cn19', 'cn20', 'cn21', 'cn22', 'cn23', 'cn24', 'cn25', 'cn26', 'cn27', 'cn28', 'cn29', 'cp01', 'cp02', 'cp03', 'cp04', 'cp05', 'cp06', 'cp07', 'cp08', 'cp09', 'cp10', 'cp11', 'cp12', 'cp13', 'cp14', 'cp15', 'cp16', 'cp17', 'cp18', 'cp19', 'cp20', 'cp21', 'cp22', 'cp23', 'cp24', 'cp25', 'cp26', 'cp27', 'cp28', 'cp29', 'cr01', 'cr02', 'cr03', 'cr04', 'cr05', 'cr06', 'cr07', 'cr08', 'cr09']\n",
      "words (1161192):\n",
      "['The', 'Fulton', 'County', 'Grand', 'Jury', 'said', ...]\n"
     ]
    }
   ],
   "source": [
    "def print_ds():\n",
    "\tprint(f\"categories ({len(brown_categories)}):\")\n",
    "\tprint(brown_categories)\n",
    "\tprint(f\"docs ({len(brown_documents)}):\")\n",
    "\tprint(brown_documents)\n",
    "\tprint(f\"words ({len(brown_words)}):\")\n",
    "\tprint(brown_words)\n",
    "print_ds()"
   ]
  },
  {
   "cell_type": "markdown",
   "metadata": {
    "deletable": false,
    "editable": false,
    "nbgrader": {
     "cell_type": "markdown",
     "checksum": "b496e61c349b9597b5822d7a9cf1192e",
     "grade": false,
     "grade_id": "cell-aec1ec9b2b157652",
     "locked": true,
     "schema_version": 3,
     "solution": false,
     "task": false
    }
   },
   "source": [
    "Bisher haben Sie noch keine Information über die Struktur des Brown Corpus gewonnen, da sie jeweils die Gesamtzahl von Kategorien, Dokumenten und Wörtern ausgegeben haben.\n",
    "\n",
    "Geben Sie als nächstes die Anzahl von Dokumenten und Wörtern je Kategorie aus.\n",
    "http://www.nltk.org/howto/corpus.html#categorized-corpora\n",
    "\n",
    "**Hilfreiche Funktionen:** `fileids`, `words`\n",
    "\n",
    "Visualisieren Sie die Verteilungen mit Hilfe von horizontalen bar plots. Nutzen Sie dafür die Funktion `hbar_plot` aus dem Modul `common.visualization`.\n",
    "http://matplotlib.org/examples/lines_bars_and_markers/barh_demo.html\n",
    "\n",
    "Optional: Plotten Sie die Verteilungen mit vertikalen bar plots.\n",
    "Vermeiden Sie, dass sich die an der x-Achse aufgetragenen labels überlappen\n",
    "http://matplotlib.org/api/axes_api.html#matplotlib.axes.Axes.set_xticklabels\n",
    "Stellen Sie nun die Verteilungen über Dokumente und Wörter in einem gemeinsamen Plot dar. Verwenden Sie unterschiedliche Farben.\n",
    "http://matplotlib.org/examples/api/barchart_demo.html"
   ]
  },
  {
   "cell_type": "code",
   "execution_count": 36,
   "metadata": {},
   "outputs": [],
   "source": [
    "cat_label = []\n",
    "cat_num_words = []\n",
    "cat_num_docs = []\n",
    "for category in brown_categories:\n",
    "\tcat_label.append(category)\n",
    "\tcat_num_words.append(len(brown.words(categories=category)))\n",
    "\tcat_num_docs.append(len(brown.fileids(categories=category)))\n"
   ]
  },
  {
   "cell_type": "code",
   "execution_count": 40,
   "metadata": {
    "jupyter": {
     "outputs_hidden": false
    },
    "pycharm": {
     "name": "#%%\n"
    },
    "tags": []
   },
   "outputs": [
    {
     "name": "stdout",
     "output_type": "stream",
     "text": [
      "num words to categories\n"
     ]
    },
    {
     "data": {
      "application/vnd.jupyter.widget-view+json": {
       "model_id": "8251ea00bbaa46c397d5f68587ea72fa",
       "version_major": 2,
       "version_minor": 0
      },
      "image/png": "[encoded data removed]",
      "text/html": [
       "\n",
       "            <div style=\"display: inline-block;\">\n",
       "                <div class=\"jupyter-widgets widget-label\" style=\"text-align: center;\">\n",
       "                    Figure\n",
       "                </div>\n",
       "                <img src='data:image/png;base64,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' width=640.0/>\n",
       "            </div>\n",
       "        "
      ],
      "text/plain": [
       "Canvas(toolbar=Toolbar(toolitems=[('Home', 'Reset original view', 'home', 'home'), ('Back', 'Back to previous …"
      ]
     },
     "metadata": {},
     "output_type": "display_data"
    },
    {
     "name": "stdout",
     "output_type": "stream",
     "text": [
      "num docs to categories\n"
     ]
    },
    {
     "data": {
      "application/vnd.jupyter.widget-view+json": {
       "model_id": "758b7d1652de4f639b6a22fbaa7eeccd",
       "version_major": 2,
       "version_minor": 0
      },
      "image/png": "[encoded data removed]",
      "text/html": [
       "\n",
       "            <div style=\"display: inline-block;\">\n",
       "                <div class=\"jupyter-widgets widget-label\" style=\"text-align: center;\">\n",
       "                    Figure\n",
       "                </div>\n",
       "                <img src='data:image/png;base64,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' width=640.0/>\n",
       "            </div>\n",
       "        "
      ],
      "text/plain": [
       "Canvas(toolbar=Toolbar(toolitems=[('Home', 'Reset original view', 'home', 'home'), ('Back', 'Back to previous …"
      ]
     },
     "metadata": {},
     "output_type": "display_data"
    }
   ],
   "source": [
    "from common.visualization import hbar_plot\n",
    "print(\"num words to categories\")\n",
    "hbar_plot(cat_num_words , cat_label)\n",
    "print(\"num docs to categories\")\n",
    "hbar_plot(cat_num_docs , cat_label)\n"
   ]
  },
  {
   "cell_type": "markdown",
   "metadata": {
    "deletable": false,
    "editable": false,
    "nbgrader": {
     "cell_type": "markdown",
     "checksum": "b60f2113159cabebb74e6bdb63eda4f5",
     "grade": false,
     "grade_id": "cell-65b634808f9087cf",
     "locked": true,
     "schema_version": 3,
     "solution": false,
     "task": false
    },
    "pycharm": {
     "name": "#%% md\n"
    }
   },
   "source": [
    "Die nun zu implementierenden Funktionen spielen eine zentrale Rolle im weiteren Verlauf des Fachprojekts. Achten Sie auf eine effiziente und 'saubere' Umsetzung. Verwenden Sie geeignete Datenstrukturen und passende Python Funktionen. Wenn Ihnen Ihr Ansatz sehr aufwändig vorkommt, haben Sie vermutlich nicht die passenden Datenstrukturen / Algorithmen / (highlevel) Python / NumPy Funktionen verwendet. Fragen Sie in diesem Fall!\n",
    "\n",
    "Schauen Sie sich jetzt schon gründlich die Klassen und deren Interfaces in den mitgelieferten Modulen an. Wenn Sie Ihre Datenstrukturen von Anfang an dazu passend wählen, erleichtert dies deren spätere Benutzung. Zusätzlich bieten diese Klassen bereits etwas Inspiration für Python-typisches Design, wie zum Beispiel Duck-Typing.\n",
    "\n",
    "Zu einigen der vorgebenen Interfaces finden Sie Unit Tests in dem Paket 'utest'. Diese sind sehr hilfreich um zu überprüfen, ob ihre Implementierung zusammen mit anderen mitgelieferten Implementierungen / Interfaces funktionieren wird. Stellen Sie immer sicher, dass die Unit tests für die von Ihnen verwendeten Funktionen erfolgreich sind.  \n",
    "**Hinweis:** Im Verlauf des Fachprojekts werden die Unit Tests nach und nach erfolgreich sein. Falls es sie zu Beginn stört, wenn einzelne Unit Tests fehlschlagen können Sie diese durch einen 'decorator' vor der Methodendefinition vorübergehend abschalten: `@unittest.skip('')`\n",
    "https://docs.python.org/3/library/unittest.html#skipping-tests-and-expected-failures\n",
    "Denken Sie aber daran sie später wieder zu aktivieren.\n",
    "\n",
    "Wenn etwas unklar ist, fragen Sie!"
   ]
  },
  {
   "cell_type": "markdown",
   "metadata": {
    "deletable": false,
    "editable": false,
    "nbgrader": {
     "cell_type": "markdown",
     "checksum": "732bdac7aa30bb50b65e1225c6f797f7",
     "grade": false,
     "grade_id": "cell-33394ff308e5cc17",
     "locked": true,
     "schema_version": 3,
     "solution": false,
     "task": false
    }
   },
   "source": [
    "Um Texte / Dokumente semantisch zu analysieren, betrachtet man Verteilungen über Wortvorkommen. Ziel dieser semantischen Analyse soll es letztlich sein unbekannte Dokumente automatisch einer bekannten Kategorie / Klasse zuzuordnen.\n",
    "\n",
    "Bestimmen Sie die 20 häufigsten Wörter des Brown Corpus (insgesamt), sowie die 20 häufigsten Wörter je Kategorie.\n",
    "\n",
    "http://docs.python.org/3/library/collections.html#collections.defaultdict\n",
    "http://docs.python.org/3/library/functions.html#sorted\n",
    "\n",
    "**Hinweis:** Die Dokumentation zu `defaultdict` enthält ein sehr hilfreiches Beispiel.\n",
    "\n",
    "Implementieren Sie die (statische) Funktion `BagOfWords.most_freq_words` im Modul `common.features`. Nutzen Sie die Funktion anschließend um die 20 häufigstens Wörter des Corpus und pro Kategorie auszugeben."
   ]
  },
  {
   "cell_type": "code",
   "execution_count": 51,
   "metadata": {
    "jupyter": {
     "outputs_hidden": false
    },
    "pycharm": {
     "name": "#%%\n"
    },
    "tags": []
   },
   "outputs": [
    {
     "name": "stdout",
     "output_type": "stream",
     "text": [
      "\n",
      "TOP 20 words for the full corpus\n",
      "the | , | . | of | and | to | a | in | that | is | was | for | `` | '' | The | with | it | as | he | his\n",
      "Category=adventure . | , | the | and | a | of | to | `` | '' | was\n",
      "Category=belles_lettres the | , | . | of | and | to | a | in | that | is\n",
      "Category=editorial the | , | . | of | to | and | a | in | is | that\n",
      "Category=fiction , | . | the | and | to | of | a | was | in | he\n",
      "Category=government the | , | of | . | and | to | in | a | for | is\n",
      "Category=hobbies the | , | . | of | and | to | a | in | is | for\n",
      "Category=humor , | the | . | of | and | a | to | `` | '' | in\n",
      "Category=learned the | , | of | . | and | to | in | a | is | that\n",
      "Category=lore the | , | . | of | and | to | a | in | is | that\n",
      "Category=mystery . | , | the | to | and | a | of | was | `` | ''\n",
      "Category=news the | , | . | of | and | to | a | in | for | The\n",
      "Category=religion the | , | of | . | and | to | in | a | is | that\n",
      "Category=reviews , | the | . | of | and | a | to | in | is | ``\n",
      "Category=romance , | . | the | and | to | a | of | `` | '' | was\n",
      "Category=science_fiction , | . | the | of | to | and | '' | `` | a | was\n"
     ]
    }
   ],
   "source": [
    "from common.features import BagOfWords\n",
    "\n",
    "print('\\nTOP 20 words for the full corpus')\n",
    "top_words = BagOfWords.most_freq_words(word_list=brown_words, n_words=20)\n",
    "print(' | '.join(top_words))\n",
    "# TOP 10 words per category\n",
    "for category in brown_categories:\n",
    "\tcategory_words =  brown.words(categories=category)\n",
    "\ttop_words_per_cat = BagOfWords.most_freq_words(word_list=category_words, n_words=10)\n",
    "\tprint( f\"Category={category}\" , ' | '.join(top_words_per_cat))\n",
    "\n"
   ]
  },
  {
   "cell_type": "markdown",
   "metadata": {
    "deletable": false,
    "editable": false,
    "nbgrader": {
     "cell_type": "markdown",
     "checksum": "fcd12dcd05c5e95e95dbcf9bc902243b",
     "grade": false,
     "grade_id": "cell-f484ad5e63ab8980",
     "locked": true,
     "schema_version": 3,
     "solution": false,
     "task": false
    }
   },
   "source": [
    "Testen Sie ihre Implementierung mit folgendem Unittest:"
   ]
  },
  {
   "cell_type": "code",
   "execution_count": 2,
   "metadata": {
    "deletable": false,
    "editable": false,
    "jupyter": {
     "outputs_hidden": false
    },
    "nbgrader": {
     "cell_type": "code",
     "checksum": "c25f6be8af0cf6848903444e14238ffa",
     "grade": true,
     "grade_id": "cell-1e30aa3f9e42d85e",
     "locked": true,
     "points": 0,
     "schema_version": 3,
     "solution": false,
     "task": false
    },
    "pycharm": {
     "name": "#%%\n"
    },
    "tags": []
   },
   "outputs": [
    {
     "ename": "ModuleNotFoundError",
     "evalue": "No module named 'utest'",
     "output_type": "error",
     "traceback": [
      "\u001b[0;31m---------------------------------------------------------------------------\u001b[0m",
      "\u001b[0;31mModuleNotFoundError\u001b[0m                       Traceback (most recent call last)",
      "Cell \u001b[0;32mIn [2], line 3\u001b[0m\n\u001b[1;32m      1\u001b[0m \u001b[39mimport\u001b[39;00m \u001b[39munittest\u001b[39;00m\n\u001b[0;32m----> 3\u001b[0m \u001b[39mfrom\u001b[39;00m \u001b[39mutest\u001b[39;00m\u001b[39m.\u001b[39;00m\u001b[39mtest_features\u001b[39;00m \u001b[39mimport\u001b[39;00m BagOfWordsTest\n\u001b[1;32m      5\u001b[0m suite \u001b[39m=\u001b[39m unittest\u001b[39m.\u001b[39mTestSuite()\n\u001b[1;32m      6\u001b[0m suite\u001b[39m.\u001b[39maddTest(BagOfWordsTest(\u001b[39m\"\u001b[39m\u001b[39mtest_most_freq_words\u001b[39m\u001b[39m\"\u001b[39m))\n",
      "\u001b[0;31mModuleNotFoundError\u001b[0m: No module named 'utest'"
     ]
    }
   ],
   "source": [
    "import unittest\n",
    "\n",
    "from utest.test_features import BagOfWordsTest\n",
    "\n",
    "suite = unittest.TestSuite()\n",
    "suite.addTest(BagOfWordsTest(\"test_most_freq_words\"))\n",
    "runner = unittest.TextTestRunner()\n",
    "runner.run(suite)"
   ]
  },
  {
   "cell_type": "markdown",
   "metadata": {
    "deletable": false,
    "editable": false,
    "nbgrader": {
     "cell_type": "markdown",
     "checksum": "d76049f792bfd4cf907eee2060462579",
     "grade": false,
     "grade_id": "cell-34726a8daf5f59fb",
     "locked": true,
     "schema_version": 3,
     "solution": false,
     "task": false
    },
    "pycharm": {
     "name": "#%% md\n"
    }
   },
   "source": [
    "Diese Wörter sind nicht besonders charakteristisch für die Unterscheidung verschiedener Kategorien. Daher entfernt man solche wenig aussagekräftigen Wörter vor einer semantischen Analyse. Man bezeichnet diese Wörter als *stopwords*.\n",
    "\n",
    "Eine Liste mit stopwords wird durch NLTK bereitgestellt (siehe oben, sowie im `common.corpus` Modul). Filtern Sie nun alle stopwords bevor Sie die 20 häufigsten Wörter im Brown Corpus (insgesamt und je Kategorie) erneut bestimmen. Achten Sie dabei auf Gross- und Kleinschreibung und filtern Sie auch Satzzeichen (`string.punctuation`).\n",
    "\n",
    "http://www.nltk.org/howto/corpus.html#word-lists-and-lexicons\n",
    "http://docs.python.org/3/library/string.html\n",
    "\n",
    "Geben Sie zunächst stopwords und Satzzeichen auf der Kommandozeile aus."
   ]
  },
  {
   "cell_type": "code",
   "execution_count": 79,
   "metadata": {
    "jupyter": {
     "outputs_hidden": false
    },
    "pycharm": {
     "name": "#%%\n"
    },
    "tags": []
   },
   "outputs": [],
   "source": [
    "import string\n",
    "from typing import List\n",
    "stop_words = CorpusLoader.stopwords_corpus()"
   ]
  },
  {
   "cell_type": "markdown",
   "metadata": {
    "deletable": false,
    "editable": false,
    "nbgrader": {
     "cell_type": "markdown",
     "checksum": "d7a61f297064d9a098e0004023bc0162",
     "grade": false,
     "grade_id": "cell-2a0d35af554d535a",
     "locked": true,
     "schema_version": 3,
     "solution": false,
     "task": false
    },
    "pycharm": {
     "name": "#%% md\n"
    }
   },
   "source": [
    "Mit der Liste von stopwords können Sie noch keine grammatikalischen Varianten von Wörtern erfassen, die ebenfalls nicht entscheidend für die semantische Analyse von Texten sind (zum Beispiel: walking, walked).\n",
    "\n",
    "Verwenden Sie daher den `PorterStemmer` um Wörter auf ihre Wortstämme abzubilden.\n",
    "Geben Sie die 20 häufigsten Wörter nach jedem Filter Schritt aus:\n",
    "\n",
    "1. stopwords und Satzzeichen\n",
    "2. Abbildung auf Wortstämme (stemming)\n",
    "\n",
    "Erläutern Sie Ihre Beobachtungen.\n",
    "\n",
    "Implementieren Sie die Methode `WordListNormalizer.normalize_words` im `common.features` Modul.\n",
    "\n",
    "**Hilfreiche Funktionen:** http://www.nltk.org/api/nltk.stem.html#module-nltk.stem.porter\n"
   ]
  },
  {
   "cell_type": "code",
   "execution_count": 80,
   "metadata": {
    "jupyter": {
     "outputs_hidden": false
    },
    "pycharm": {
     "name": "#%%\n"
    },
    "tags": []
   },
   "outputs": [],
   "source": [
    "from nltk.stem import PorterStemmer\n",
    "from common.features import WordListNormalizer\n",
    "normalizer =  WordListNormalizer(stop_words)\n",
    "words , stemmed_words  = normalizer.normalize_words(brown_words)\n",
    "\n"
   ]
  },
  {
   "cell_type": "markdown",
   "metadata": {
    "deletable": false,
    "editable": false,
    "nbgrader": {
     "cell_type": "markdown",
     "checksum": "2f9cd87823c5576827c5265ddf4a8d13",
     "grade": false,
     "grade_id": "cell-46e3b26019e65309",
     "locked": true,
     "schema_version": 3,
     "solution": false,
     "task": false
    }
   },
   "source": [
    "Testen Sie ihre Implementierung mit folgendem Unittest:"
   ]
  },
  {
   "cell_type": "code",
   "execution_count": 10,
   "metadata": {
    "deletable": false,
    "editable": false,
    "jupyter": {
     "outputs_hidden": false
    },
    "nbgrader": {
     "cell_type": "code",
     "checksum": "1ae7219857303946e2bd2b99f2edcf1d",
     "grade": true,
     "grade_id": "cell-418d80d8406aa346",
     "locked": true,
     "points": 0,
     "schema_version": 3,
     "solution": false,
     "task": false
    },
    "pycharm": {
     "name": "#%%\n"
    },
    "tags": []
   },
   "outputs": [
    {
     "name": "stderr",
     "output_type": "stream",
     "text": [
      "."
     ]
    },
    {
     "name": "stdout",
     "output_type": "stream",
     "text": [
      "result1 ['test', 'text', 'written', 'demonstrate', 'filtering', 'stemming', 'real']\n"
     ]
    },
    {
     "name": "stderr",
     "output_type": "stream",
     "text": [
      "\n",
      "----------------------------------------------------------------------\n",
      "Ran 1 test in 0.002s\n",
      "\n",
      "OK\n"
     ]
    },
    {
     "data": {
      "text/plain": [
       "<unittest.runner.TextTestResult run=1 errors=0 failures=0>"
      ]
     },
     "execution_count": 10,
     "metadata": {},
     "output_type": "execute_result"
    }
   ],
   "source": [
    "import unittest\n",
    "\n",
    "from utest.test_features import WordListNormalizerTest\n",
    "\n",
    "suite = unittest.TestSuite()\n",
    "suite.addTest(WordListNormalizerTest(\"test_normalize_words\"))\n",
    "runner = unittest.TextTestRunner()\n",
    "runner.run(suite)"
   ]
  },
  {
   "cell_type": "code",
   "execution_count": null,
   "metadata": {},
   "outputs": [],
   "source": []
  },
  {
   "cell_type": "code",
   "execution_count": null,
   "metadata": {},
   "outputs": [],
   "source": []
  }
 ],
 "metadata": {
  "kernelspec": {
   "display_name": "Python 3.8.10 ('venv': venv)",
   "language": "python",
   "name": "python3"
  },
  "language_info": {
   "codemirror_mode": {
    "name": "ipython",
    "version": 3
   },
   "file_extension": ".py",
   "mimetype": "text/x-python",
   "name": "python",
   "nbconvert_exporter": "python",
   "pygments_lexer": "ipython3",
   "version": "3.8.10"
  },
  "vscode": {
   "interpreter": {
    "hash": "532930a045c70b6179a9e76aad6b950d5161a1fd1537a8fdd1aa5c1fdfc9fb89"
   }
  }
 },
 "nbformat": 4,
 "nbformat_minor": 4
}
