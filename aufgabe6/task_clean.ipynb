{
 "cells": [
  {
   "cell_type": "code",
   "execution_count": 2,
   "metadata": {},
   "outputs": [],
   "source": [
    "import sys\n",
    "\n",
    "if \"..\" not in sys.path:\n",
    "    sys.path.append(\"..\")\n",
    "\n",
    "import os\n",
    "import PIL.Image as Image\n",
    "import matplotlib.pyplot as plt\n",
    "import matplotlib.cm as cm\n",
    "import numpy as np\n",
    "\n",
    "from collections import defaultdict\n",
    "from time import process_time\n",
    "\n",
    "from common.task import path_join, load_ground_truths, get_best_bag_of_features_histograms\n",
    "\n",
    "%load_ext autoreload\n",
    "%autoreload 2\n",
    "%matplotlib widget\n",
    "%matplotlib inline"
   ]
  },
  {
   "cell_type": "code",
   "execution_count": 3,
   "metadata": {},
   "outputs": [
    {
     "name": "stdout",
     "output_type": "stream",
     "text": [
      "visual_word=(800, 166, 1007, 246, 'and')\n"
     ]
    }
   ],
   "source": [
    "img_path = '2700270'\n",
    "n_centroids = 100\n",
    "step_size = 50\n",
    "# load ground truth for image 2700270.png\n",
    "visual_words = load_ground_truths('2700270.gtp') \n",
    "visual_word = visual_words[3]\n",
    "print(f\"{visual_word=}\")"
   ]
  },
  {
   "cell_type": "code",
   "execution_count": 4,
   "metadata": {},
   "outputs": [
    {
     "ename": "KeyboardInterrupt",
     "evalue": "",
     "output_type": "error",
     "traceback": [
      "\u001b[0;31m---------------------------------------------------------------------------\u001b[0m",
      "\u001b[0;31mKeyboardInterrupt\u001b[0m                         Traceback (most recent call last)",
      "Cell \u001b[0;32mIn [4], line 1\u001b[0m\n\u001b[0;32m----> 1\u001b[0m rv \u001b[39m=\u001b[39m get_best_bag_of_features_histograms(\u001b[39m'\u001b[39;49m\u001b[39m2700270.png\u001b[39;49m\u001b[39m'\u001b[39;49m, visual_word[:\u001b[39m4\u001b[39;49m], n_centroids, step_size)\n",
      "File \u001b[0;32m~/projects/group_fpda/aufgabe6/../common/task.py:43\u001b[0m, in \u001b[0;36mget_best_bag_of_features_histograms\u001b[0;34m(img_path, coords, n_centroids, step_size, size, iters)\u001b[0m\n\u001b[1;32m     40\u001b[0m \u001b[39mif\u001b[39;00m INFO:\n\u001b[1;32m     41\u001b[0m     \u001b[39mprint\u001b[39m(\u001b[39mf\u001b[39m\u001b[39m\"\u001b[39m\u001b[39mUsing \u001b[39m\u001b[39m{\u001b[39;00mcell_size\u001b[39m=}\u001b[39;00m\u001b[39m and \u001b[39m\u001b[39m{\u001b[39;00mstep_size\u001b[39m=}\u001b[39;00m\u001b[39m\"\u001b[39m)\n\u001b[0;32m---> 43\u001b[0m doc_frames, doc_desc \u001b[39m=\u001b[39m compute_sift_descriptors(doc_arr, cell_size\u001b[39m=\u001b[39;49m\u001b[39m5\u001b[39;49m, step_size\u001b[39m=\u001b[39;49m\u001b[39m20\u001b[39;49m)\n\u001b[1;32m     44\u001b[0m doc_frames \u001b[39m=\u001b[39m np\u001b[39m.\u001b[39masarray(doc_frames, dtype\u001b[39m=\u001b[39m\u001b[39m'\u001b[39m\u001b[39mint\u001b[39m\u001b[39m'\u001b[39m)\n\u001b[1;32m     46\u001b[0m \u001b[39mif\u001b[39;00m INFO:\n",
      "File \u001b[0;32m~/projects/group_fpda/aufgabe6/../common/features.py:405\u001b[0m, in \u001b[0;36mcompute_sift_descriptors\u001b[0;34m(im_arr, cell_size, step_size)\u001b[0m\n\u001b[1;32m    399\u001b[0m frames \u001b[39m=\u001b[39m [(x, y) \u001b[39mfor\u001b[39;00m x \u001b[39min\u001b[39;00m np\u001b[39m.\u001b[39marange(\u001b[39m10\u001b[39m, im_arr\u001b[39m.\u001b[39mshape[\u001b[39m1\u001b[39m], step_size, dtype\u001b[39m=\u001b[39mnp\u001b[39m.\u001b[39mfloat32)\n\u001b[1;32m    400\u001b[0m           \u001b[39mfor\u001b[39;00m y \u001b[39min\u001b[39;00m np\u001b[39m.\u001b[39marange(\u001b[39m10\u001b[39m, im_arr\u001b[39m.\u001b[39mshape[\u001b[39m0\u001b[39m], step_size, dtype\u001b[39m=\u001b[39mnp\u001b[39m.\u001b[39mfloat32)]\n\u001b[1;32m    402\u001b[0m \u001b[39m# Note: In the standard SIFT detector algorithm, the size of the\u001b[39;00m\n\u001b[1;32m    403\u001b[0m \u001b[39m# descriptor cell size is related to the keypoint scal by the magnification factor.\u001b[39;00m\n\u001b[1;32m    404\u001b[0m \u001b[39m# Therefore the size of the is equal to cell_size/magnification_factor (Default: 3)\u001b[39;00m\n\u001b[0;32m--> 405\u001b[0m kp \u001b[39m=\u001b[39m [cv2\u001b[39m.\u001b[39mKeyPoint(x, y, cell_size \u001b[39m/\u001b[39m \u001b[39m3\u001b[39m) \u001b[39mfor\u001b[39;00m x, y \u001b[39min\u001b[39;00m frames]\n\u001b[1;32m    407\u001b[0m sift \u001b[39m=\u001b[39m cv2\u001b[39m.\u001b[39mSIFT_create()\n\u001b[1;32m    409\u001b[0m sift_features \u001b[39m=\u001b[39m sift\u001b[39m.\u001b[39mcompute(im_arr, kp)\n",
      "File \u001b[0;32m~/projects/group_fpda/aufgabe6/../common/features.py:405\u001b[0m, in \u001b[0;36m<listcomp>\u001b[0;34m(.0)\u001b[0m\n\u001b[1;32m    399\u001b[0m frames \u001b[39m=\u001b[39m [(x, y) \u001b[39mfor\u001b[39;00m x \u001b[39min\u001b[39;00m np\u001b[39m.\u001b[39marange(\u001b[39m10\u001b[39m, im_arr\u001b[39m.\u001b[39mshape[\u001b[39m1\u001b[39m], step_size, dtype\u001b[39m=\u001b[39mnp\u001b[39m.\u001b[39mfloat32)\n\u001b[1;32m    400\u001b[0m           \u001b[39mfor\u001b[39;00m y \u001b[39min\u001b[39;00m np\u001b[39m.\u001b[39marange(\u001b[39m10\u001b[39m, im_arr\u001b[39m.\u001b[39mshape[\u001b[39m0\u001b[39m], step_size, dtype\u001b[39m=\u001b[39mnp\u001b[39m.\u001b[39mfloat32)]\n\u001b[1;32m    402\u001b[0m \u001b[39m# Note: In the standard SIFT detector algorithm, the size of the\u001b[39;00m\n\u001b[1;32m    403\u001b[0m \u001b[39m# descriptor cell size is related to the keypoint scal by the magnification factor.\u001b[39;00m\n\u001b[1;32m    404\u001b[0m \u001b[39m# Therefore the size of the is equal to cell_size/magnification_factor (Default: 3)\u001b[39;00m\n\u001b[0;32m--> 405\u001b[0m kp \u001b[39m=\u001b[39m [cv2\u001b[39m.\u001b[39;49mKeyPoint(x, y, cell_size \u001b[39m/\u001b[39;49m \u001b[39m3\u001b[39;49m) \u001b[39mfor\u001b[39;00m x, y \u001b[39min\u001b[39;00m frames]\n\u001b[1;32m    407\u001b[0m sift \u001b[39m=\u001b[39m cv2\u001b[39m.\u001b[39mSIFT_create()\n\u001b[1;32m    409\u001b[0m sift_features \u001b[39m=\u001b[39m sift\u001b[39m.\u001b[39mcompute(im_arr, kp)\n",
      "\u001b[0;31mKeyboardInterrupt\u001b[0m: "
     ]
    }
   ],
   "source": [
    "rv = get_best_bag_of_features_histograms('2700270.png', visual_word[:4], n_centroids, step_size)"
   ]
  },
  {
   "attachments": {},
   "cell_type": "markdown",
   "metadata": {},
   "source": [
    "# Visualization"
   ]
  },
  {
   "cell_type": "code",
   "execution_count": null,
   "metadata": {},
   "outputs": [],
   "source": [
    "x1, y1, x2, y2, _ = visual_word\n",
    "document = Image.open(path_join('pages', '2700270.png'))\n",
    "doc_arr = np.asarray(document, dtype='uint8')\n",
    "req_arr = doc_arr[y1:y2, x1:x2]\n",
    "\n",
    "plt.imshow(req_arr, cmap=cm.get_cmap(\"Greys_r\"))\n",
    "plt.title(\"Request image\")\n",
    "plt.show()"
   ]
  },
  {
   "cell_type": "code",
   "execution_count": null,
   "metadata": {},
   "outputs": [],
   "source": [
    "row_cols = 4\n",
    "fig = plt.figure(figsize=(10, 6))\n",
    "fig.suptitle(\"Best matching windows in document\")\n",
    "\n",
    "for idx, info in enumerate(rv):\n",
    "    if idx == row_cols**2:\n",
    "        break\n",
    "\n",
    "    wx, wy, wxx, wyy = info['window']\n",
    "    ax = fig.add_subplot(row_cols, row_cols, idx + 1)\n",
    "    subimg = doc_arr[wy:wyy, wx:wxx]\n",
    "    ax.imshow(subimg, cmap=cm.get_cmap('Greys_r'))"
   ]
  },
  {
   "attachments": {},
   "cell_type": "markdown",
   "metadata": {},
   "source": [
    "# Evaluation"
   ]
  },
  {
   "cell_type": "code",
   "execution_count": null,
   "metadata": {},
   "outputs": [],
   "source": [
    "from common.evaluation import SegmentfreeWordSpottingEvaluator\n",
    "\n",
    "# 3 - and\n",
    "# 4 - instructions\n",
    "\n",
    "img_path = '2700270.png'\n",
    "n_centroids = 100\n",
    "step_size = 30\n",
    "word_index = 0\n",
    "max_eval_length = 10\n",
    "\n",
    "sfwse = SegmentfreeWordSpottingEvaluator(\n",
    "    img_path,\n",
    "    n_centroids,\n",
    "    step_size\n",
    ")\n",
    "\n",
    "result = sfwse.crossvalidate(word_index, max_eval_length)\n",
    "prec, rec, mean_prec = result\n",
    "print(f\"{prec=} {rec=} {mean_prec=}\")"
   ]
  },
  {
   "cell_type": "code",
   "execution_count": 7,
   "metadata": {},
   "outputs": [
    {
     "name": "stdout",
     "output_type": "stream",
     "text": [
      "Evaluating 2700270.png with 215 words\n",
      "Validating image '2700270.png' with word 0\n",
      "Evaluating word (116, 171, 255, 237, '270')\n",
      "Needed time: 32.037775999999994secs\n",
      "avg_prec=0.4 avg_rec=4.0 avg_mean_prec=4.0\n",
      "overall_precision=[0.4]\n",
      "overall_recall=[4.0]\n",
      "overall_mean_prec=[4.0]\n"
     ]
    }
   ],
   "source": [
    "from common.evaluation import SegmentfreeWordSpottingEvaluator\n",
    "\n",
    "max_eval_length = 10\n",
    "\n",
    "sfwse = SegmentfreeWordSpottingEvaluator(\n",
    "    img_path='2700270.png',\n",
    "    n_centroids=100,\n",
    "    step_size=30\n",
    ")\n",
    "\n",
    "start_time = process_time()\n",
    "avg_prec, avg_rec, avg_mean_prec, overall_precision, overall_recall, overall_mean_prec = sfwse.validate(max_eval_length)\n",
    "end_time = process_time()\n",
    "\n",
    "print(f\"Needed time: {(end_time - start_time)} secs\")\n",
    "print(f\"{avg_prec=} {avg_rec=} {avg_mean_prec=}\")\n",
    "print(f\"{overall_precision=}\")\n",
    "print(f\"{overall_recall=}\")\n",
    "print(f\"{overall_mean_prec=}\")"
   ]
  },
  {
   "cell_type": "code",
   "execution_count": null,
   "metadata": {},
   "outputs": [],
   "source": []
  }
 ],
 "metadata": {
  "kernelspec": {
   "display_name": "fachprojekt",
   "language": "python",
   "name": "python3"
  },
  "language_info": {
   "codemirror_mode": {
    "name": "ipython",
    "version": 3
   },
   "file_extension": ".py",
   "mimetype": "text/x-python",
   "name": "python",
   "nbconvert_exporter": "python",
   "pygments_lexer": "ipython3",
   "version": "3.10.9"
  },
  "orig_nbformat": 4,
  "vscode": {
   "interpreter": {
    "hash": "7ebe00ff29d1c5a34babed7815acec0b0800abb71db77a3196b5301abaf75344"
   }
  }
 },
 "nbformat": 4,
 "nbformat_minor": 2
}
