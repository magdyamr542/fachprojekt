{
 "cells": [
  {
   "cell_type": "code",
   "execution_count": 2,
   "metadata": {},
   "outputs": [
    {
     "name": "stdout",
     "output_type": "stream",
     "text": [
      "The autoreload extension is already loaded. To reload it, use:\n",
      "  %reload_ext autoreload\n"
     ]
    }
   ],
   "source": [
    "import sys\n",
    "\n",
    "if \"..\" not in sys.path:\n",
    "    sys.path.append(\"..\")\n",
    "\n",
    "import os\n",
    "import PIL.Image as Image\n",
    "import matplotlib.pyplot as plt\n",
    "import matplotlib.cm as cm\n",
    "import numpy as np\n",
    "import pickle\n",
    "\n",
    "from collections import defaultdict\n",
    "\n",
    "from common.task import path_join, load_ground_truths, get_best_bag_of_features_histograms\n",
    "\n",
    "%load_ext autoreload\n",
    "%autoreload 2\n",
    "%matplotlib widget\n",
    "%matplotlib inline"
   ]
  },
  {
   "cell_type": "code",
   "execution_count": 3,
   "metadata": {},
   "outputs": [
    {
     "name": "stdout",
     "output_type": "stream",
     "text": [
      "visual_word=(800, 166, 1007, 246, 'and')\n"
     ]
    }
   ],
   "source": [
    "img_path = '2700270'\n",
    "n_centroids = 100\n",
    "step_size = 20\n",
    "# load ground truth for image 2700270.png\n",
    "visual_words = load_ground_truths('2700270.gtp') \n",
    "visual_word = visual_words[3]\n",
    "print(f\"{visual_word=}\")"
   ]
  },
  {
   "cell_type": "code",
   "execution_count": 4,
   "metadata": {},
   "outputs": [
    {
     "name": "stdout",
     "output_type": "stream",
     "text": [
      "Using cell_size=80 and step_size=20\n",
      "Computing sift descriptors and pickling afterwards...\n"
     ]
    },
    {
     "ename": "FileNotFoundError",
     "evalue": "[Errno 2] No such file or directory: '/Users/dh/projects/group_fpda/data/gw/pickle_data/sift_descriptors/2700270_80_sift-20_descriptors.p'",
     "output_type": "error",
     "traceback": [
      "\u001b[0;31m---------------------------------------------------------------------------\u001b[0m",
      "\u001b[0;31mFileNotFoundError\u001b[0m                         Traceback (most recent call last)",
      "Cell \u001b[0;32mIn [4], line 1\u001b[0m\n\u001b[0;32m----> 1\u001b[0m rv \u001b[39m=\u001b[39m get_best_bag_of_features_histograms(\u001b[39m'\u001b[39;49m\u001b[39m2700270.png\u001b[39;49m\u001b[39m'\u001b[39;49m, visual_word[:\u001b[39m4\u001b[39;49m], n_centroids, step_size)\n",
      "File \u001b[0;32m~/projects/group_fpda/aufgabe6/../common/task.py:69\u001b[0m, in \u001b[0;36mget_best_bag_of_features_histograms\u001b[0;34m(img_path, coords, n_centroids, step_size, size, iters)\u001b[0m\n\u001b[1;32m     66\u001b[0m doc_frames, doc_desc \u001b[39m=\u001b[39m compute_sift_descriptors(doc_arr, cell_size\u001b[39m=\u001b[39mcell_size, step_size\u001b[39m=\u001b[39mstep_size)\n\u001b[1;32m     67\u001b[0m doc_frames \u001b[39m=\u001b[39m np\u001b[39m.\u001b[39masarray(doc_frames)\n\u001b[0;32m---> 69\u001b[0m \u001b[39mwith\u001b[39;00m \u001b[39mopen\u001b[39;49m(pickle_path, \u001b[39m'\u001b[39;49m\u001b[39mwb\u001b[39;49m\u001b[39m'\u001b[39;49m) \u001b[39mas\u001b[39;00m fh:\n\u001b[1;32m     70\u001b[0m     to_dump \u001b[39m=\u001b[39m (doc_frames, doc_desc)\n\u001b[1;32m     71\u001b[0m     pickle\u001b[39m.\u001b[39mdump(to_dump, fh)\n",
      "\u001b[0;31mFileNotFoundError\u001b[0m: [Errno 2] No such file or directory: '/Users/dh/projects/group_fpda/data/gw/pickle_data/sift_descriptors/2700270_80_sift-20_descriptors.p'"
     ]
    }
   ],
   "source": [
    "rv = get_best_bag_of_features_histograms('2700270.png', visual_word[:4], n_centroids, step_size)"
   ]
  },
  {
   "attachments": {},
   "cell_type": "markdown",
   "metadata": {},
   "source": [
    "# Visualization"
   ]
  },
  {
   "cell_type": "code",
   "execution_count": null,
   "metadata": {},
   "outputs": [],
   "source": [
    "x1, y1, x2, y2, _ = visual_word\n",
    "document = Image.open(path_join('pages', '2700270.png'))\n",
    "doc_arr = np.asarray(document, dtype='uint8')\n",
    "req_arr = doc_arr[y1:y2, x1:x2]\n",
    "\n",
    "plt.imshow(req_arr, cmap=cm.get_cmap(\"Greys_r\"))\n",
    "plt.title(\"Request image\")\n",
    "plt.show()"
   ]
  },
  {
   "cell_type": "code",
   "execution_count": null,
   "metadata": {},
   "outputs": [],
   "source": [
    "row_cols = 4\n",
    "fig = plt.figure(figsize=(10, 6))\n",
    "fig.suptitle(\"Best matching windows in document\")\n",
    "\n",
    "for idx, info in enumerate(rv):\n",
    "    if idx == row_cols**2:\n",
    "        break\n",
    "\n",
    "    wx, wy, wxx, wyy = info['window']\n",
    "    ax = fig.add_subplot(row_cols, row_cols, idx + 1)\n",
    "    subimg = doc_arr[wy:wyy, wx:wxx]\n",
    "    ax.imshow(subimg, cmap=cm.get_cmap('Greys_r'))"
   ]
  },
  {
   "cell_type": "code",
   "execution_count": null,
   "metadata": {},
   "outputs": [],
   "source": [
    "total_word_occurences = list(filter(lambda x: x[-1] == visual_word[-1], visual_words))\n",
    "print(f\"{len(total_word_occurences)=}\")\n",
    "total_word_occurences"
   ]
  },
  {
   "attachments": {},
   "cell_type": "markdown",
   "metadata": {},
   "source": [
    "# Evaluation"
   ]
  },
  {
   "cell_type": "code",
   "execution_count": null,
   "metadata": {},
   "outputs": [],
   "source": [
    "from common.evaluation import SegmentfreeWordSpottingEvaluator\n",
    "\n",
    "img_path = '2700270.png'\n",
    "n_centroids = 100\n",
    "step_size = 25\n",
    "word_index = 3\n",
    "max_eval_length = 16\n",
    "\n",
    "sfwse = SegmentfreeWordSpottingEvaluator(\n",
    "    img_path,\n",
    "    n_centroids,\n",
    "    step_size\n",
    ")\n",
    "\n",
    "result = sfwse.crossvalidate(word_index, max_eval_length)"
   ]
  },
  {
   "cell_type": "code",
   "execution_count": null,
   "metadata": {},
   "outputs": [],
   "source": [
    "prec, rec, mean_prec = result\n",
    "print(f\"{prec=} {rec=} {mean_prec=}\")"
   ]
  },
  {
   "cell_type": "code",
   "execution_count": null,
   "metadata": {},
   "outputs": [],
   "source": [
    "from common.evaluation import SegmentfreeWordSpottingEvaluator\n",
    "\n",
    "# TODO: run on server\n",
    "img_path = '2700270.png'\n",
    "n_centroids = 100\n",
    "step_size = 15\n",
    "word_index = 8\n",
    "max_eval_length = 10\n",
    "\n",
    "sfwse = SegmentfreeWordSpottingEvaluator(\n",
    "    img_path,\n",
    "    n_centroids,\n",
    "    step_size,\n",
    "    plot_results=False\n",
    ")\n",
    "\n",
    "srv = sfwse.validate(max_eval_length)\n",
    "\n",
    "subpath = f'srv_{img_path}_{n_centroids}_{step_size}_{word_index}_{max_eval_length}.p'\n",
    "with open(path_join('pickle_data', subpath), 'wb') as fh:\n",
    "    pickle.dump(srv, fh)"
   ]
  },
  {
   "cell_type": "code",
   "execution_count": null,
   "metadata": {},
   "outputs": [],
   "source": [
    "from common.evaluation import SegmentfreeWordSpottingEvaluator\n",
    "\n",
    "img_path = '2700270.png'\n",
    "n_centroids = 100\n",
    "step_size = 50\n",
    "word_index = 8\n",
    "max_eval_length = 10\n",
    "\n",
    "sfwse = SegmentfreeWordSpottingEvaluator(\n",
    "    img_path,\n",
    "    n_centroids,\n",
    "    step_size,\n",
    "    plot_results=False\n",
    ")\n",
    "\n",
    "rv = sfwse.validate(max_eval_length)\n",
    "subpath = f'rv_{img_path}_{n_centroids}_{step_size}_{word_index}_{max_eval_length}.p'\n",
    "with open(path_join('pickle_data', subpath), 'wb') as fh:\n",
    "    pickle.dump(rv, fh)"
   ]
  },
  {
   "cell_type": "code",
   "execution_count": null,
   "metadata": {},
   "outputs": [],
   "source": [
    "from distributed import Client"
   ]
  },
  {
   "cell_type": "code",
   "execution_count": null,
   "metadata": {},
   "outputs": [],
   "source": []
  }
 ],
 "metadata": {
  "kernelspec": {
   "display_name": "fachprojekt",
   "language": "python",
   "name": "python3"
  },
  "language_info": {
   "codemirror_mode": {
    "name": "ipython",
    "version": 3
   },
   "file_extension": ".py",
   "mimetype": "text/x-python",
   "name": "python",
   "nbconvert_exporter": "python",
   "pygments_lexer": "ipython3",
   "version": "3.10.9"
  },
  "orig_nbformat": 4,
  "vscode": {
   "interpreter": {
    "hash": "7ebe00ff29d1c5a34babed7815acec0b0800abb71db77a3196b5301abaf75344"
   }
  }
 },
 "nbformat": 4,
 "nbformat_minor": 2
}
