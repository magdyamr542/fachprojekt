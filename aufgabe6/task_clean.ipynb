{
 "cells": [
  {
   "cell_type": "code",
   "execution_count": null,
   "metadata": {},
   "outputs": [],
   "source": [
    "import sys\n",
    "\n",
    "if \"..\" not in sys.path:\n",
    "    sys.path.append(\"..\")\n",
    "\n",
    "import os\n",
    "import PIL.Image as Image\n",
    "import matplotlib.pyplot as plt\n",
    "import matplotlib.cm as cm\n",
    "import numpy as np\n",
    "import pickle\n",
    "\n",
    "from collections import defaultdict\n",
    "\n",
    "from common.task import path_join, load_ground_truths, get_best_bag_of_features_histograms\n",
    "\n",
    "%load_ext autoreload\n",
    "%autoreload 2\n",
    "%matplotlib widget\n",
    "%matplotlib inline"
   ]
  },
  {
   "cell_type": "code",
   "execution_count": null,
   "metadata": {},
   "outputs": [],
   "source": [
    "img_path = '2700270'\n",
    "n_centroids = 100\n",
    "step_size = 50\n",
    "# load ground truth for image 2700270.png\n",
    "visual_words = load_ground_truths('2700270.gtp') \n",
    "visual_word = visual_words[3]\n",
    "print(f\"{visual_word=}\")"
   ]
  },
  {
   "cell_type": "code",
   "execution_count": null,
   "metadata": {},
   "outputs": [],
   "source": [
    "rv = get_best_bag_of_features_histograms('2700270.png', visual_word[:4], n_centroids, step_size)"
   ]
  },
  {
   "attachments": {},
   "cell_type": "markdown",
   "metadata": {},
   "source": [
    "# Visualization"
   ]
  },
  {
   "cell_type": "code",
   "execution_count": null,
   "metadata": {},
   "outputs": [],
   "source": [
    "x1, y1, x2, y2, _ = visual_word\n",
    "document = Image.open(path_join('pages', '2700270.png'))\n",
    "doc_arr = np.asarray(document, dtype='uint8')\n",
    "req_arr = doc_arr[y1:y2, x1:x2]\n",
    "\n",
    "plt.imshow(req_arr, cmap=cm.get_cmap(\"Greys_r\"))\n",
    "plt.title(\"Request image\")\n",
    "plt.show()"
   ]
  },
  {
   "cell_type": "code",
   "execution_count": null,
   "metadata": {},
   "outputs": [],
   "source": [
    "row_cols = 4\n",
    "fig = plt.figure(figsize=(10, 6))\n",
    "fig.suptitle(\"Best matching windows in document\")\n",
    "\n",
    "for idx, info in enumerate(rv):\n",
    "    if idx == row_cols**2:\n",
    "        break\n",
    "\n",
    "    wx, wy, wxx, wyy = info['window']\n",
    "    ax = fig.add_subplot(row_cols, row_cols, idx + 1)\n",
    "    subimg = doc_arr[wy:wyy, wx:wxx]\n",
    "    ax.imshow(subimg, cmap=cm.get_cmap('Greys_r'))"
   ]
  },
  {
   "attachments": {},
   "cell_type": "markdown",
   "metadata": {},
   "source": [
    "# Evaluation"
   ]
  },
  {
   "cell_type": "code",
   "execution_count": null,
   "metadata": {},
   "outputs": [],
   "source": [
    "from common.evaluation import SegmentfreeWordSpottingEvaluator\n",
    "\n",
    "# 3 - and\n",
    "# 4 - instructions\n",
    "\n",
    "img_path = '2700270.png'\n",
    "n_centroids = 100\n",
    "step_size = 30\n",
    "word_index = 0\n",
    "max_eval_length = 10\n",
    "\n",
    "sfwse = SegmentfreeWordSpottingEvaluator(\n",
    "    img_path,\n",
    "    n_centroids,\n",
    "    step_size\n",
    ")\n",
    "\n",
    "result = sfwse.crossvalidate(word_index, max_eval_length)\n",
    "prec, rec, mean_prec = result\n",
    "print(f\"{prec=} {rec=} {mean_prec=}\")"
   ]
  },
  {
   "cell_type": "code",
   "execution_count": null,
   "metadata": {},
   "outputs": [],
   "source": [
    "from common.evaluation import SegmentfreeWordSpottingEvaluator\n",
    "\n",
    "max_eval_length = 10\n",
    "\n",
    "sfwse = SegmentfreeWordSpottingEvaluator(\n",
    "    img_path='2700270.png',\n",
    "    n_centroids=100,\n",
    "    step_size=30\n",
    ")\n",
    "\n",
    "avg_prec, avg_rec, avg_mean_prec, overall_precision, overall_recall, overall_mean_prec = sfwse.validate(max_eval_length)\n",
    "print(f\"{avg_prec=} {avg_rec=} {avg_mean_prec=}\")\n",
    "print(f\"{overall_precision=}\")\n",
    "print(f\"{overall_recall=}\")\n",
    "print(f\"{overall_mean_prec=}\")"
   ]
  },
  {
   "cell_type": "code",
   "execution_count": null,
   "metadata": {},
   "outputs": [],
   "source": []
  }
 ],
 "metadata": {
  "kernelspec": {
   "display_name": "fachprojekt",
   "language": "python",
   "name": "python3"
  },
  "language_info": {
   "codemirror_mode": {
    "name": "ipython",
    "version": 3
   },
   "file_extension": ".py",
   "mimetype": "text/x-python",
   "name": "python",
   "nbconvert_exporter": "python",
   "pygments_lexer": "ipython3",
   "version": "3.10.9"
  },
  "orig_nbformat": 4,
  "vscode": {
   "interpreter": {
    "hash": "7ebe00ff29d1c5a34babed7815acec0b0800abb71db77a3196b5301abaf75344"
   }
  }
 },
 "nbformat": 4,
 "nbformat_minor": 2
}
