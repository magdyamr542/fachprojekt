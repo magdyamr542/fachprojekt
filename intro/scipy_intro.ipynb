{
 "cells": [
  {
   "cell_type": "markdown",
   "id": "13a97483-c35b-44e6-9300-498e21e412c5",
   "metadata": {
    "deletable": false,
    "editable": false,
    "nbgrader": {
     "cell_type": "markdown",
     "checksum": "c2c936a7cb51681e053cf28d7ec7e353",
     "grade": false,
     "grade_id": "cell-938f53da7fdd25f8",
     "locked": true,
     "schema_version": 3,
     "solution": false,
     "task": false
    },
    "tags": []
   },
   "source": [
    "**Fachprojekt Dokumentenanalyse** *WS 22/23* -- *Philipp Oberdiek, Gernot A. Fink* -- *Technische Universität Dortmund, Lehrstuhl XII, Mustererkennung in eingebetteten Systemen*\n",
    "---\n",
    "# Einführung in NumPy/Scipy und Matplotlib\n",
    "\n",
    "In diesen Einführungsaufgaben sollen Sie sich mit den grundlegenden Eigenschaften und Funktionen von *NumPy/SciPy* und *matplotlib* vertraut machen. Die Aufgaben sind dazu gedacht, Ihnen den Einstieg zu erleichtern.\n",
    "\n",
    "Sehr grosse Datenmengen lassen sich iterativ nicht effizient in Python verarbeiten. Dazu gibt es mit NumPy / SciPy eine Bibliothek, mit der numerische Berechnungen vektorisiert effizient durchgefuehrt werden können.\n",
    "Vektorisiert bedeutet dabei, dass Operationen auf großen Datenmengen direkt mit einzelnen Methodenaufrufen durchgeführt werden und nicht über Schleifen in Python Code umgesetzt werden.\n",
    "\n",
    "**ACHTUNG:** Diese Form der Programmierung unterscheidet sich DEUTLICH von dem was sie vielleicht aus C / C++ oder auch Java gewohnt sind."
   ]
  },
  {
   "cell_type": "markdown",
   "id": "1721e513-a269-4a5e-8512-ade496679a39",
   "metadata": {
    "deletable": false,
    "editable": false,
    "nbgrader": {
     "cell_type": "markdown",
     "checksum": "2820d58c47a03ee360c0742ab6c3d9dc",
     "grade": false,
     "grade_id": "cell-4397aae683d01351",
     "locked": true,
     "schema_version": 3,
     "solution": false,
     "task": false
    },
    "tags": []
   },
   "source": [
    "Zuerst importieren wir die benötigten Module."
   ]
  },
  {
   "cell_type": "code",
   "execution_count": 54,
   "id": "8f948207-f8ff-4cbb-b937-6df61f51193a",
   "metadata": {
    "deletable": false,
    "editable": false,
    "nbgrader": {
     "cell_type": "code",
     "checksum": "5cf7bffdbcfce670fe4b170c2f77290e",
     "grade": false,
     "grade_id": "cell-aec11f3aefab214f",
     "locked": true,
     "schema_version": 3,
     "solution": false,
     "task": false
    },
    "tags": []
   },
   "outputs": [
    {
     "name": "stdout",
     "output_type": "stream",
     "text": [
      "The autoreload extension is already loaded. To reload it, use:\n",
      "  %reload_ext autoreload\n"
     ]
    }
   ],
   "source": [
    "%load_ext autoreload\n",
    "%autoreload 2\n",
    "\n",
    "import numpy as np\n",
    "import sys\n",
    "# Uebergeordneten Ordner zum Pfad hinzufuegen, damit das common Package importiert werden kann\n",
    "if '..' not in sys.path:\n",
    "    sys.path.append('..')\n",
    "\n",
    "from common.python_intro_functions import RandomArrayGenerator, bar_plot"
   ]
  },
  {
   "cell_type": "markdown",
   "id": "20e4cbaf-51ca-493a-b779-6b46b0d2bbc0",
   "metadata": {
    "deletable": false,
    "editable": false,
    "nbgrader": {
     "cell_type": "markdown",
     "checksum": "4a4f02ac9ccb17400917c2f910f3d117",
     "grade": false,
     "grade_id": "cell-c5c0084bcd785005",
     "locked": true,
     "schema_version": 3,
     "solution": false,
     "task": false
    },
    "tags": []
   },
   "source": [
    "## NumPy/Scipy"
   ]
  },
  {
   "cell_type": "markdown",
   "id": "866485d0-8f11-469c-b1f6-3d6ef4eb878b",
   "metadata": {
    "deletable": false,
    "editable": false,
    "nbgrader": {
     "cell_type": "markdown",
     "checksum": "423c83d1f39326b4c3254bd845cfaa6c",
     "grade": false,
     "grade_id": "cell-af145cff34ee6fd7",
     "locked": true,
     "schema_version": 3,
     "solution": false,
     "task": false
    },
    "tags": []
   },
   "source": [
    "---\n",
    "### Initialisierung\n",
    "\n",
    "Die elementare Datenstruktur ist das [`ndarray`](https://numpy.org/doc/stable/reference/generated/numpy.ndarray.html). Ein neues ndarray erstellt man zum Beispiel aus einer Python Liste. "
   ]
  },
  {
   "cell_type": "code",
   "execution_count": 55,
   "id": "7c921e2e-5ee7-4743-907a-81d9b82602d6",
   "metadata": {
    "deletable": false,
    "editable": false,
    "nbgrader": {
     "cell_type": "code",
     "checksum": "26d59f7d1581c8a1d6d331ccb1a42f28",
     "grade": false,
     "grade_id": "cell-c9f29c9299a73212",
     "locked": true,
     "schema_version": 3,
     "solution": false,
     "task": false
    },
    "tags": []
   },
   "outputs": [
    {
     "name": "stdout",
     "output_type": "stream",
     "text": [
      "<class 'numpy.ndarray'>\n"
     ]
    }
   ],
   "source": [
    "rand_list = [1, 3, 5, 2, 7, 4, 9, 0, 6]\n",
    "rand_arr = np.array(rand_list)\n",
    "print(type(rand_arr))"
   ]
  },
  {
   "cell_type": "markdown",
   "id": "6446e9f3-e175-4c19-b8f9-6961d79b750a",
   "metadata": {
    "deletable": false,
    "editable": false,
    "nbgrader": {
     "cell_type": "markdown",
     "checksum": "8a49b717dba1177966c4c230df4340bb",
     "grade": false,
     "grade_id": "cell-c7b43319c9693f0e",
     "locked": true,
     "schema_version": 3,
     "solution": false,
     "task": false
    },
    "tags": []
   },
   "source": [
    "Ein Array, welches mit Nullen gefüllt ist, erstellt man mit der [`zeros()`](http://docs.scipy.org/doc/numpy/reference/generated/numpy.zeros.html) Funktion.\n",
    "\n",
    "Eine fortlaufende Sequenz (analog zu `range()`) kann mit der [`arange()`](https://numpy.org/doc/stable/reference/generated/numpy.arange.html) Funktion erstellt werden."
   ]
  },
  {
   "cell_type": "code",
   "execution_count": 56,
   "id": "9284eea6-c389-4a8f-9a73-4b8290f264ce",
   "metadata": {
    "deletable": false,
    "editable": false,
    "nbgrader": {
     "cell_type": "code",
     "checksum": "fdc4518390dbbfa8b94bcea1e8fa9c02",
     "grade": false,
     "grade_id": "cell-bdcce86013fe5d04",
     "locked": true,
     "schema_version": 3,
     "solution": false,
     "task": false
    },
    "tags": []
   },
   "outputs": [
    {
     "name": "stdout",
     "output_type": "stream",
     "text": [
      "[[0. 0. 0.]\n",
      " [0. 0. 0.]\n",
      " [0. 0. 0.]]\n",
      "(10, 10)\n",
      "[[ 0  1  2  3  4  5  6  7  8  9]\n",
      " [10 11 12 13 14 15 16 17 18 19]\n",
      " [20 21 22 23 24 25 26 27 28 29]\n",
      " [30 31 32 33 34 35 36 37 38 39]\n",
      " [40 41 42 43 44 45 46 47 48 49]\n",
      " [50 51 52 53 54 55 56 57 58 59]\n",
      " [60 61 62 63 64 65 66 67 68 69]\n",
      " [70 71 72 73 74 75 76 77 78 79]\n",
      " [80 81 82 83 84 85 86 87 88 89]\n",
      " [90 91 92 93 94 95 96 97 98 99]]\n"
     ]
    }
   ],
   "source": [
    "zeros_arr = np.zeros((3, 3))\n",
    "print(zeros_arr)\n",
    "\n",
    "seq_arr = np.arange(100).reshape(10, 10)\n",
    "print(seq_arr.shape)\n",
    "print(seq_arr)"
   ]
  },
  {
   "cell_type": "markdown",
   "id": "11e57417-50aa-4dc2-b419-5c4fa9710710",
   "metadata": {
    "deletable": false,
    "editable": false,
    "nbgrader": {
     "cell_type": "markdown",
     "checksum": "0cdc72e7a917882c1cf72075b3b6e09e",
     "grade": false,
     "grade_id": "cell-a57bce6efc4ecc19",
     "locked": true,
     "schema_version": 3,
     "solution": false,
     "task": false
    },
    "tags": []
   },
   "source": [
    "---\n",
    "### Zugriffsfunktionen und Slicing\n",
    "Im folgenden schauen wir uns Zugriffsfunktionen für ndarrays an. Hierbei sind besonders [indirekte Addressierung und Slicing](https://numpy.org/doc/stable/reference/arrays.indexing.html) wichtige Themen."
   ]
  },
  {
   "cell_type": "markdown",
   "id": "a11b341e-eb6f-4e01-99ba-32f285df6cbd",
   "metadata": {
    "deletable": false,
    "editable": false,
    "nbgrader": {
     "cell_type": "markdown",
     "checksum": "66001300da64fcaca467d15c6019e4c9",
     "grade": false,
     "grade_id": "cell-70bb10c49b21b5e5",
     "locked": true,
     "schema_version": 3,
     "solution": false,
     "task": false
    },
    "tags": []
   },
   "source": [
    "(1) Geben Sie die obere (3, 2) Matrix aus."
   ]
  },
  {
   "cell_type": "code",
   "execution_count": 57,
   "id": "0646ad5e-f4ad-4ed8-b60a-d9feb160b83d",
   "metadata": {
    "tags": []
   },
   "outputs": [
    {
     "data": {
      "text/plain": [
       "array([[ 0,  1],\n",
       "       [10, 11],\n",
       "       [20, 21]])"
      ]
     },
     "execution_count": 57,
     "metadata": {},
     "output_type": "execute_result"
    }
   ],
   "source": [
    "seq_arr[:3,:2]"
   ]
  },
  {
   "cell_type": "markdown",
   "id": "67a5677e-2d95-42a3-804a-977925825501",
   "metadata": {
    "deletable": false,
    "editable": false,
    "nbgrader": {
     "cell_type": "markdown",
     "checksum": "a16f2217a6176fc51358776b153208f5",
     "grade": false,
     "grade_id": "cell-707053ac136dc9e8",
     "locked": true,
     "schema_version": 3,
     "solution": false,
     "task": false
    },
    "tags": []
   },
   "source": [
    "(2) Geben Sie die untere (3, 3) Matrix aus."
   ]
  },
  {
   "cell_type": "code",
   "execution_count": 58,
   "id": "5f8d5c15-04f7-4eaf-b3f4-1ccb074a8cb5",
   "metadata": {
    "tags": []
   },
   "outputs": [
    {
     "data": {
      "text/plain": [
       "array([[70, 71],\n",
       "       [80, 81],\n",
       "       [90, 91]])"
      ]
     },
     "execution_count": 58,
     "metadata": {},
     "output_type": "execute_result"
    }
   ],
   "source": [
    "seq_arr[-3:,:2]"
   ]
  },
  {
   "cell_type": "markdown",
   "id": "7822ecce-847f-4a94-912a-f08445d752ac",
   "metadata": {
    "deletable": false,
    "editable": false,
    "nbgrader": {
     "cell_type": "markdown",
     "checksum": "e8fd8d471bb773aa5f4c026cc77175bf",
     "grade": false,
     "grade_id": "cell-5874fdf0cc51b700",
     "locked": true,
     "schema_version": 3,
     "solution": false,
     "task": false
    },
    "tags": []
   },
   "source": [
    "(3) Geben Sie die 4. Zeile aus."
   ]
  },
  {
   "cell_type": "code",
   "execution_count": 59,
   "id": "90ce0790-a7c7-4ae0-a1b0-9a7110d463fb",
   "metadata": {
    "tags": []
   },
   "outputs": [
    {
     "name": "stdout",
     "output_type": "stream",
     "text": [
      "[[ 0  1  2  3  4  5  6  7  8  9]\n",
      " [10 11 12 13 14 15 16 17 18 19]\n",
      " [20 21 22 23 24 25 26 27 28 29]\n",
      " [30 31 32 33 34 35 36 37 38 39]\n",
      " [40 41 42 43 44 45 46 47 48 49]\n",
      " [50 51 52 53 54 55 56 57 58 59]\n",
      " [60 61 62 63 64 65 66 67 68 69]\n",
      " [70 71 72 73 74 75 76 77 78 79]\n",
      " [80 81 82 83 84 85 86 87 88 89]\n",
      " [90 91 92 93 94 95 96 97 98 99]]\n"
     ]
    }
   ],
   "source": [
    "seq_arr[3]\n",
    "print(seq_arr)"
   ]
  },
  {
   "cell_type": "markdown",
   "id": "a0226020-20b4-4b0e-b13f-785d7491666e",
   "metadata": {
    "deletable": false,
    "editable": false,
    "nbgrader": {
     "cell_type": "markdown",
     "checksum": "8f94c4d46ac79a2b35bf828984d93148",
     "grade": false,
     "grade_id": "cell-4cde3b0831e4bf1d",
     "locked": true,
     "schema_version": 3,
     "solution": false,
     "task": false
    },
    "tags": []
   },
   "source": [
    "(4) Geben Sie jede ungerade Spalte aus, also Spalten 1, 3, ... Verwenden sie dabei slicing mit step=2."
   ]
  },
  {
   "cell_type": "code",
   "execution_count": 60,
   "id": "5708e1f7-fb13-4381-adbf-fe6796bc4bc1",
   "metadata": {
    "tags": []
   },
   "outputs": [
    {
     "data": {
      "text/plain": [
       "array([[ 1,  3,  5,  7,  9],\n",
       "       [11, 13, 15, 17, 19],\n",
       "       [21, 23, 25, 27, 29],\n",
       "       [31, 33, 35, 37, 39],\n",
       "       [41, 43, 45, 47, 49],\n",
       "       [51, 53, 55, 57, 59],\n",
       "       [61, 63, 65, 67, 69],\n",
       "       [71, 73, 75, 77, 79],\n",
       "       [81, 83, 85, 87, 89],\n",
       "       [91, 93, 95, 97, 99]])"
      ]
     },
     "execution_count": 60,
     "metadata": {},
     "output_type": "execute_result"
    }
   ],
   "source": [
    "seq_arr[: ,1::2] # 1::2 means we start from the index 1 for each column and we have a step of 2"
   ]
  },
  {
   "cell_type": "markdown",
   "id": "1e6bf99b-91d1-47b7-994a-31f458615948",
   "metadata": {
    "deletable": false,
    "editable": false,
    "nbgrader": {
     "cell_type": "markdown",
     "checksum": "4299fb3a11e23552b1ab415c466fb353",
     "grade": false,
     "grade_id": "cell-9377f87154939912",
     "locked": true,
     "schema_version": 3,
     "solution": false,
     "task": false
    },
    "tags": []
   },
   "source": [
    "(5) Geben Sie die Spalten mit Index 2, 3, 6, 7 aus."
   ]
  },
  {
   "cell_type": "code",
   "execution_count": 61,
   "id": "48bd65bd-c38f-4730-9a85-94db151896d7",
   "metadata": {
    "tags": []
   },
   "outputs": [
    {
     "data": {
      "text/plain": [
       "array([[ 2,  3,  6,  7],\n",
       "       [12, 13, 16, 17],\n",
       "       [22, 23, 26, 27],\n",
       "       [32, 33, 36, 37],\n",
       "       [42, 43, 46, 47],\n",
       "       [52, 53, 56, 57],\n",
       "       [62, 63, 66, 67],\n",
       "       [72, 73, 76, 77],\n",
       "       [82, 83, 86, 87],\n",
       "       [92, 93, 96, 97]])"
      ]
     },
     "execution_count": 61,
     "metadata": {},
     "output_type": "execute_result"
    }
   ],
   "source": [
    "np.take(seq_arr , [2,3,6,7] , axis=1)"
   ]
  },
  {
   "cell_type": "markdown",
   "id": "be3ea9b5-cadb-48bb-931b-929026ac3928",
   "metadata": {
    "deletable": false,
    "editable": false,
    "nbgrader": {
     "cell_type": "markdown",
     "checksum": "bb2d3954102241a8d6090635707fcadc",
     "grade": false,
     "grade_id": "cell-5f4503e4542a8331",
     "locked": true,
     "schema_version": 3,
     "solution": false,
     "task": false
    },
    "tags": []
   },
   "source": [
    "---\n",
    "### Boolean Indexing\n",
    "\n",
    "Setzen Sie nun alle ungeraden Elemente des ndarray `seq_arr` auf 0 und geben Sie das Ergebnis aus."
   ]
  },
  {
   "cell_type": "code",
   "execution_count": 62,
   "id": "929051df-36c9-4882-ad37-a6fc0e119b9c",
   "metadata": {
    "tags": []
   },
   "outputs": [
    {
     "data": {
      "text/plain": [
       "array([[ 0,  0,  2,  0,  4,  0,  6,  0,  8,  0],\n",
       "       [10,  0, 12,  0, 14,  0, 16,  0, 18,  0],\n",
       "       [20,  0, 22,  0, 24,  0, 26,  0, 28,  0],\n",
       "       [30,  0, 32,  0, 34,  0, 36,  0, 38,  0],\n",
       "       [40,  0, 42,  0, 44,  0, 46,  0, 48,  0],\n",
       "       [50,  0, 52,  0, 54,  0, 56,  0, 58,  0],\n",
       "       [60,  0, 62,  0, 64,  0, 66,  0, 68,  0],\n",
       "       [70,  0, 72,  0, 74,  0, 76,  0, 78,  0],\n",
       "       [80,  0, 82,  0, 84,  0, 86,  0, 88,  0],\n",
       "       [90,  0, 92,  0, 94,  0, 96,  0, 98,  0]])"
      ]
     },
     "execution_count": 62,
     "metadata": {},
     "output_type": "execute_result"
    }
   ],
   "source": [
    "seq_arr_copy = seq_arr.copy()\n",
    "masked = np.putmask(seq_arr_copy , seq_arr % 2 == 1 , 0)\n",
    "seq_arr_copy"
   ]
  },
  {
   "cell_type": "markdown",
   "id": "9585b904-0c19-4117-b577-7a2fd37517e9",
   "metadata": {
    "deletable": false,
    "editable": false,
    "nbgrader": {
     "cell_type": "markdown",
     "checksum": "92f1e5e2050c6d4b3da4236e645eff4c",
     "grade": false,
     "grade_id": "cell-8a143cba2fb03f38",
     "locked": true,
     "schema_version": 3,
     "solution": false,
     "task": false
    },
    "tags": []
   },
   "source": [
    "---\n",
    "### Mathematische Operation\n",
    "\n",
    "Numpy ermöglicht mit wenig Code viele Operationen gleichzeitig (bzw. sehr performant) zu berechnen, ohne dass Sie dazu eine Schleife in Python verwenden müssen.  \n",
    "Dies können beispielsweise Operationen sein, die für die Elemente zweier Vektoren paarweise angewendet werden. Zudem ist es häufig empfehlenswert sich zu überlegen, ob Operationen auch als Vektor- oder Matrixmultiplikation formuliert werden können.\n",
    "\n",
    "Verwenden Sie dazu die Operatoren `+`, `*`  und [`np.dot`](https://numpy.org/doc/stable/reference/generated/numpy.dot.html) in geeigneter Weise."
   ]
  },
  {
   "cell_type": "markdown",
   "id": "bfb30872-fb2d-48a5-bbae-43e175f35b4e",
   "metadata": {
    "deletable": false,
    "editable": false,
    "nbgrader": {
     "cell_type": "markdown",
     "checksum": "db2530cc9ccbc4b0b1ed04651cbe60b8",
     "grade": false,
     "grade_id": "cell-75a8be3c2b0102ad",
     "locked": true,
     "schema_version": 3,
     "solution": false,
     "task": false
    },
    "tags": []
   },
   "source": [
    "(1) Geben Sie die elementweise Summe der ersten beiden Zeilen aus."
   ]
  },
  {
   "cell_type": "code",
   "execution_count": 63,
   "id": "705b798f-70e4-4628-bfda-0cd90d25a946",
   "metadata": {
    "tags": []
   },
   "outputs": [
    {
     "name": "stdout",
     "output_type": "stream",
     "text": [
      "[0 1 2 3 4 5 6 7 8 9]\n",
      "[10 11 12 13 14 15 16 17 18 19]\n",
      "[10 12 14 16 18 20 22 24 26 28]\n"
     ]
    }
   ],
   "source": [
    "print(seq_arr[0])\n",
    "print( seq_arr[1])\n",
    "print(seq_arr[0] + seq_arr[1])"
   ]
  },
  {
   "cell_type": "markdown",
   "id": "f425af24-429f-4987-9a2d-02740786f3dc",
   "metadata": {
    "deletable": false,
    "editable": false,
    "nbgrader": {
     "cell_type": "markdown",
     "checksum": "a6e5ac54eb85b17d7ed2bedbd7b35cf0",
     "grade": false,
     "grade_id": "cell-2b432e21e6ec6d82",
     "locked": true,
     "schema_version": 3,
     "solution": false,
     "task": false
    },
    "tags": []
   },
   "source": [
    "(2) Geben Sie das elementweise Produkt der ersten beiden Zeilen aus."
   ]
  },
  {
   "cell_type": "code",
   "execution_count": 69,
   "id": "cbc357e0-898f-4dbd-b349-9a9fc58e6e05",
   "metadata": {
    "tags": []
   },
   "outputs": [
    {
     "name": "stdout",
     "output_type": "stream",
     "text": [
      "[0 1 2 3 4 5 6 7 8 9]\n",
      "[10 11 12 13 14 15 16 17 18 19]\n",
      "[  0  11  24  39  56  75  96 119 144 171]\n"
     ]
    }
   ],
   "source": [
    "print(seq_arr[0])\n",
    "print( seq_arr[1])\n",
    "print(seq_arr[0] * seq_arr[1])"
   ]
  },
  {
   "cell_type": "markdown",
   "id": "b85560ad-f3a6-472d-b553-c26356eedfab",
   "metadata": {
    "deletable": false,
    "editable": false,
    "nbgrader": {
     "cell_type": "markdown",
     "checksum": "cd00537901c52dd0b15d8e7b0edda5d1",
     "grade": false,
     "grade_id": "cell-f98d66633ae9bc80",
     "locked": true,
     "schema_version": 3,
     "solution": false,
     "task": false
    },
    "tags": []
   },
   "source": [
    "(3) Geben Sie das Skalarprodukt der ersten beiden Zeilen aus."
   ]
  },
  {
   "cell_type": "code",
   "execution_count": 72,
   "id": "cd06cb9a-6f75-4a8e-b798-6e3f61cf42f4",
   "metadata": {
    "tags": []
   },
   "outputs": [
    {
     "name": "stdout",
     "output_type": "stream",
     "text": [
      "[0 1 2 3 4 5 6 7 8 9]\n",
      "[10 11 12 13 14 15 16 17 18 19]\n",
      "735\n"
     ]
    }
   ],
   "source": [
    "print(seq_arr[0])\n",
    "print( seq_arr[1])\n",
    "print(np.dot(seq_arr[0] , seq_arr[1]))"
   ]
  },
  {
   "cell_type": "markdown",
   "id": "b290ddd8-c928-4ac8-a4e3-6908f0c02c59",
   "metadata": {
    "deletable": false,
    "editable": false,
    "nbgrader": {
     "cell_type": "markdown",
     "checksum": "50a8db75e4192f412aa5f17d881fe832",
     "grade": false,
     "grade_id": "cell-124564e0d36d48b9",
     "locked": true,
     "schema_version": 3,
     "solution": false,
     "task": false
    },
    "tags": []
   },
   "source": [
    "(4) Berechnen Sie eine gewichtete Summe zwischen dem Eingabevektor $x$ und den Gewichten $w$. Sie können zuerst die Summe in einer Schleife berechnen.\n",
    "Berechnen Sie anschließend dieselbe gewichtete Summe, ohne eine Schleife zu verwenden."
   ]
  },
  {
   "cell_type": "code",
   "execution_count": 75,
   "id": "2892ede8-4e55-416c-a60f-2774b618a906",
   "metadata": {
    "tags": []
   },
   "outputs": [
    {
     "name": "stdout",
     "output_type": "stream",
     "text": [
      "x [0 1 2 3 4]\n",
      "w [1.  2.  1.5 0.5 4.2]\n",
      "sum 23.3\n",
      "weighted sum 23.3\n"
     ]
    }
   ],
   "source": [
    "x = np.arange(5)\n",
    "w = np.asarray([1.0, 2.0, 1.5, 0.5, 4.2])\n",
    "print(\"x\",x)\n",
    "print(\"w\",w)\n",
    "sum = 0\n",
    "for num , weight in zip(x,w):\n",
    "\tsum += num * weight \n",
    "print(\"sum\" , sum)\n",
    "print(\"weighted sum\" , np.dot(x,w))\n"
   ]
  },
  {
   "cell_type": "markdown",
   "id": "bf00f6ed-10b5-4306-93c3-a23302f1b241",
   "metadata": {
    "deletable": false,
    "editable": false,
    "nbgrader": {
     "cell_type": "markdown",
     "checksum": "2e5843cb064bc8d22a099d09de81fda6",
     "grade": false,
     "grade_id": "cell-fb402f2522ae4a81",
     "locked": true,
     "schema_version": 3,
     "solution": false,
     "task": false
    },
    "tags": []
   },
   "source": [
    "(5) Statt einer einzelnen Vektors $x$ als Eingabe sollen nun die Gewichteten Summen für mehrere Eingaben $X$ (einzelne Eingaben in Zeilen) berechnen. Das Ergebnis soll nun ein Vektor mit den gewichteten Summen sein. Verwenden Sie keine Schleifen."
   ]
  },
  {
   "cell_type": "code",
   "execution_count": 79,
   "id": "3ff901ac-ca8f-4658-85bc-76a6ace0373a",
   "metadata": {
    "tags": []
   },
   "outputs": [
    {
     "name": "stdout",
     "output_type": "stream",
     "text": [
      "[ 23.3  69.3 115.3 161.3]\n"
     ]
    }
   ],
   "source": [
    "X = np.arange(20).reshape((4, 5))\n",
    "w = np.asarray([1.0, 2.0, 1.5, 0.5, 4.2])\n",
    "print(np.dot(X, w ,))\n"
   ]
  },
  {
   "cell_type": "markdown",
   "id": "d91bfe7f-d3d8-4b1c-a877-df9349d1a309",
   "metadata": {
    "deletable": false,
    "editable": false,
    "nbgrader": {
     "cell_type": "markdown",
     "checksum": "c839c4ef8883fd4ca0557861245ba646",
     "grade": false,
     "grade_id": "cell-29f50d902e2d5edf",
     "locked": true,
     "schema_version": 3,
     "solution": false,
     "task": false
    },
    "tags": []
   },
   "source": [
    "(6) Als letzte Erweiterung dieser Berechnung nehmen wir nun an, dass die Gewichtete Summe nicht nur für mehrere Eingaben gleichzeitg berechnet werden soll, sondern auch für mehrere Gewichtungen. Jetzt haben Sie also die Eingabematrix $X$ mit Zeilenweise vorliegenden Beispielen. In der Matrix $W$ liegen die Gewichte ebenfalls zeilenweise vor. Berechnen Sie nun die gewichteten Summen für jede Kombination von Eingaben und Gewichten. Verwenden Sie auch hier keine Schleife!"
   ]
  },
  {
   "cell_type": "code",
   "execution_count": 100,
   "id": "4aa122ba-464f-4c8a-aa1e-b4bfbd19738b",
   "metadata": {
    "tags": []
   },
   "outputs": [
    {
     "name": "stdout",
     "output_type": "stream",
     "text": [
      "X [[ 0  1  2  3  4]\n",
      " [ 5  6  7  8  9]\n",
      " [10 11 12 13 14]\n",
      " [15 16 17 18 19]]\n",
      "\n",
      "W [[1.  2.  1.5 0.5 4.2]\n",
      " [0.5 3.  1.2 1.3 0.2]\n",
      " [3.5 4.3 2.7 3.1 0.2]]\n",
      "\n",
      "W transposed [[1.  0.5 3.5]\n",
      " [2.  3.  4.3]\n",
      " [1.5 1.2 2.7]\n",
      " [0.5 1.3 3.1]\n",
      " [4.2 0.2 0.2]]\n",
      "\n",
      "outer [[ 23.3  10.1  19.8]\n",
      " [ 69.3  41.1  88.8]\n",
      " [115.3  72.1 157.8]\n",
      " [161.3 103.1 226.8]]\n"
     ]
    }
   ],
   "source": [
    "print(\"X\" , X)\n",
    "W = np.asarray([[1.0, 2.0, 1.5, 0.5, 4.2],\n",
    "                [0.5, 3.0, 1.2, 1.3, 0.2],\n",
    "                [3.5, 4.3, 2.7, 3.1, 0.2]])\n",
    "\n",
    "print()\n",
    "print(\"W\" , W)\n",
    "print()\n",
    "print(\"W transposed\" , W.T)\n",
    "print()\n",
    "print(\"outer\" , np.dot(X,W.T))"
   ]
  },
  {
   "cell_type": "markdown",
   "id": "08f290c3-575a-40a9-acbc-a3424822f96a",
   "metadata": {
    "deletable": false,
    "editable": false,
    "nbgrader": {
     "cell_type": "markdown",
     "checksum": "e672f30307cc183c8e3e50ed72c6a11b",
     "grade": false,
     "grade_id": "cell-5ac4003373d456c4",
     "locked": true,
     "schema_version": 3,
     "solution": false,
     "task": false
    },
    "tags": []
   },
   "source": [
    "---\n",
    "### Wichtige Funktionen\n",
    "\n",
    "Nun schauen wir uns noch einige wichtige NumPy Funktionen an.\n",
    "\n",
    "(1) Bestimmen Sie in dem ndarray `seq_arr` in jeder Zeile das größte Element\n",
    "und seinen Index. Geben Sie die Ergebnisse aus.\n",
    "\n",
    "Hinweis: Achten Sie dabei auf die korrekte Wahl des *axis*-Arguments!\n",
    "\n",
    "Nützliche Funktionen:\n",
    "- [`np.max` / `np.amax`](https://numpy.org/doc/stable/reference/generated/numpy.amax.html)\n",
    "- [`np.argmax`](https://numpy.org/doc/stable/reference/generated/numpy.argmax.html)"
   ]
  },
  {
   "cell_type": "code",
   "execution_count": 106,
   "id": "b7a29cba-8bc1-452f-b7f7-bc508b62cf65",
   "metadata": {
    "tags": []
   },
   "outputs": [
    {
     "name": "stdout",
     "output_type": "stream",
     "text": [
      "seq_arr [[ 0  1  2  3  4  5  6  7  8  9]\n",
      " [10 11 12 13 14 15 16 17 18 19]\n",
      " [20 21 22 23 24 25 26 27 28 29]\n",
      " [30 31 32 33 34 35 36 37 38 39]\n",
      " [40 41 42 43 44 45 46 47 48 49]\n",
      " [50 51 52 53 54 55 56 57 58 59]\n",
      " [60 61 62 63 64 65 66 67 68 69]\n",
      " [70 71 72 73 74 75 76 77 78 79]\n",
      " [80 81 82 83 84 85 86 87 88 89]\n",
      " [90 91 92 93 94 95 96 97 98 99]]\n",
      "\n",
      "max [ 9 19 29 39 49 59 69 79 89 99]\n",
      "\n",
      "max index [9 9 9 9 9 9 9 9 9 9]\n"
     ]
    }
   ],
   "source": [
    "print(\"seq_arr\" ,seq_arr )\n",
    "print()\n",
    "print(\"max\" , np.max(seq_arr , axis = 1))\n",
    "print()\n",
    "print(\"max index\" , np.argmax(seq_arr , axis = 1))"
   ]
  },
  {
   "cell_type": "markdown",
   "id": "f819c1f6-e323-41b0-8b64-c9f56c9a5e32",
   "metadata": {
    "deletable": false,
    "editable": false,
    "nbgrader": {
     "cell_type": "markdown",
     "checksum": "8b46fc1e56f7c880a89f9f524d8ece0b",
     "grade": false,
     "grade_id": "cell-907c8c82fe35d98c",
     "locked": true,
     "schema_version": 3,
     "solution": false,
     "task": false
    },
    "tags": []
   },
   "source": [
    "(2) Bestimmen Sie die Summe und den Mittelwert entlang jeder Zeile.\n",
    "\n",
    "Nützliche Funktionen:\n",
    "- [`np.sum`](https://numpy.org/doc/stable/reference/generated/numpy.sum.html)\n",
    "- [`np.mean`](https://numpy.org/doc/stable/reference/generated/numpy.mean.html)"
   ]
  },
  {
   "cell_type": "code",
   "execution_count": 107,
   "id": "0d6fb9e7-60fb-4448-b633-fcbdc4cc1c47",
   "metadata": {
    "tags": []
   },
   "outputs": [
    {
     "name": "stdout",
     "output_type": "stream",
     "text": [
      "seq_arr [[ 0  1  2  3  4  5  6  7  8  9]\n",
      " [10 11 12 13 14 15 16 17 18 19]\n",
      " [20 21 22 23 24 25 26 27 28 29]\n",
      " [30 31 32 33 34 35 36 37 38 39]\n",
      " [40 41 42 43 44 45 46 47 48 49]\n",
      " [50 51 52 53 54 55 56 57 58 59]\n",
      " [60 61 62 63 64 65 66 67 68 69]\n",
      " [70 71 72 73 74 75 76 77 78 79]\n",
      " [80 81 82 83 84 85 86 87 88 89]\n",
      " [90 91 92 93 94 95 96 97 98 99]]\n",
      "\n",
      "sum [ 45 145 245 345 445 545 645 745 845 945]\n",
      "\n",
      "mean [ 4.5 14.5 24.5 34.5 44.5 54.5 64.5 74.5 84.5 94.5]\n"
     ]
    }
   ],
   "source": [
    "print(\"seq_arr\" ,seq_arr )\n",
    "print()\n",
    "print(\"sum\" , np.sum(seq_arr , axis = 1))\n",
    "print()\n",
    "print(\"mean\" , np.mean(seq_arr , axis = 1))"
   ]
  },
  {
   "cell_type": "markdown",
   "id": "8dda9231-0476-4c83-8c4f-076df86b8caf",
   "metadata": {
    "deletable": false,
    "editable": false,
    "nbgrader": {
     "cell_type": "markdown",
     "checksum": "2fc681e67ea69593999d2bd42c77fadb",
     "grade": false,
     "grade_id": "cell-345bebdaa66fb8bb",
     "locked": true,
     "schema_version": 3,
     "solution": false,
     "task": false
    },
    "tags": []
   },
   "source": [
    "---\n",
    "## Matplotlib\n",
    "\n",
    "Häufig kann es sehr hilfreich sein, Daten und deren Verteilung zu visualisieren. Hierfür bietet sich die Verwendung der Bibliothek matplotlib an.\n",
    "\n",
    "In Kombination mit JupyterLab oder Jupyter Notebooks können mit Hilfe von Magic Commands [verschiedene Backends für matplotlib](https://ipython.readthedocs.io/en/stable/interactive/magics.html#magic-matplotlib) gewählt werden. Für JupyterLab empfiehlt sich die Verwendung von `%matplotlib widget` (erfordert das [ipympl](https://jupyter-tutorial.readthedocs.io/de/latest/workspace/jupyter/ipywidgets/libs/ipympl.html) package).\n",
    "\n",
    "Hinweis: Normalerweise würde man diese Imports ebenfalls am Anfang des Skripts platzieren.\n"
   ]
  },
  {
   "cell_type": "code",
   "execution_count": 108,
   "id": "65dffb6a-8754-48d4-8578-434194d7a765",
   "metadata": {
    "deletable": false,
    "editable": false,
    "nbgrader": {
     "cell_type": "code",
     "checksum": "5690b579566ffeb9bc7434d2680f2f2c",
     "grade": false,
     "grade_id": "cell-3c1c78f81582db04",
     "locked": true,
     "schema_version": 3,
     "solution": false,
     "task": false
    },
    "tags": []
   },
   "outputs": [],
   "source": [
    "import matplotlib.pyplot as plt\n",
    "\n",
    "%matplotlib widget"
   ]
  },
  {
   "cell_type": "markdown",
   "id": "54927e20-ef67-4742-85aa-a66c094ed77d",
   "metadata": {
    "deletable": false,
    "editable": false,
    "nbgrader": {
     "cell_type": "markdown",
     "checksum": "331882bcb215cf8b8d8d32bd679cc990",
     "grade": false,
     "grade_id": "cell-ea0b75821a067a0a",
     "locked": true,
     "schema_version": 3,
     "solution": false,
     "task": false
    },
    "tags": []
   },
   "source": [
    "Zunächst schauen wir uns noch ein etwas komplexeres Beispiel für NumPy Funktionen an und visualisieren die Ergebnisse mit matplotlib. \n",
    "\n",
    "Die folgenden Arrays enthalten normalverteilte und gleichverteilte Zufallszahlen."
   ]
  },
  {
   "cell_type": "code",
   "execution_count": 151,
   "id": "417c5b72-9463-4036-9ed3-871f89318686",
   "metadata": {
    "deletable": false,
    "editable": false,
    "nbgrader": {
     "cell_type": "code",
     "checksum": "e334f6a5fc76f192d06e2d280f5b5ded",
     "grade": false,
     "grade_id": "cell-4ceef60ef17421d6",
     "locked": true,
     "schema_version": 3,
     "solution": false,
     "task": false
    },
    "tags": []
   },
   "outputs": [],
   "source": [
    "rand_arr_gen = RandomArrayGenerator()\n",
    "rand_arr_gauss = rand_arr_gen.rand_gauss(arr_shape=(50000,), mean=50, std_deviation=10)\n",
    "rand_arr_unif = rand_arr_gen.rand_uniform(arr_shape=(10000, 50), min_elem=0.5, max_elem=10.5)"
   ]
  },
  {
   "cell_type": "markdown",
   "id": "ca1fe332-518f-4b84-8aca-3a4d5e3a0a65",
   "metadata": {
    "deletable": false,
    "editable": false,
    "nbgrader": {
     "cell_type": "markdown",
     "checksum": "9ca1c09a9fef49230d90c0a0220234a2",
     "grade": false,
     "grade_id": "cell-28add589d0fb77bc",
     "locked": true,
     "schema_version": 3,
     "solution": false,
     "task": false
    },
    "tags": []
   },
   "source": [
    "Runden Sie die Elemente der Arrays (ganzzahlig) und erstellen sie jeweils Histogramme. Um das Histogramm für `rand_arr_unif` zu erstellen, linearisieren Sie die Matrix zunächst. (Verwenden Sie `reshape` mit shape Parameter -1.)\n",
    "\n",
    "Plotten Sie die Ergebnisse mit matplotlib. Erstellen Sie dazu eine neue Figure inkl. Axis und verwenden Sie dazu die Methode `bar_plot` aus dem Modul [`common.python_intro_functions`](../common/python_intro_functions.py) um darin zu plotten.\n",
    "\n",
    "Nützliche Funktionen:\n",
    "- [`np.around`](http://docs.scipy.org/doc/numpy/reference/generated/numpy.around.html)\n",
    "- [`np.bincount`](http://docs.scipy.org/doc/numpy/reference/generated/numpy.bincount.html)\n",
    "- [`np.reshape`](http://docs.scipy.org/doc/numpy/reference/generated/numpy.reshape.html)\n",
    "- [`plt.subplots`](https://matplotlib.org/stable/api/_as_gen/matplotlib.pyplot.subplots.html)"
   ]
  },
  {
   "cell_type": "code",
   "execution_count": 157,
   "id": "f4ffbdcb-a1f3-4edc-b78a-c45df55d421e",
   "metadata": {
    "tags": []
   },
   "outputs": [
    {
     "data": {
      "application/vnd.jupyter.widget-view+json": {
       "model_id": "73b43e00454843e8b6613f257534d303",
       "version_major": 2,
       "version_minor": 0
      },
      "image/png": "[encoded data removed]",
      "text/html": [
       "\n",
       "            <div style=\"display: inline-block;\">\n",
       "                <div class=\"jupyter-widgets widget-label\" style=\"text-align: center;\">\n",
       "                    Figure\n",
       "                </div>\n",
       "                <img src='data:image/png;base64,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' width=640.0/>\n",
       "            </div>\n",
       "        "
      ],
      "text/plain": [
       "Canvas(toolbar=Toolbar(toolitems=[('Home', 'Reset original view', 'home', 'home'), ('Back', 'Back to previous …"
      ]
     },
     "metadata": {},
     "output_type": "display_data"
    }
   ],
   "source": [
    "rounded = np.rint(rand_arr_gauss).astype(np.int64)\n",
    "unif_linearized = rand_arr_unif.reshape(-1)\n",
    "rounded_unif  = np.rint(unif_linearized).astype(np.int64)\n",
    "bincount = np.bincount(rounded)\n",
    "bincount_unif = np.bincount(rounded_unif)\n",
    "fig, ax = plt.subplots(ncols=2 , )\n",
    "bar_plot(ax[0] , np.arange(bincount.shape[0]), bincount , title=\"bin count histogram\")\n",
    "bar_plot(ax[1] , np.arange(bincount_unif.shape[0]), bincount_unif , title=\"bin count unif histogram\")\n"
   ]
  },
  {
   "cell_type": "markdown",
   "id": "4adfc5bc-ed6a-4892-a0f9-b15432bee161",
   "metadata": {
    "deletable": false,
    "editable": false,
    "nbgrader": {
     "cell_type": "markdown",
     "checksum": "c2bb71a80839770b897fdbbc058e77f6",
     "grade": false,
     "grade_id": "cell-c34bf8950ac3a7f2",
     "locked": true,
     "schema_version": 3,
     "solution": false,
     "task": false
    },
    "tags": []
   },
   "source": [
    "Bilden Sie nun die zeilenweisen Summen über das ndarray mit den gleichverteilten Zufallszahlen \n",
    "(`rand_arr_unif`). Berechnen und visualisieren Sie das Histogramm wie zuvor. Erklären Sie das Ergebnis."
   ]
  },
  {
   "cell_type": "code",
   "execution_count": null,
   "id": "a2c0357e-4e14-48c0-974e-fdae9d166107",
   "metadata": {
    "pycharm": {
     "name": "#%%\n"
    },
    "tags": []
   },
   "outputs": [],
   "source": []
  }
 ],
 "metadata": {
  "kernelspec": {
   "display_name": "Python 3.10.6 ('venv': venv)",
   "language": "python",
   "name": "python3"
  },
  "language_info": {
   "codemirror_mode": {
    "name": "ipython",
    "version": 3
   },
   "file_extension": ".py",
   "mimetype": "text/x-python",
   "name": "python",
   "nbconvert_exporter": "python",
   "pygments_lexer": "ipython3",
   "version": "3.10.6"
  },
  "vscode": {
   "interpreter": {
    "hash": "fc08c6a171b6838a188e3c3554b8e7e943075d7bc2272df6fd278e6ba9dfd998"
   }
  }
 },
 "nbformat": 4,
 "nbformat_minor": 5
}
