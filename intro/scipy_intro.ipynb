{
 "cells": [
  {
   "cell_type": "markdown",
   "id": "13a97483-c35b-44e6-9300-498e21e412c5",
   "metadata": {
    "deletable": false,
    "editable": false,
    "nbgrader": {
     "cell_type": "markdown",
     "checksum": "c2c936a7cb51681e053cf28d7ec7e353",
     "grade": false,
     "grade_id": "cell-938f53da7fdd25f8",
     "locked": true,
     "schema_version": 3,
     "solution": false,
     "task": false
    },
    "tags": []
   },
   "source": [
    "**Fachprojekt Dokumentenanalyse** *WS 22/23* -- *Philipp Oberdiek, Gernot A. Fink* -- *Technische Universität Dortmund, Lehrstuhl XII, Mustererkennung in eingebetteten Systemen*\n",
    "---\n",
    "# Einführung in NumPy/Scipy und Matplotlib\n",
    "\n",
    "In diesen Einführungsaufgaben sollen Sie sich mit den grundlegenden Eigenschaften und Funktionen von *NumPy/SciPy* und *matplotlib* vertraut machen. Die Aufgaben sind dazu gedacht, Ihnen den Einstieg zu erleichtern.\n",
    "\n",
    "Sehr grosse Datenmengen lassen sich iterativ nicht effizient in Python verarbeiten. Dazu gibt es mit NumPy / SciPy eine Bibliothek, mit der numerische Berechnungen vektorisiert effizient durchgefuehrt werden können.\n",
    "Vektorisiert bedeutet dabei, dass Operationen auf großen Datenmengen direkt mit einzelnen Methodenaufrufen durchgeführt werden und nicht über Schleifen in Python Code umgesetzt werden.\n",
    "\n",
    "**ACHTUNG:** Diese Form der Programmierung unterscheidet sich DEUTLICH von dem was sie vielleicht aus C / C++ oder auch Java gewohnt sind."
   ]
  },
  {
   "cell_type": "markdown",
   "id": "1721e513-a269-4a5e-8512-ade496679a39",
   "metadata": {
    "deletable": false,
    "editable": false,
    "nbgrader": {
     "cell_type": "markdown",
     "checksum": "2820d58c47a03ee360c0742ab6c3d9dc",
     "grade": false,
     "grade_id": "cell-4397aae683d01351",
     "locked": true,
     "schema_version": 3,
     "solution": false,
     "task": false
    },
    "tags": []
   },
   "source": [
    "Zuerst importieren wir die benötigten Module."
   ]
  },
  {
   "cell_type": "code",
   "execution_count": null,
   "id": "8f948207-f8ff-4cbb-b937-6df61f51193a",
   "metadata": {
    "deletable": false,
    "editable": false,
    "nbgrader": {
     "cell_type": "code",
     "checksum": "5cf7bffdbcfce670fe4b170c2f77290e",
     "grade": false,
     "grade_id": "cell-aec11f3aefab214f",
     "locked": true,
     "schema_version": 3,
     "solution": false,
     "task": false
    },
    "tags": []
   },
   "outputs": [],
   "source": [
    "%load_ext autoreload\n",
    "%autoreload 2\n",
    "\n",
    "import numpy as np\n",
    "import sys\n",
    "# Uebergeordneten Ordner zum Pfad hinzufuegen, damit das common Package importiert werden kann\n",
    "if '..' not in sys.path:\n",
    "    sys.path.append('..')\n",
    "\n",
    "from common.python_intro_functions import RandomArrayGenerator, bar_plot"
   ]
  },
  {
   "cell_type": "markdown",
   "id": "20e4cbaf-51ca-493a-b779-6b46b0d2bbc0",
   "metadata": {
    "deletable": false,
    "editable": false,
    "nbgrader": {
     "cell_type": "markdown",
     "checksum": "4a4f02ac9ccb17400917c2f910f3d117",
     "grade": false,
     "grade_id": "cell-c5c0084bcd785005",
     "locked": true,
     "schema_version": 3,
     "solution": false,
     "task": false
    },
    "tags": []
   },
   "source": [
    "## NumPy/Scipy"
   ]
  },
  {
   "cell_type": "markdown",
   "id": "866485d0-8f11-469c-b1f6-3d6ef4eb878b",
   "metadata": {
    "deletable": false,
    "editable": false,
    "nbgrader": {
     "cell_type": "markdown",
     "checksum": "423c83d1f39326b4c3254bd845cfaa6c",
     "grade": false,
     "grade_id": "cell-af145cff34ee6fd7",
     "locked": true,
     "schema_version": 3,
     "solution": false,
     "task": false
    },
    "tags": []
   },
   "source": [
    "---\n",
    "### Initialisierung\n",
    "\n",
    "Die elementare Datenstruktur ist das [`ndarray`](https://numpy.org/doc/stable/reference/generated/numpy.ndarray.html). Ein neues ndarray erstellt man zum Beispiel aus einer Python Liste. "
   ]
  },
  {
   "cell_type": "code",
   "execution_count": null,
   "id": "7c921e2e-5ee7-4743-907a-81d9b82602d6",
   "metadata": {
    "deletable": false,
    "editable": false,
    "nbgrader": {
     "cell_type": "code",
     "checksum": "26d59f7d1581c8a1d6d331ccb1a42f28",
     "grade": false,
     "grade_id": "cell-c9f29c9299a73212",
     "locked": true,
     "schema_version": 3,
     "solution": false,
     "task": false
    },
    "tags": []
   },
   "outputs": [],
   "source": [
    "rand_list = [1, 3, 5, 2, 7, 4, 9, 0, 6]\n",
    "rand_arr = np.array(rand_list)\n",
    "print(type(rand_arr))"
   ]
  },
  {
   "cell_type": "markdown",
   "id": "6446e9f3-e175-4c19-b8f9-6961d79b750a",
   "metadata": {
    "deletable": false,
    "editable": false,
    "nbgrader": {
     "cell_type": "markdown",
     "checksum": "8a49b717dba1177966c4c230df4340bb",
     "grade": false,
     "grade_id": "cell-c7b43319c9693f0e",
     "locked": true,
     "schema_version": 3,
     "solution": false,
     "task": false
    },
    "tags": []
   },
   "source": [
    "Ein Array, welches mit Nullen gefüllt ist, erstellt man mit der [`zeros()`](http://docs.scipy.org/doc/numpy/reference/generated/numpy.zeros.html) Funktion.\n",
    "\n",
    "Eine fortlaufende Sequenz (analog zu `range()`) kann mit der [`arange()`](https://numpy.org/doc/stable/reference/generated/numpy.arange.html) Funktion erstellt werden."
   ]
  },
  {
   "cell_type": "code",
   "execution_count": null,
   "id": "9284eea6-c389-4a8f-9a73-4b8290f264ce",
   "metadata": {
    "deletable": false,
    "editable": false,
    "nbgrader": {
     "cell_type": "code",
     "checksum": "fdc4518390dbbfa8b94bcea1e8fa9c02",
     "grade": false,
     "grade_id": "cell-bdcce86013fe5d04",
     "locked": true,
     "schema_version": 3,
     "solution": false,
     "task": false
    },
    "tags": []
   },
   "outputs": [],
   "source": [
    "zeros_arr = np.zeros((3, 3))\n",
    "print(zeros_arr)\n",
    "\n",
    "seq_arr = np.arange(100).reshape(10, 10)\n",
    "print(seq_arr.shape)\n",
    "print(seq_arr)"
   ]
  },
  {
   "cell_type": "markdown",
   "id": "11e57417-50aa-4dc2-b419-5c4fa9710710",
   "metadata": {
    "deletable": false,
    "editable": false,
    "nbgrader": {
     "cell_type": "markdown",
     "checksum": "0cdc72e7a917882c1cf72075b3b6e09e",
     "grade": false,
     "grade_id": "cell-a57bce6efc4ecc19",
     "locked": true,
     "schema_version": 3,
     "solution": false,
     "task": false
    },
    "tags": []
   },
   "source": [
    "---\n",
    "### Zugriffsfunktionen und Slicing\n",
    "Im folgenden schauen wir uns Zugriffsfunktionen für ndarrays an. Hierbei sind besonders [indirekte Addressierung und Slicing](https://numpy.org/doc/stable/reference/arrays.indexing.html) wichtige Themen."
   ]
  },
  {
   "cell_type": "markdown",
   "id": "a11b341e-eb6f-4e01-99ba-32f285df6cbd",
   "metadata": {
    "deletable": false,
    "editable": false,
    "nbgrader": {
     "cell_type": "markdown",
     "checksum": "66001300da64fcaca467d15c6019e4c9",
     "grade": false,
     "grade_id": "cell-70bb10c49b21b5e5",
     "locked": true,
     "schema_version": 3,
     "solution": false,
     "task": false
    },
    "tags": []
   },
   "source": [
    "(1) Geben Sie die obere (3, 2) Matrix aus."
   ]
  },
  {
   "cell_type": "code",
   "execution_count": null,
   "id": "0646ad5e-f4ad-4ed8-b60a-d9feb160b83d",
   "metadata": {
    "tags": []
   },
   "outputs": [],
   "source": []
  },
  {
   "cell_type": "markdown",
   "id": "67a5677e-2d95-42a3-804a-977925825501",
   "metadata": {
    "deletable": false,
    "editable": false,
    "nbgrader": {
     "cell_type": "markdown",
     "checksum": "a16f2217a6176fc51358776b153208f5",
     "grade": false,
     "grade_id": "cell-707053ac136dc9e8",
     "locked": true,
     "schema_version": 3,
     "solution": false,
     "task": false
    },
    "tags": []
   },
   "source": [
    "(2) Geben Sie die untere (3, 3) Matrix aus."
   ]
  },
  {
   "cell_type": "code",
   "execution_count": null,
   "id": "5f8d5c15-04f7-4eaf-b3f4-1ccb074a8cb5",
   "metadata": {
    "tags": []
   },
   "outputs": [],
   "source": []
  },
  {
   "cell_type": "markdown",
   "id": "7822ecce-847f-4a94-912a-f08445d752ac",
   "metadata": {
    "deletable": false,
    "editable": false,
    "nbgrader": {
     "cell_type": "markdown",
     "checksum": "e8fd8d471bb773aa5f4c026cc77175bf",
     "grade": false,
     "grade_id": "cell-5874fdf0cc51b700",
     "locked": true,
     "schema_version": 3,
     "solution": false,
     "task": false
    },
    "tags": []
   },
   "source": [
    "(3) Geben Sie die 4. Zeile aus."
   ]
  },
  {
   "cell_type": "code",
   "execution_count": null,
   "id": "90ce0790-a7c7-4ae0-a1b0-9a7110d463fb",
   "metadata": {
    "tags": []
   },
   "outputs": [],
   "source": []
  },
  {
   "cell_type": "markdown",
   "id": "a0226020-20b4-4b0e-b13f-785d7491666e",
   "metadata": {
    "deletable": false,
    "editable": false,
    "nbgrader": {
     "cell_type": "markdown",
     "checksum": "8f94c4d46ac79a2b35bf828984d93148",
     "grade": false,
     "grade_id": "cell-4cde3b0831e4bf1d",
     "locked": true,
     "schema_version": 3,
     "solution": false,
     "task": false
    },
    "tags": []
   },
   "source": [
    "(4) Geben Sie jede ungerade Spalte aus, also Spalten 1, 3, ... Verwenden sie dabei slicing mit step=2."
   ]
  },
  {
   "cell_type": "code",
   "execution_count": null,
   "id": "5708e1f7-fb13-4381-adbf-fe6796bc4bc1",
   "metadata": {
    "tags": []
   },
   "outputs": [],
   "source": []
  },
  {
   "cell_type": "markdown",
   "id": "1e6bf99b-91d1-47b7-994a-31f458615948",
   "metadata": {
    "deletable": false,
    "editable": false,
    "nbgrader": {
     "cell_type": "markdown",
     "checksum": "4299fb3a11e23552b1ab415c466fb353",
     "grade": false,
     "grade_id": "cell-9377f87154939912",
     "locked": true,
     "schema_version": 3,
     "solution": false,
     "task": false
    },
    "tags": []
   },
   "source": [
    "(5) Geben Sie die Spalten mit Index 2, 3, 6, 7 aus."
   ]
  },
  {
   "cell_type": "code",
   "execution_count": null,
   "id": "48bd65bd-c38f-4730-9a85-94db151896d7",
   "metadata": {
    "tags": []
   },
   "outputs": [],
   "source": []
  },
  {
   "cell_type": "markdown",
   "id": "be3ea9b5-cadb-48bb-931b-929026ac3928",
   "metadata": {
    "deletable": false,
    "editable": false,
    "nbgrader": {
     "cell_type": "markdown",
     "checksum": "bb2d3954102241a8d6090635707fcadc",
     "grade": false,
     "grade_id": "cell-5f4503e4542a8331",
     "locked": true,
     "schema_version": 3,
     "solution": false,
     "task": false
    },
    "tags": []
   },
   "source": [
    "---\n",
    "### Boolean Indexing\n",
    "\n",
    "Setzen Sie nun alle ungeraden Elemente des ndarray `seq_arr` auf 0 und geben Sie das Ergebnis aus."
   ]
  },
  {
   "cell_type": "code",
   "execution_count": null,
   "id": "929051df-36c9-4882-ad37-a6fc0e119b9c",
   "metadata": {
    "tags": []
   },
   "outputs": [],
   "source": []
  },
  {
   "cell_type": "markdown",
   "id": "9585b904-0c19-4117-b577-7a2fd37517e9",
   "metadata": {
    "deletable": false,
    "editable": false,
    "nbgrader": {
     "cell_type": "markdown",
     "checksum": "92f1e5e2050c6d4b3da4236e645eff4c",
     "grade": false,
     "grade_id": "cell-8a143cba2fb03f38",
     "locked": true,
     "schema_version": 3,
     "solution": false,
     "task": false
    },
    "tags": []
   },
   "source": [
    "---\n",
    "### Mathematische Operation\n",
    "\n",
    "Numpy ermöglicht mit wenig Code viele Operationen gleichzeitig (bzw. sehr performant) zu berechnen, ohne dass Sie dazu eine Schleife in Python verwenden müssen.  \n",
    "Dies können beispielsweise Operationen sein, die für die Elemente zweier Vektoren paarweise angewendet werden. Zudem ist es häufig empfehlenswert sich zu überlegen, ob Operationen auch als Vektor- oder Matrixmultiplikation formuliert werden können.\n",
    "\n",
    "Verwenden Sie dazu die Operatoren `+`, `*`  und [`np.dot`](https://numpy.org/doc/stable/reference/generated/numpy.dot.html) in geeigneter Weise."
   ]
  },
  {
   "cell_type": "markdown",
   "id": "bfb30872-fb2d-48a5-bbae-43e175f35b4e",
   "metadata": {
    "deletable": false,
    "editable": false,
    "nbgrader": {
     "cell_type": "markdown",
     "checksum": "db2530cc9ccbc4b0b1ed04651cbe60b8",
     "grade": false,
     "grade_id": "cell-75a8be3c2b0102ad",
     "locked": true,
     "schema_version": 3,
     "solution": false,
     "task": false
    },
    "tags": []
   },
   "source": [
    "(1) Geben Sie die elementweise Summe der ersten beiden Zeilen aus."
   ]
  },
  {
   "cell_type": "code",
   "execution_count": null,
   "id": "705b798f-70e4-4628-bfda-0cd90d25a946",
   "metadata": {
    "tags": []
   },
   "outputs": [],
   "source": []
  },
  {
   "cell_type": "markdown",
   "id": "f425af24-429f-4987-9a2d-02740786f3dc",
   "metadata": {
    "deletable": false,
    "editable": false,
    "nbgrader": {
     "cell_type": "markdown",
     "checksum": "a6e5ac54eb85b17d7ed2bedbd7b35cf0",
     "grade": false,
     "grade_id": "cell-2b432e21e6ec6d82",
     "locked": true,
     "schema_version": 3,
     "solution": false,
     "task": false
    },
    "tags": []
   },
   "source": [
    "(2) Geben Sie das elementweise Produkt der ersten beiden Zeilen aus."
   ]
  },
  {
   "cell_type": "code",
   "execution_count": null,
   "id": "cbc357e0-898f-4dbd-b349-9a9fc58e6e05",
   "metadata": {
    "tags": []
   },
   "outputs": [],
   "source": []
  },
  {
   "cell_type": "markdown",
   "id": "b85560ad-f3a6-472d-b553-c26356eedfab",
   "metadata": {
    "deletable": false,
    "editable": false,
    "nbgrader": {
     "cell_type": "markdown",
     "checksum": "cd00537901c52dd0b15d8e7b0edda5d1",
     "grade": false,
     "grade_id": "cell-f98d66633ae9bc80",
     "locked": true,
     "schema_version": 3,
     "solution": false,
     "task": false
    },
    "tags": []
   },
   "source": [
    "(3) Geben Sie das Skalarprodukt der ersten beiden Zeilen aus."
   ]
  },
  {
   "cell_type": "code",
   "execution_count": null,
   "id": "cd06cb9a-6f75-4a8e-b798-6e3f61cf42f4",
   "metadata": {
    "tags": []
   },
   "outputs": [],
   "source": []
  },
  {
   "cell_type": "markdown",
   "id": "b290ddd8-c928-4ac8-a4e3-6908f0c02c59",
   "metadata": {
    "deletable": false,
    "editable": false,
    "nbgrader": {
     "cell_type": "markdown",
     "checksum": "50a8db75e4192f412aa5f17d881fe832",
     "grade": false,
     "grade_id": "cell-124564e0d36d48b9",
     "locked": true,
     "schema_version": 3,
     "solution": false,
     "task": false
    },
    "tags": []
   },
   "source": [
    "(4) Berechnen Sie eine gewichtete Summe zwischen dem Eingabevektor $x$ und den Gewichten $w$. Sie können zuerst die Summe in einer Schleife berechnen.\n",
    "Berechnen Sie anschließend dieselbe gewichtete Summe, ohne eine Schleife zu verwenden."
   ]
  },
  {
   "cell_type": "code",
   "execution_count": null,
   "id": "2892ede8-4e55-416c-a60f-2774b618a906",
   "metadata": {
    "tags": []
   },
   "outputs": [],
   "source": [
    "x = np.arange(5)\n",
    "w = np.asarray([1.0, 2.0, 1.5, 0.5, 4.2])\n"
   ]
  },
  {
   "cell_type": "markdown",
   "id": "bf00f6ed-10b5-4306-93c3-a23302f1b241",
   "metadata": {
    "deletable": false,
    "editable": false,
    "nbgrader": {
     "cell_type": "markdown",
     "checksum": "2e5843cb064bc8d22a099d09de81fda6",
     "grade": false,
     "grade_id": "cell-fb402f2522ae4a81",
     "locked": true,
     "schema_version": 3,
     "solution": false,
     "task": false
    },
    "tags": []
   },
   "source": [
    "(5) Statt einer einzelnen Vektors $x$ als Eingabe sollen nun die Gewichteten Summen für mehrere Eingaben $X$ (einzelne Eingaben in Zeilen) berechnen. Das Ergebnis soll nun ein Vektor mit den gewichteten Summen sein. Verwenden Sie keine Schleifen."
   ]
  },
  {
   "cell_type": "code",
   "execution_count": null,
   "id": "3ff901ac-ca8f-4658-85bc-76a6ace0373a",
   "metadata": {
    "tags": []
   },
   "outputs": [],
   "source": [
    "X = np.arange(20).reshape((4, 5))\n",
    "w = np.asarray([1.0, 2.0, 1.5, 0.5, 4.2])\n"
   ]
  },
  {
   "cell_type": "markdown",
   "id": "d91bfe7f-d3d8-4b1c-a877-df9349d1a309",
   "metadata": {
    "deletable": false,
    "editable": false,
    "nbgrader": {
     "cell_type": "markdown",
     "checksum": "c839c4ef8883fd4ca0557861245ba646",
     "grade": false,
     "grade_id": "cell-29f50d902e2d5edf",
     "locked": true,
     "schema_version": 3,
     "solution": false,
     "task": false
    },
    "tags": []
   },
   "source": [
    "(6) Als letzte Erweiterung dieser Berechnung nehmen wir nun an, dass die Gewichtete Summe nicht nur für mehrere Eingaben gleichzeitg berechnet werden soll, sondern auch für mehrere Gewichtungen. Jetzt haben Sie also die Eingabematrix $X$ mit Zeilenweise vorliegenden Beispielen. In der Matrix $W$ liegen die Gewichte ebenfalls zeilenweise vor. Berechnen Sie nun die gewichteten Summen für jede Kombination von Eingaben und Gewichten. Verwenden Sie auch hier keine Schleife!"
   ]
  },
  {
   "cell_type": "code",
   "execution_count": null,
   "id": "4aa122ba-464f-4c8a-aa1e-b4bfbd19738b",
   "metadata": {
    "tags": []
   },
   "outputs": [],
   "source": [
    "W = np.asarray([[1.0, 2.0, 1.5, 0.5, 4.2],\n",
    "                [0.5, 3.0, 1.2, 1.3, 0.2],\n",
    "                [3.5, 4.3, 2.7, 3.1, 0.2]])\n"
   ]
  },
  {
   "cell_type": "markdown",
   "id": "08f290c3-575a-40a9-acbc-a3424822f96a",
   "metadata": {
    "deletable": false,
    "editable": false,
    "nbgrader": {
     "cell_type": "markdown",
     "checksum": "e672f30307cc183c8e3e50ed72c6a11b",
     "grade": false,
     "grade_id": "cell-5ac4003373d456c4",
     "locked": true,
     "schema_version": 3,
     "solution": false,
     "task": false
    },
    "tags": []
   },
   "source": [
    "---\n",
    "### Wichtige Funktionen\n",
    "\n",
    "Nun schauen wir uns noch einige wichtige NumPy Funktionen an.\n",
    "\n",
    "(1) Bestimmen Sie in dem ndarray `seq_arr` in jeder Zeile das größte Element\n",
    "und seinen Index. Geben Sie die Ergebnisse aus.\n",
    "\n",
    "Hinweis: Achten Sie dabei auf die korrekte Wahl des *axis*-Arguments!\n",
    "\n",
    "Nützliche Funktionen:\n",
    "- [`np.max` / `np.amax`](https://numpy.org/doc/stable/reference/generated/numpy.amax.html)\n",
    "- [`np.argmax`](https://numpy.org/doc/stable/reference/generated/numpy.argmax.html)"
   ]
  },
  {
   "cell_type": "code",
   "execution_count": null,
   "id": "b7a29cba-8bc1-452f-b7f7-bc508b62cf65",
   "metadata": {
    "tags": []
   },
   "outputs": [],
   "source": []
  },
  {
   "cell_type": "markdown",
   "id": "f819c1f6-e323-41b0-8b64-c9f56c9a5e32",
   "metadata": {
    "deletable": false,
    "editable": false,
    "nbgrader": {
     "cell_type": "markdown",
     "checksum": "8b46fc1e56f7c880a89f9f524d8ece0b",
     "grade": false,
     "grade_id": "cell-907c8c82fe35d98c",
     "locked": true,
     "schema_version": 3,
     "solution": false,
     "task": false
    },
    "tags": []
   },
   "source": [
    "(2) Bestimmen Sie die Summe und den Mittelwert entlang jeder Zeile.\n",
    "\n",
    "Nützliche Funktionen:\n",
    "- [`np.sum`](https://numpy.org/doc/stable/reference/generated/numpy.sum.html)\n",
    "- [`np.mean`](https://numpy.org/doc/stable/reference/generated/numpy.mean.html)"
   ]
  },
  {
   "cell_type": "code",
   "execution_count": null,
   "id": "0d6fb9e7-60fb-4448-b633-fcbdc4cc1c47",
   "metadata": {
    "tags": []
   },
   "outputs": [],
   "source": []
  },
  {
   "cell_type": "markdown",
   "id": "8dda9231-0476-4c83-8c4f-076df86b8caf",
   "metadata": {
    "deletable": false,
    "editable": false,
    "nbgrader": {
     "cell_type": "markdown",
     "checksum": "2fc681e67ea69593999d2bd42c77fadb",
     "grade": false,
     "grade_id": "cell-345bebdaa66fb8bb",
     "locked": true,
     "schema_version": 3,
     "solution": false,
     "task": false
    },
    "tags": []
   },
   "source": [
    "---\n",
    "## Matplotlib\n",
    "\n",
    "Häufig kann es sehr hilfreich sein, Daten und deren Verteilung zu visualisieren. Hierfür bietet sich die Verwendung der Bibliothek matplotlib an.\n",
    "\n",
    "In Kombination mit JupyterLab oder Jupyter Notebooks können mit Hilfe von Magic Commands [verschiedene Backends für matplotlib](https://ipython.readthedocs.io/en/stable/interactive/magics.html#magic-matplotlib) gewählt werden. Für JupyterLab empfiehlt sich die Verwendung von `%matplotlib widget` (erfordert das [ipympl](https://jupyter-tutorial.readthedocs.io/de/latest/workspace/jupyter/ipywidgets/libs/ipympl.html) package).\n",
    "\n",
    "Hinweis: Normalerweise würde man diese Imports ebenfalls am Anfang des Skripts platzieren.\n"
   ]
  },
  {
   "cell_type": "code",
   "execution_count": null,
   "id": "65dffb6a-8754-48d4-8578-434194d7a765",
   "metadata": {
    "deletable": false,
    "editable": false,
    "nbgrader": {
     "cell_type": "code",
     "checksum": "5690b579566ffeb9bc7434d2680f2f2c",
     "grade": false,
     "grade_id": "cell-3c1c78f81582db04",
     "locked": true,
     "schema_version": 3,
     "solution": false,
     "task": false
    },
    "tags": []
   },
   "outputs": [],
   "source": [
    "import matplotlib.pyplot as plt\n",
    "\n",
    "%matplotlib widget"
   ]
  },
  {
   "cell_type": "markdown",
   "id": "54927e20-ef67-4742-85aa-a66c094ed77d",
   "metadata": {
    "deletable": false,
    "editable": false,
    "nbgrader": {
     "cell_type": "markdown",
     "checksum": "331882bcb215cf8b8d8d32bd679cc990",
     "grade": false,
     "grade_id": "cell-ea0b75821a067a0a",
     "locked": true,
     "schema_version": 3,
     "solution": false,
     "task": false
    },
    "tags": []
   },
   "source": [
    "Zunächst schauen wir uns noch ein etwas komplexeres Beispiel für NumPy Funktionen an und visualisieren die Ergebnisse mit matplotlib. \n",
    "\n",
    "Die folgenden Arrays enthalten normalverteilte und gleichverteilte Zufallszahlen."
   ]
  },
  {
   "cell_type": "code",
   "execution_count": null,
   "id": "417c5b72-9463-4036-9ed3-871f89318686",
   "metadata": {
    "deletable": false,
    "editable": false,
    "nbgrader": {
     "cell_type": "code",
     "checksum": "e334f6a5fc76f192d06e2d280f5b5ded",
     "grade": false,
     "grade_id": "cell-4ceef60ef17421d6",
     "locked": true,
     "schema_version": 3,
     "solution": false,
     "task": false
    },
    "tags": []
   },
   "outputs": [],
   "source": [
    "rand_arr_gen = RandomArrayGenerator()\n",
    "rand_arr_gauss = rand_arr_gen.rand_gauss(arr_shape=(50000,), mean=50, std_deviation=10)\n",
    "rand_arr_unif = rand_arr_gen.rand_uniform(arr_shape=(10000, 50), min_elem=0.5, max_elem=10.5)"
   ]
  },
  {
   "cell_type": "markdown",
   "id": "ca1fe332-518f-4b84-8aca-3a4d5e3a0a65",
   "metadata": {
    "deletable": false,
    "editable": false,
    "nbgrader": {
     "cell_type": "markdown",
     "checksum": "9ca1c09a9fef49230d90c0a0220234a2",
     "grade": false,
     "grade_id": "cell-28add589d0fb77bc",
     "locked": true,
     "schema_version": 3,
     "solution": false,
     "task": false
    },
    "tags": []
   },
   "source": [
    "Runden Sie die Elemente der Arrays (ganzzahlig) und erstellen sie jeweils Histogramme. Um das Histogramm für `rand_arr_unif` zu erstellen, linearisieren Sie die Matrix zunächst. (Verwenden Sie `reshape` mit shape Parameter -1.)\n",
    "\n",
    "Plotten Sie die Ergebnisse mit matplotlib. Erstellen Sie dazu eine neue Figure inkl. Axis und verwenden Sie dazu die Methode `bar_plot` aus dem Modul [`common.python_intro_functions`](../common/python_intro_functions.py) um darin zu plotten.\n",
    "\n",
    "Nützliche Funktionen:\n",
    "- [`np.around`](http://docs.scipy.org/doc/numpy/reference/generated/numpy.around.html)\n",
    "- [`np.bincount`](http://docs.scipy.org/doc/numpy/reference/generated/numpy.bincount.html)\n",
    "- [`np.reshape`](http://docs.scipy.org/doc/numpy/reference/generated/numpy.reshape.html)\n",
    "- [`plt.subplots`](https://matplotlib.org/stable/api/_as_gen/matplotlib.pyplot.subplots.html)"
   ]
  },
  {
   "cell_type": "code",
   "execution_count": null,
   "id": "f4ffbdcb-a1f3-4edc-b78a-c45df55d421e",
   "metadata": {
    "tags": []
   },
   "outputs": [],
   "source": []
  },
  {
   "cell_type": "markdown",
   "id": "4adfc5bc-ed6a-4892-a0f9-b15432bee161",
   "metadata": {
    "deletable": false,
    "editable": false,
    "nbgrader": {
     "cell_type": "markdown",
     "checksum": "c2bb71a80839770b897fdbbc058e77f6",
     "grade": false,
     "grade_id": "cell-c34bf8950ac3a7f2",
     "locked": true,
     "schema_version": 3,
     "solution": false,
     "task": false
    },
    "tags": []
   },
   "source": [
    "Bilden Sie nun die zeilenweisen Summen über das ndarray mit den gleichverteilten Zufallszahlen \n",
    "(`rand_arr_unif`). Berechnen und visualisieren Sie das Histogramm wie zuvor. Erklären Sie das Ergebnis."
   ]
  },
  {
   "cell_type": "code",
   "execution_count": null,
   "id": "a2c0357e-4e14-48c0-974e-fdae9d166107",
   "metadata": {
    "pycharm": {
     "name": "#%%\n"
    },
    "tags": []
   },
   "outputs": [],
   "source": []
  }
 ],
 "metadata": {
  "kernelspec": {
   "display_name": "Python 3",
   "language": "python",
   "name": "python3"
  },
  "language_info": {
   "codemirror_mode": {
    "name": "ipython",
    "version": 3
   },
   "file_extension": ".py",
   "mimetype": "text/x-python",
   "name": "python",
   "nbconvert_exporter": "python",
   "pygments_lexer": "ipython3",
   "version": "3.8.10"
  }
 },
 "nbformat": 4,
 "nbformat_minor": 5
}
