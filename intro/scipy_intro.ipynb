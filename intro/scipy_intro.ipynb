{
 "cells": [
  {
   "cell_type": "markdown",
   "id": "13a97483-c35b-44e6-9300-498e21e412c5",
   "metadata": {
    "deletable": false,
    "editable": false,
    "nbgrader": {
     "cell_type": "markdown",
     "checksum": "c2c936a7cb51681e053cf28d7ec7e353",
     "grade": false,
     "grade_id": "cell-938f53da7fdd25f8",
     "locked": true,
     "schema_version": 3,
     "solution": false,
     "task": false
    },
    "tags": []
   },
   "source": [
    "**Fachprojekt Dokumentenanalyse** *WS 22/23* -- *Philipp Oberdiek, Gernot A. Fink* -- *Technische Universität Dortmund, Lehrstuhl XII, Mustererkennung in eingebetteten Systemen*\n",
    "---\n",
    "# Einführung in NumPy/Scipy und Matplotlib\n",
    "\n",
    "In diesen Einführungsaufgaben sollen Sie sich mit den grundlegenden Eigenschaften und Funktionen von *NumPy/SciPy* und *matplotlib* vertraut machen. Die Aufgaben sind dazu gedacht, Ihnen den Einstieg zu erleichtern.\n",
    "\n",
    "Sehr grosse Datenmengen lassen sich iterativ nicht effizient in Python verarbeiten. Dazu gibt es mit NumPy / SciPy eine Bibliothek, mit der numerische Berechnungen vektorisiert effizient durchgefuehrt werden können.\n",
    "Vektorisiert bedeutet dabei, dass Operationen auf großen Datenmengen direkt mit einzelnen Methodenaufrufen durchgeführt werden und nicht über Schleifen in Python Code umgesetzt werden.\n",
    "\n",
    "**ACHTUNG:** Diese Form der Programmierung unterscheidet sich DEUTLICH von dem was sie vielleicht aus C / C++ oder auch Java gewohnt sind."
   ]
  },
  {
   "cell_type": "markdown",
   "id": "1721e513-a269-4a5e-8512-ade496679a39",
   "metadata": {
    "deletable": false,
    "editable": false,
    "nbgrader": {
     "cell_type": "markdown",
     "checksum": "2820d58c47a03ee360c0742ab6c3d9dc",
     "grade": false,
     "grade_id": "cell-4397aae683d01351",
     "locked": true,
     "schema_version": 3,
     "solution": false,
     "task": false
    },
    "tags": []
   },
   "source": [
    "Zuerst importieren wir die benötigten Module."
   ]
  },
  {
   "cell_type": "code",
   "execution_count": 1,
   "id": "8f948207-f8ff-4cbb-b937-6df61f51193a",
   "metadata": {
    "deletable": false,
    "editable": false,
    "nbgrader": {
     "cell_type": "code",
     "checksum": "5cf7bffdbcfce670fe4b170c2f77290e",
     "grade": false,
     "grade_id": "cell-aec11f3aefab214f",
     "locked": true,
     "schema_version": 3,
     "solution": false,
     "task": false
    },
    "tags": []
   },
   "outputs": [],
   "source": [
    "%load_ext autoreload\n",
    "%autoreload 2\n",
    "\n",
    "import numpy as np\n",
    "import sys\n",
    "# Uebergeordneten Ordner zum Pfad hinzufuegen, damit das common Package importiert werden kann\n",
    "if '..' not in sys.path:\n",
    "    sys.path.append('..')\n",
    "\n",
    "from common.python_intro_functions import RandomArrayGenerator, bar_plot"
   ]
  },
  {
   "cell_type": "markdown",
   "id": "20e4cbaf-51ca-493a-b779-6b46b0d2bbc0",
   "metadata": {
    "deletable": false,
    "editable": false,
    "nbgrader": {
     "cell_type": "markdown",
     "checksum": "4a4f02ac9ccb17400917c2f910f3d117",
     "grade": false,
     "grade_id": "cell-c5c0084bcd785005",
     "locked": true,
     "schema_version": 3,
     "solution": false,
     "task": false
    },
    "tags": []
   },
   "source": [
    "## NumPy/Scipy"
   ]
  },
  {
   "cell_type": "markdown",
   "id": "866485d0-8f11-469c-b1f6-3d6ef4eb878b",
   "metadata": {
    "deletable": false,
    "editable": false,
    "nbgrader": {
     "cell_type": "markdown",
     "checksum": "423c83d1f39326b4c3254bd845cfaa6c",
     "grade": false,
     "grade_id": "cell-af145cff34ee6fd7",
     "locked": true,
     "schema_version": 3,
     "solution": false,
     "task": false
    },
    "tags": []
   },
   "source": [
    "---\n",
    "### Initialisierung\n",
    "\n",
    "Die elementare Datenstruktur ist das [`ndarray`](https://numpy.org/doc/stable/reference/generated/numpy.ndarray.html). Ein neues ndarray erstellt man zum Beispiel aus einer Python Liste. "
   ]
  },
  {
   "cell_type": "code",
   "execution_count": 2,
   "id": "7c921e2e-5ee7-4743-907a-81d9b82602d6",
   "metadata": {
    "deletable": false,
    "editable": false,
    "nbgrader": {
     "cell_type": "code",
     "checksum": "26d59f7d1581c8a1d6d331ccb1a42f28",
     "grade": false,
     "grade_id": "cell-c9f29c9299a73212",
     "locked": true,
     "schema_version": 3,
     "solution": false,
     "task": false
    },
    "tags": []
   },
   "outputs": [
    {
     "name": "stdout",
     "output_type": "stream",
     "text": [
      "<class 'numpy.ndarray'>\n"
     ]
    }
   ],
   "source": [
    "rand_list = [1, 3, 5, 2, 7, 4, 9, 0, 6]\n",
    "rand_arr = np.array(rand_list)\n",
    "print(type(rand_arr))"
   ]
  },
  {
   "cell_type": "markdown",
   "id": "6446e9f3-e175-4c19-b8f9-6961d79b750a",
   "metadata": {
    "deletable": false,
    "editable": false,
    "nbgrader": {
     "cell_type": "markdown",
     "checksum": "8a49b717dba1177966c4c230df4340bb",
     "grade": false,
     "grade_id": "cell-c7b43319c9693f0e",
     "locked": true,
     "schema_version": 3,
     "solution": false,
     "task": false
    },
    "tags": []
   },
   "source": [
    "Ein Array, welches mit Nullen gefüllt ist, erstellt man mit der [`zeros()`](http://docs.scipy.org/doc/numpy/reference/generated/numpy.zeros.html) Funktion.\n",
    "\n",
    "Eine fortlaufende Sequenz (analog zu `range()`) kann mit der [`arange()`](https://numpy.org/doc/stable/reference/generated/numpy.arange.html) Funktion erstellt werden."
   ]
  },
  {
   "cell_type": "code",
   "execution_count": 3,
   "id": "9284eea6-c389-4a8f-9a73-4b8290f264ce",
   "metadata": {
    "deletable": false,
    "editable": false,
    "nbgrader": {
     "cell_type": "code",
     "checksum": "fdc4518390dbbfa8b94bcea1e8fa9c02",
     "grade": false,
     "grade_id": "cell-bdcce86013fe5d04",
     "locked": true,
     "schema_version": 3,
     "solution": false,
     "task": false
    },
    "tags": []
   },
   "outputs": [
    {
     "name": "stdout",
     "output_type": "stream",
     "text": [
      "[[0. 0. 0.]\n",
      " [0. 0. 0.]\n",
      " [0. 0. 0.]]\n",
      "(10, 10)\n",
      "[[ 0  1  2  3  4  5  6  7  8  9]\n",
      " [10 11 12 13 14 15 16 17 18 19]\n",
      " [20 21 22 23 24 25 26 27 28 29]\n",
      " [30 31 32 33 34 35 36 37 38 39]\n",
      " [40 41 42 43 44 45 46 47 48 49]\n",
      " [50 51 52 53 54 55 56 57 58 59]\n",
      " [60 61 62 63 64 65 66 67 68 69]\n",
      " [70 71 72 73 74 75 76 77 78 79]\n",
      " [80 81 82 83 84 85 86 87 88 89]\n",
      " [90 91 92 93 94 95 96 97 98 99]]\n"
     ]
    }
   ],
   "source": [
    "zeros_arr = np.zeros((3, 3))\n",
    "print(zeros_arr)\n",
    "\n",
    "seq_arr = np.arange(100).reshape(10, 10)\n",
    "print(seq_arr.shape)\n",
    "print(seq_arr)"
   ]
  },
  {
   "cell_type": "markdown",
   "id": "11e57417-50aa-4dc2-b419-5c4fa9710710",
   "metadata": {
    "deletable": false,
    "editable": false,
    "nbgrader": {
     "cell_type": "markdown",
     "checksum": "0cdc72e7a917882c1cf72075b3b6e09e",
     "grade": false,
     "grade_id": "cell-a57bce6efc4ecc19",
     "locked": true,
     "schema_version": 3,
     "solution": false,
     "task": false
    },
    "tags": []
   },
   "source": [
    "---\n",
    "### Zugriffsfunktionen und Slicing\n",
    "Im folgenden schauen wir uns Zugriffsfunktionen für ndarrays an. Hierbei sind besonders [indirekte Addressierung und Slicing](https://numpy.org/doc/stable/reference/arrays.indexing.html) wichtige Themen."
   ]
  },
  {
   "cell_type": "markdown",
   "id": "a11b341e-eb6f-4e01-99ba-32f285df6cbd",
   "metadata": {
    "deletable": false,
    "editable": false,
    "nbgrader": {
     "cell_type": "markdown",
     "checksum": "66001300da64fcaca467d15c6019e4c9",
     "grade": false,
     "grade_id": "cell-70bb10c49b21b5e5",
     "locked": true,
     "schema_version": 3,
     "solution": false,
     "task": false
    },
    "tags": []
   },
   "source": [
    "(1) Geben Sie die obere (3, 2) Matrix aus."
   ]
  },
  {
   "cell_type": "code",
   "execution_count": 4,
   "id": "0646ad5e-f4ad-4ed8-b60a-d9feb160b83d",
   "metadata": {
    "tags": []
   },
   "outputs": [
    {
     "data": {
      "text/plain": [
       "array([[ 0,  1],\n",
       "       [10, 11],\n",
       "       [20, 21]])"
      ]
     },
     "execution_count": 4,
     "metadata": {},
     "output_type": "execute_result"
    }
   ],
   "source": [
    "seq_arr[:3,:2]"
   ]
  },
  {
   "cell_type": "markdown",
   "id": "67a5677e-2d95-42a3-804a-977925825501",
   "metadata": {
    "deletable": false,
    "editable": false,
    "nbgrader": {
     "cell_type": "markdown",
     "checksum": "a16f2217a6176fc51358776b153208f5",
     "grade": false,
     "grade_id": "cell-707053ac136dc9e8",
     "locked": true,
     "schema_version": 3,
     "solution": false,
     "task": false
    },
    "tags": []
   },
   "source": [
    "(2) Geben Sie die untere (3, 3) Matrix aus."
   ]
  },
  {
   "cell_type": "code",
   "execution_count": 5,
   "id": "5f8d5c15-04f7-4eaf-b3f4-1ccb074a8cb5",
   "metadata": {
    "tags": []
   },
   "outputs": [
    {
     "data": {
      "text/plain": [
       "array([[70, 71, 72],\n",
       "       [80, 81, 82],\n",
       "       [90, 91, 92]])"
      ]
     },
     "execution_count": 5,
     "metadata": {},
     "output_type": "execute_result"
    }
   ],
   "source": [
    "seq_arr[-3:,:3]"
   ]
  },
  {
   "cell_type": "markdown",
   "id": "7822ecce-847f-4a94-912a-f08445d752ac",
   "metadata": {
    "deletable": false,
    "editable": false,
    "nbgrader": {
     "cell_type": "markdown",
     "checksum": "e8fd8d471bb773aa5f4c026cc77175bf",
     "grade": false,
     "grade_id": "cell-5874fdf0cc51b700",
     "locked": true,
     "schema_version": 3,
     "solution": false,
     "task": false
    },
    "tags": []
   },
   "source": [
    "(3) Geben Sie die 4. Zeile aus."
   ]
  },
  {
   "cell_type": "code",
   "execution_count": 6,
   "id": "90ce0790-a7c7-4ae0-a1b0-9a7110d463fb",
   "metadata": {
    "tags": []
   },
   "outputs": [
    {
     "data": {
      "text/plain": [
       "array([30, 31, 32, 33, 34, 35, 36, 37, 38, 39])"
      ]
     },
     "execution_count": 6,
     "metadata": {},
     "output_type": "execute_result"
    }
   ],
   "source": [
    "seq_arr[3]"
   ]
  },
  {
   "cell_type": "markdown",
   "id": "a0226020-20b4-4b0e-b13f-785d7491666e",
   "metadata": {
    "deletable": false,
    "editable": false,
    "nbgrader": {
     "cell_type": "markdown",
     "checksum": "8f94c4d46ac79a2b35bf828984d93148",
     "grade": false,
     "grade_id": "cell-4cde3b0831e4bf1d",
     "locked": true,
     "schema_version": 3,
     "solution": false,
     "task": false
    },
    "tags": []
   },
   "source": [
    "(4) Geben Sie jede ungerade Spalte aus, also Spalten 1, 3, ... Verwenden sie dabei slicing mit step=2."
   ]
  },
  {
   "cell_type": "code",
   "execution_count": 7,
   "id": "5708e1f7-fb13-4381-adbf-fe6796bc4bc1",
   "metadata": {
    "tags": []
   },
   "outputs": [
    {
     "data": {
      "text/plain": [
       "array([[ 1,  3,  5,  7,  9],\n",
       "       [11, 13, 15, 17, 19],\n",
       "       [21, 23, 25, 27, 29],\n",
       "       [31, 33, 35, 37, 39],\n",
       "       [41, 43, 45, 47, 49],\n",
       "       [51, 53, 55, 57, 59],\n",
       "       [61, 63, 65, 67, 69],\n",
       "       [71, 73, 75, 77, 79],\n",
       "       [81, 83, 85, 87, 89],\n",
       "       [91, 93, 95, 97, 99]])"
      ]
     },
     "execution_count": 7,
     "metadata": {},
     "output_type": "execute_result"
    }
   ],
   "source": [
    "seq_arr[:, range(1, len(seq_arr), 2)] # [:,1::2]"
   ]
  },
  {
   "cell_type": "markdown",
   "id": "1e6bf99b-91d1-47b7-994a-31f458615948",
   "metadata": {
    "deletable": false,
    "editable": false,
    "nbgrader": {
     "cell_type": "markdown",
     "checksum": "4299fb3a11e23552b1ab415c466fb353",
     "grade": false,
     "grade_id": "cell-9377f87154939912",
     "locked": true,
     "schema_version": 3,
     "solution": false,
     "task": false
    },
    "tags": []
   },
   "source": [
    "(5) Geben Sie die Spalten mit Index 2, 3, 6, 7 aus."
   ]
  },
  {
   "cell_type": "code",
   "execution_count": 8,
   "id": "48bd65bd-c38f-4730-9a85-94db151896d7",
   "metadata": {
    "tags": []
   },
   "outputs": [
    {
     "data": {
      "text/plain": [
       "array([[ 2,  3,  6,  7],\n",
       "       [12, 13, 16, 17],\n",
       "       [22, 23, 26, 27],\n",
       "       [32, 33, 36, 37],\n",
       "       [42, 43, 46, 47],\n",
       "       [52, 53, 56, 57],\n",
       "       [62, 63, 66, 67],\n",
       "       [72, 73, 76, 77],\n",
       "       [82, 83, 86, 87],\n",
       "       [92, 93, 96, 97]])"
      ]
     },
     "execution_count": 8,
     "metadata": {},
     "output_type": "execute_result"
    }
   ],
   "source": [
    "seq_arr[:,[2, 3, 6, 7]]"
   ]
  },
  {
   "cell_type": "markdown",
   "id": "be3ea9b5-cadb-48bb-931b-929026ac3928",
   "metadata": {
    "deletable": false,
    "editable": false,
    "nbgrader": {
     "cell_type": "markdown",
     "checksum": "bb2d3954102241a8d6090635707fcadc",
     "grade": false,
     "grade_id": "cell-5f4503e4542a8331",
     "locked": true,
     "schema_version": 3,
     "solution": false,
     "task": false
    },
    "tags": []
   },
   "source": [
    "---\n",
    "### Boolean Indexing\n",
    "\n",
    "Setzen Sie nun alle ungeraden Elemente des ndarray `seq_arr` auf 0 und geben Sie das Ergebnis aus."
   ]
  },
  {
   "cell_type": "code",
   "execution_count": 9,
   "id": "929051df-36c9-4882-ad37-a6fc0e119b9c",
   "metadata": {
    "tags": []
   },
   "outputs": [
    {
     "data": {
      "text/plain": [
       "array([[ 0,  0,  2,  0,  4,  0,  6,  0,  8,  0],\n",
       "       [10,  0, 12,  0, 14,  0, 16,  0, 18,  0],\n",
       "       [20,  0, 22,  0, 24,  0, 26,  0, 28,  0],\n",
       "       [30,  0, 32,  0, 34,  0, 36,  0, 38,  0],\n",
       "       [40,  0, 42,  0, 44,  0, 46,  0, 48,  0],\n",
       "       [50,  0, 52,  0, 54,  0, 56,  0, 58,  0],\n",
       "       [60,  0, 62,  0, 64,  0, 66,  0, 68,  0],\n",
       "       [70,  0, 72,  0, 74,  0, 76,  0, 78,  0],\n",
       "       [80,  0, 82,  0, 84,  0, 86,  0, 88,  0],\n",
       "       [90,  0, 92,  0, 94,  0, 96,  0, 98,  0]])"
      ]
     },
     "execution_count": 9,
     "metadata": {},
     "output_type": "execute_result"
    }
   ],
   "source": [
    "seq_arr[seq_arr % 2 != 0] = 0\n",
    "seq_arr"
   ]
  },
  {
   "cell_type": "markdown",
   "id": "9585b904-0c19-4117-b577-7a2fd37517e9",
   "metadata": {
    "deletable": false,
    "editable": false,
    "nbgrader": {
     "cell_type": "markdown",
     "checksum": "92f1e5e2050c6d4b3da4236e645eff4c",
     "grade": false,
     "grade_id": "cell-8a143cba2fb03f38",
     "locked": true,
     "schema_version": 3,
     "solution": false,
     "task": false
    },
    "tags": []
   },
   "source": [
    "---\n",
    "### Mathematische Operation\n",
    "\n",
    "Numpy ermöglicht mit wenig Code viele Operationen gleichzeitig (bzw. sehr performant) zu berechnen, ohne dass Sie dazu eine Schleife in Python verwenden müssen.  \n",
    "Dies können beispielsweise Operationen sein, die für die Elemente zweier Vektoren paarweise angewendet werden. Zudem ist es häufig empfehlenswert sich zu überlegen, ob Operationen auch als Vektor- oder Matrixmultiplikation formuliert werden können.\n",
    "\n",
    "Verwenden Sie dazu die Operatoren `+`, `*`  und [`np.dot`](https://numpy.org/doc/stable/reference/generated/numpy.dot.html) in geeigneter Weise."
   ]
  },
  {
   "cell_type": "markdown",
   "id": "bfb30872-fb2d-48a5-bbae-43e175f35b4e",
   "metadata": {
    "deletable": false,
    "editable": false,
    "nbgrader": {
     "cell_type": "markdown",
     "checksum": "db2530cc9ccbc4b0b1ed04651cbe60b8",
     "grade": false,
     "grade_id": "cell-75a8be3c2b0102ad",
     "locked": true,
     "schema_version": 3,
     "solution": false,
     "task": false
    },
    "tags": []
   },
   "source": [
    "(1) Geben Sie die elementweise Summe der ersten beiden Zeilen aus."
   ]
  },
  {
   "cell_type": "code",
   "execution_count": 10,
   "id": "705b798f-70e4-4628-bfda-0cd90d25a946",
   "metadata": {
    "tags": []
   },
   "outputs": [
    {
     "data": {
      "text/plain": [
       "array([30,  0, 34,  0, 38,  0, 42,  0, 46,  0])"
      ]
     },
     "execution_count": 10,
     "metadata": {},
     "output_type": "execute_result"
    }
   ],
   "source": [
    "sum_of_seq = seq_arr[1] + seq_arr[2]\n",
    "sum_of_seq"
   ]
  },
  {
   "cell_type": "markdown",
   "id": "f425af24-429f-4987-9a2d-02740786f3dc",
   "metadata": {
    "deletable": false,
    "editable": false,
    "nbgrader": {
     "cell_type": "markdown",
     "checksum": "a6e5ac54eb85b17d7ed2bedbd7b35cf0",
     "grade": false,
     "grade_id": "cell-2b432e21e6ec6d82",
     "locked": true,
     "schema_version": 3,
     "solution": false,
     "task": false
    },
    "tags": []
   },
   "source": [
    "(2) Geben Sie das elementweise Produkt der ersten beiden Zeilen aus."
   ]
  },
  {
   "cell_type": "code",
   "execution_count": 11,
   "id": "cbc357e0-898f-4dbd-b349-9a9fc58e6e05",
   "metadata": {
    "tags": []
   },
   "outputs": [
    {
     "data": {
      "text/plain": [
       "array([200,   0, 264,   0, 336,   0, 416,   0, 504,   0])"
      ]
     },
     "execution_count": 11,
     "metadata": {},
     "output_type": "execute_result"
    }
   ],
   "source": [
    "multiply_of_seq = seq_arr[1] * seq_arr[2]\n",
    "multiply_of_seq"
   ]
  },
  {
   "cell_type": "markdown",
   "id": "b85560ad-f3a6-472d-b553-c26356eedfab",
   "metadata": {
    "deletable": false,
    "editable": false,
    "nbgrader": {
     "cell_type": "markdown",
     "checksum": "cd00537901c52dd0b15d8e7b0edda5d1",
     "grade": false,
     "grade_id": "cell-f98d66633ae9bc80",
     "locked": true,
     "schema_version": 3,
     "solution": false,
     "task": false
    },
    "tags": []
   },
   "source": [
    "(3) Geben Sie das Skalarprodukt der ersten beiden Zeilen aus."
   ]
  },
  {
   "cell_type": "code",
   "execution_count": 12,
   "id": "cd06cb9a-6f75-4a8e-b798-6e3f61cf42f4",
   "metadata": {
    "tags": []
   },
   "outputs": [
    {
     "data": {
      "text/plain": [
       "68400"
      ]
     },
     "execution_count": 12,
     "metadata": {},
     "output_type": "execute_result"
    }
   ],
   "source": [
    "sum_of_seq @ multiply_of_seq\n",
    "np.dot(sum_of_seq, multiply_of_seq)"
   ]
  },
  {
   "cell_type": "markdown",
   "id": "b290ddd8-c928-4ac8-a4e3-6908f0c02c59",
   "metadata": {
    "deletable": false,
    "editable": false,
    "nbgrader": {
     "cell_type": "markdown",
     "checksum": "50a8db75e4192f412aa5f17d881fe832",
     "grade": false,
     "grade_id": "cell-124564e0d36d48b9",
     "locked": true,
     "schema_version": 3,
     "solution": false,
     "task": false
    },
    "tags": []
   },
   "source": [
    "(4) Berechnen Sie eine gewichtete Summe zwischen dem Eingabevektor $x$ und den Gewichten $w$. Sie können zuerst die Summe in einer Schleife berechnen.\n",
    "Berechnen Sie anschließend dieselbe gewichtete Summe, ohne eine Schleife zu verwenden."
   ]
  },
  {
   "cell_type": "code",
   "execution_count": 13,
   "id": "2892ede8-4e55-416c-a60f-2774b618a906",
   "metadata": {
    "tags": []
   },
   "outputs": [
    {
     "data": {
      "text/plain": [
       "23.3"
      ]
     },
     "execution_count": 13,
     "metadata": {},
     "output_type": "execute_result"
    }
   ],
   "source": [
    "x = np.arange(5)\n",
    "w = np.asarray([1.0, 2.0, 1.5, 0.5, 4.2])\n",
    "np.sum(x * w)"
   ]
  },
  {
   "cell_type": "markdown",
   "id": "bf00f6ed-10b5-4306-93c3-a23302f1b241",
   "metadata": {
    "deletable": false,
    "editable": false,
    "nbgrader": {
     "cell_type": "markdown",
     "checksum": "2e5843cb064bc8d22a099d09de81fda6",
     "grade": false,
     "grade_id": "cell-fb402f2522ae4a81",
     "locked": true,
     "schema_version": 3,
     "solution": false,
     "task": false
    },
    "tags": []
   },
   "source": [
    "(5) Statt einer einzelnen Vektors $x$ als Eingabe sollen nun die Gewichteten Summen für mehrere Eingaben $X$ (einzelne Eingaben in Zeilen) berechnen. Das Ergebnis soll nun ein Vektor mit den gewichteten Summen sein. Verwenden Sie keine Schleifen."
   ]
  },
  {
   "cell_type": "code",
   "execution_count": 14,
   "id": "3ff901ac-ca8f-4658-85bc-76a6ace0373a",
   "metadata": {
    "tags": []
   },
   "outputs": [
    {
     "data": {
      "text/plain": [
       "array([ 23.3,  69.3, 115.3, 161.3])"
      ]
     },
     "execution_count": 14,
     "metadata": {},
     "output_type": "execute_result"
    }
   ],
   "source": [
    "X = np.arange(20).reshape((4, 5))\n",
    "w = np.asarray([1.0, 2.0, 1.5, 0.5, 4.2])\n",
    "np.sum(X * w, axis=1)"
   ]
  },
  {
   "cell_type": "markdown",
   "id": "d91bfe7f-d3d8-4b1c-a877-df9349d1a309",
   "metadata": {
    "deletable": false,
    "editable": false,
    "nbgrader": {
     "cell_type": "markdown",
     "checksum": "c839c4ef8883fd4ca0557861245ba646",
     "grade": false,
     "grade_id": "cell-29f50d902e2d5edf",
     "locked": true,
     "schema_version": 3,
     "solution": false,
     "task": false
    },
    "tags": []
   },
   "source": [
    "(6) Als letzte Erweiterung dieser Berechnung nehmen wir nun an, dass die Gewichtete Summe nicht nur für mehrere Eingaben gleichzeitg berechnet werden soll, sondern auch für mehrere Gewichtungen. Jetzt haben Sie also die Eingabematrix $X$ mit Zeilenweise vorliegenden Beispielen. In der Matrix $W$ liegen die Gewichte ebenfalls zeilenweise vor. Berechnen Sie nun die gewichteten Summen für jede Kombination von Eingaben und Gewichten. Verwenden Sie auch hier keine Schleife!"
   ]
  },
  {
   "cell_type": "code",
   "execution_count": 15,
   "id": "4aa122ba-464f-4c8a-aa1e-b4bfbd19738b",
   "metadata": {
    "tags": []
   },
   "outputs": [
    {
     "data": {
      "text/plain": [
       "array([369.2, 226.4, 493.2])"
      ]
     },
     "execution_count": 15,
     "metadata": {},
     "output_type": "execute_result"
    }
   ],
   "source": [
    "W = np.asarray([[1.0, 2.0, 1.5, 0.5, 4.2],\n",
    "                [0.5, 3.0, 1.2, 1.3, 0.2],\n",
    "                [3.5, 4.3, 2.7, 3.1, 0.2]])\n",
    "\n",
    "# [sum(x_row * w_row) for x_row in X for w_row in W]\n",
    "# [sum([sum(x_row * w_row) for w_row in W]) for x_row in X]\n",
    "np.dot(X, W.T).sum(axis=0)"
   ]
  },
  {
   "cell_type": "markdown",
   "id": "08f290c3-575a-40a9-acbc-a3424822f96a",
   "metadata": {
    "deletable": false,
    "editable": false,
    "nbgrader": {
     "cell_type": "markdown",
     "checksum": "e672f30307cc183c8e3e50ed72c6a11b",
     "grade": false,
     "grade_id": "cell-5ac4003373d456c4",
     "locked": true,
     "schema_version": 3,
     "solution": false,
     "task": false
    },
    "tags": []
   },
   "source": [
    "---\n",
    "### Wichtige Funktionen\n",
    "\n",
    "Nun schauen wir uns noch einige wichtige NumPy Funktionen an.\n",
    "\n",
    "(1) Bestimmen Sie in dem ndarray `seq_arr` in jeder Zeile das größte Element\n",
    "und seinen Index. Geben Sie die Ergebnisse aus.\n",
    "\n",
    "Hinweis: Achten Sie dabei auf die korrekte Wahl des *axis*-Arguments!\n",
    "\n",
    "Nützliche Funktionen:\n",
    "- [`np.max` / `np.amax`](https://numpy.org/doc/stable/reference/generated/numpy.amax.html)\n",
    "- [`np.argmax`](https://numpy.org/doc/stable/reference/generated/numpy.argmax.html)"
   ]
  },
  {
   "cell_type": "code",
   "execution_count": 16,
   "id": "b7a29cba-8bc1-452f-b7f7-bc508b62cf65",
   "metadata": {
    "scrolled": true,
    "tags": []
   },
   "outputs": [
    {
     "name": "stdout",
     "output_type": "stream",
     "text": [
      "(9, 8)\n",
      "True\n"
     ]
    }
   ],
   "source": [
    "unraveled_index = np.unravel_index(seq_arr.argmax(), seq_arr.shape)\n",
    "print(unraveled_index)\n",
    "print(seq_arr[unraveled_index] == seq_arr.max())"
   ]
  },
  {
   "cell_type": "markdown",
   "id": "f819c1f6-e323-41b0-8b64-c9f56c9a5e32",
   "metadata": {
    "deletable": false,
    "editable": false,
    "nbgrader": {
     "cell_type": "markdown",
     "checksum": "8b46fc1e56f7c880a89f9f524d8ece0b",
     "grade": false,
     "grade_id": "cell-907c8c82fe35d98c",
     "locked": true,
     "schema_version": 3,
     "solution": false,
     "task": false
    },
    "tags": []
   },
   "source": [
    "(2) Bestimmen Sie die Summe und den Mittelwert entlang jeder Zeile.\n",
    "\n",
    "Nützliche Funktionen:\n",
    "- [`np.sum`](https://numpy.org/doc/stable/reference/generated/numpy.sum.html)\n",
    "- [`np.mean`](https://numpy.org/doc/stable/reference/generated/numpy.mean.html)"
   ]
  },
  {
   "cell_type": "code",
   "execution_count": 17,
   "id": "0d6fb9e7-60fb-4448-b633-fcbdc4cc1c47",
   "metadata": {
    "tags": []
   },
   "outputs": [
    {
     "name": "stdout",
     "output_type": "stream",
     "text": [
      "sum along rows: [ 20  70 120 170 220 270 320 370 420 470]\n",
      "mean along rows: [ 2.  7. 12. 17. 22. 27. 32. 37. 42. 47.]\n"
     ]
    }
   ],
   "source": [
    "print(\"sum along rows:\", seq_arr.sum(axis=1))\n",
    "print(\"mean along rows:\", seq_arr.mean(axis=1))"
   ]
  },
  {
   "cell_type": "markdown",
   "id": "8dda9231-0476-4c83-8c4f-076df86b8caf",
   "metadata": {
    "deletable": false,
    "editable": false,
    "nbgrader": {
     "cell_type": "markdown",
     "checksum": "2fc681e67ea69593999d2bd42c77fadb",
     "grade": false,
     "grade_id": "cell-345bebdaa66fb8bb",
     "locked": true,
     "schema_version": 3,
     "solution": false,
     "task": false
    },
    "tags": []
   },
   "source": [
    "---\n",
    "## Matplotlib\n",
    "\n",
    "Häufig kann es sehr hilfreich sein, Daten und deren Verteilung zu visualisieren. Hierfür bietet sich die Verwendung der Bibliothek matplotlib an.\n",
    "\n",
    "In Kombination mit JupyterLab oder Jupyter Notebooks können mit Hilfe von Magic Commands [verschiedene Backends für matplotlib](https://ipython.readthedocs.io/en/stable/interactive/magics.html#magic-matplotlib) gewählt werden. Für JupyterLab empfiehlt sich die Verwendung von `%matplotlib widget` (erfordert das [ipympl](https://jupyter-tutorial.readthedocs.io/de/latest/workspace/jupyter/ipywidgets/libs/ipympl.html) package).\n",
    "\n",
    "Hinweis: Normalerweise würde man diese Imports ebenfalls am Anfang des Skripts platzieren.\n"
   ]
  },
  {
   "cell_type": "code",
   "execution_count": 18,
   "id": "65dffb6a-8754-48d4-8578-434194d7a765",
   "metadata": {
    "deletable": false,
    "editable": false,
    "nbgrader": {
     "cell_type": "code",
     "checksum": "5690b579566ffeb9bc7434d2680f2f2c",
     "grade": false,
     "grade_id": "cell-3c1c78f81582db04",
     "locked": true,
     "schema_version": 3,
     "solution": false,
     "task": false
    },
    "tags": []
   },
   "outputs": [],
   "source": [
    "import matplotlib.pyplot as plt\n",
    "\n",
    "%matplotlib widget"
   ]
  },
  {
   "cell_type": "markdown",
   "id": "54927e20-ef67-4742-85aa-a66c094ed77d",
   "metadata": {
    "deletable": false,
    "editable": false,
    "nbgrader": {
     "cell_type": "markdown",
     "checksum": "331882bcb215cf8b8d8d32bd679cc990",
     "grade": false,
     "grade_id": "cell-ea0b75821a067a0a",
     "locked": true,
     "schema_version": 3,
     "solution": false,
     "task": false
    },
    "tags": []
   },
   "source": [
    "Zunächst schauen wir uns noch ein etwas komplexeres Beispiel für NumPy Funktionen an und visualisieren die Ergebnisse mit matplotlib. \n",
    "\n",
    "Die folgenden Arrays enthalten normalverteilte und gleichverteilte Zufallszahlen."
   ]
  },
  {
   "cell_type": "code",
   "execution_count": 19,
   "id": "417c5b72-9463-4036-9ed3-871f89318686",
   "metadata": {
    "deletable": false,
    "editable": false,
    "nbgrader": {
     "cell_type": "code",
     "checksum": "e334f6a5fc76f192d06e2d280f5b5ded",
     "grade": false,
     "grade_id": "cell-4ceef60ef17421d6",
     "locked": true,
     "schema_version": 3,
     "solution": false,
     "task": false
    },
    "tags": []
   },
   "outputs": [],
   "source": [
    "rand_arr_gen = RandomArrayGenerator()\n",
    "rand_arr_gauss = rand_arr_gen.rand_gauss(arr_shape=(50000,), mean=50, std_deviation=10)\n",
    "rand_arr_unif = rand_arr_gen.rand_uniform(arr_shape=(10000, 50), min_elem=0.5, max_elem=10.5)"
   ]
  },
  {
   "cell_type": "markdown",
   "id": "ca1fe332-518f-4b84-8aca-3a4d5e3a0a65",
   "metadata": {
    "deletable": false,
    "editable": false,
    "nbgrader": {
     "cell_type": "markdown",
     "checksum": "9ca1c09a9fef49230d90c0a0220234a2",
     "grade": false,
     "grade_id": "cell-28add589d0fb77bc",
     "locked": true,
     "schema_version": 3,
     "solution": false,
     "task": false
    },
    "tags": []
   },
   "source": [
    "Runden Sie die Elemente der Arrays (ganzzahlig) und erstellen sie jeweils Histogramme. Um das Histogramm für `rand_arr_unif` zu erstellen, linearisieren Sie die Matrix zunächst. (Verwenden Sie `reshape` mit shape Parameter -1.)\n",
    "\n",
    "Plotten Sie die Ergebnisse mit matplotlib. Erstellen Sie dazu eine neue Figure inkl. Axis und verwenden Sie dazu die Methode `bar_plot` aus dem Modul [`common.python_intro_functions`](../common/python_intro_functions.py) um darin zu plotten.\n",
    "\n",
    "Nützliche Funktionen:\n",
    "- [`np.around`](http://docs.scipy.org/doc/numpy/reference/generated/numpy.around.html)\n",
    "- [`np.bincount`](http://docs.scipy.org/doc/numpy/reference/generated/numpy.bincount.html)\n",
    "- [`np.reshape`](http://docs.scipy.org/doc/numpy/reference/generated/numpy.reshape.html)\n",
    "- [`plt.subplots`](https://matplotlib.org/stable/api/_as_gen/matplotlib.pyplot.subplots.html)"
   ]
  },
  {
   "cell_type": "code",
   "execution_count": 20,
   "id": "f4ffbdcb-a1f3-4edc-b78a-c45df55d421e",
   "metadata": {
    "tags": []
   },
   "outputs": [
    {
     "name": "stdout",
     "output_type": "stream",
     "text": [
      "[7 1 2 ... 1 4 8]\n",
      "[    0 49800 49951 50102 49771 50061 50180 49700 49971 50051 50413     0]\n",
      "[   0    0    0    0    0    0    0    0    0    0    2    0    3    6\n",
      "    3    2    6    9   11   25   18   34   42   45   72  104   99  146\n",
      "  166  184  270  360  374  489  523  621  696  852  988 1114 1217 1344\n",
      " 1462 1611 1661 1746 1816 2015 1919 1954 1941 2001 1885 1917 1875 1820\n",
      " 1673 1599 1464 1368 1177 1085  973  861  745  676  554  460  377  315\n",
      "  262  195  178  135  104   89   65   48   41   28   25   16   13   10\n",
      "    3    5    3    1    2    0    1    1]\n"
     ]
    }
   ],
   "source": [
    "flattened_array = rand_arr_unif.round().astype(\"int64\").reshape(-1)\n",
    "gauss_rounded = rand_arr_gauss.round().astype(\"int64\")\n",
    "bincount_flattened = np.bincount(flattened_array, minlength=12)\n",
    "bincount_gauss = np.bincount(gauss_rounded, minlength=12)\n",
    "x_vals = list(range(12))\n",
    "\n",
    "print(flattened_array)\n",
    "print(bincount_flattened)\n",
    "print(bincount_gauss)"
   ]
  },
  {
   "cell_type": "code",
   "execution_count": 21,
   "id": "5a9e48cf",
   "metadata": {},
   "outputs": [
    {
     "data": {
      "application/vnd.jupyter.widget-view+json": {
       "model_id": "d379b392fbdc4946abffd88946c0e1b4",
       "version_major": 2,
       "version_minor": 0
      },
      "image/png": "[encoded data removed]",
      "text/html": [
       "\n",
       "            <div style=\"display: inline-block;\">\n",
       "                <div class=\"jupyter-widgets widget-label\" style=\"text-align: center;\">\n",
       "                    Figure\n",
       "                </div>\n",
       "                <img src='data:image/png;base64,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' width=640.0/>\n",
       "            </div>\n",
       "        "
      ],
      "text/plain": [
       "Canvas(toolbar=Toolbar(toolitems=[('Home', 'Reset original view', 'home', 'home'), ('Back', 'Back to previous …"
      ]
     },
     "metadata": {},
     "output_type": "display_data"
    }
   ],
   "source": [
    "fig = plt.figure()\n",
    "axs = fig.subplots(1)\n",
    "\n",
    "bar_plot(axs, x_vals, bincount_flattened)"
   ]
  },
  {
   "cell_type": "code",
   "execution_count": 22,
   "id": "e961959a",
   "metadata": {},
   "outputs": [
    {
     "data": {
      "application/vnd.jupyter.widget-view+json": {
       "model_id": "c8dedfd86b524fe0ab4d6ffb73f1b77a",
       "version_major": 2,
       "version_minor": 0
      },
      "image/png": "[encoded data removed]",
      "text/html": [
       "\n",
       "            <div style=\"display: inline-block;\">\n",
       "                <div class=\"jupyter-widgets widget-label\" style=\"text-align: center;\">\n",
       "                    Figure\n",
       "                </div>\n",
       "                <img src='data:image/png;base64,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' width=640.0/>\n",
       "            </div>\n",
       "        "
      ],
      "text/plain": [
       "Canvas(toolbar=Toolbar(toolitems=[('Home', 'Reset original view', 'home', 'home'), ('Back', 'Back to previous …"
      ]
     },
     "metadata": {},
     "output_type": "display_data"
    }
   ],
   "source": [
    "fig = plt.figure()\n",
    "axs = fig.subplots(1)\n",
    "bar_plot(axs, x_vals, bincount_gauss)"
   ]
  },
  {
   "cell_type": "markdown",
   "id": "4adfc5bc-ed6a-4892-a0f9-b15432bee161",
   "metadata": {
    "deletable": false,
    "editable": false,
    "nbgrader": {
     "cell_type": "markdown",
     "checksum": "c2bb71a80839770b897fdbbc058e77f6",
     "grade": false,
     "grade_id": "cell-c34bf8950ac3a7f2",
     "locked": true,
     "schema_version": 3,
     "solution": false,
     "task": false
    },
    "tags": []
   },
   "source": [
    "Bilden Sie nun die zeilenweisen Summen über das ndarray mit den gleichverteilten Zufallszahlen \n",
    "(`rand_arr_unif`). Berechnen und visualisieren Sie das Histogramm wie zuvor. Erklären Sie das Ergebnis."
   ]
  },
  {
   "cell_type": "code",
   "execution_count": 23,
   "id": "a2c0357e-4e14-48c0-974e-fdae9d166107",
   "metadata": {
    "pycharm": {
     "name": "#%%\n"
    },
    "tags": []
   },
   "outputs": [
    {
     "data": {
      "application/vnd.jupyter.widget-view+json": {
       "model_id": "67491eaae7ad4bf397708aead39e3c28",
       "version_major": 2,
       "version_minor": 0
      },
      "image/png": "[encoded data removed]",
      "text/html": [
       "\n",
       "            <div style=\"display: inline-block;\">\n",
       "                <div class=\"jupyter-widgets widget-label\" style=\"text-align: center;\">\n",
       "                    Figure\n",
       "                </div>\n",
       "                <img src='data:image/png;base64,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' width=640.0/>\n",
       "            </div>\n",
       "        "
      ],
      "text/plain": [
       "Canvas(toolbar=Toolbar(toolitems=[('Home', 'Reset original view', 'home', 'home'), ('Back', 'Back to previous …"
      ]
     },
     "metadata": {},
     "output_type": "display_data"
    }
   ],
   "source": [
    "rand_arr_unif_sums = rand_arr_unif.sum(axis=0)\n",
    "\n",
    "fig = plt.figure()\n",
    "axs = fig.subplots(1)\n",
    "bar_plot(axs, bincount_flattened, rand_arr_unif_sums)"
   ]
  },
  {
   "cell_type": "markdown",
   "id": "36bd3a6b",
   "metadata": {},
   "source": [
    "Die Balken sind in etwa gleich hoch, da die Werte in dem array `rand_arr_unif` gleichverteilt sind"
   ]
  },
  {
   "cell_type": "code",
   "execution_count": null,
   "id": "5db73c96",
   "metadata": {},
   "outputs": [],
   "source": []
  }
 ],
 "metadata": {
  "kernelspec": {
   "display_name": "Python 3 (ipykernel)",
   "language": "python",
   "name": "python3"
  },
  "language_info": {
   "codemirror_mode": {
    "name": "ipython",
    "version": 3
   },
   "file_extension": ".py",
   "mimetype": "text/x-python",
   "name": "python",
   "nbconvert_exporter": "python",
   "pygments_lexer": "ipython3",
   "version": "3.9.13"
  }
 },
 "nbformat": 4,
 "nbformat_minor": 5
}
