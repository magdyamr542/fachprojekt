{
 "cells": [
  {
   "cell_type": "markdown",
   "metadata": {
    "deletable": false,
    "editable": false,
    "nbgrader": {
     "cell_type": "markdown",
     "checksum": "e0c26a3c7df7c8ad648d969bee6f13f0",
     "grade": false,
     "grade_id": "cell-266ef59de38ded84",
     "locked": true,
     "schema_version": 3,
     "solution": false,
     "task": false
    },
    "tags": []
   },
   "source": [
    "**Fachprojekt Dokumentenanalyse** *WS 22/23* -- *Philipp Oberdiek, Gernot A. Fink* -- *Technische Universität Dortmund, Lehrstuhl XII, Mustererkennung in eingebetteten Systemen*\n",
    "---\n",
    "# Theorie zur Einführung in Python und Numpy"
   ]
  },
  {
   "cell_type": "markdown",
   "metadata": {
    "deletable": false,
    "editable": false,
    "nbgrader": {
     "cell_type": "markdown",
     "checksum": "3daba4ed3cbb7f328fd52f1c6d7086a1",
     "grade": false,
     "grade_id": "cell-caaa7be044801670",
     "locked": true,
     "schema_version": 3,
     "solution": false,
     "task": false
    },
    "tags": []
   },
   "source": [
    "## Python"
   ]
  },
  {
   "cell_type": "markdown",
   "metadata": {
    "deletable": false,
    "editable": false,
    "nbgrader": {
     "cell_type": "markdown",
     "checksum": "a4d137b6c4f68cee8950c50c9ae5d707",
     "grade": false,
     "grade_id": "cell-54decb888a8aa552",
     "locked": true,
     "schema_version": 3,
     "solution": false,
     "task": false
    },
    "tags": []
   },
   "source": [
    "<ul>\n",
    "    <li> Einfache und mächtige Programmiersprache\n",
    "    <li>  Interpreter und viele Bibliotheken kostenlos verfügbar\n",
    "    <li>  Kompakter und gut lesbarer Code\n",
    "    <li>  Quellcode meist deutlich kürzer als in C, C++ oder Java\n",
    "    <li>  Ideal für Scripting und Rapid Application Development\n",
    "</ul>"
   ]
  },
  {
   "cell_type": "markdown",
   "metadata": {
    "deletable": false,
    "editable": false,
    "nbgrader": {
     "cell_type": "markdown",
     "checksum": "34ff19ed110f9d4fac7977439e0c577f",
     "grade": false,
     "grade_id": "cell-e5444bcd572bd073",
     "locked": true,
     "schema_version": 3,
     "solution": false,
     "task": false
    },
    "tags": []
   },
   "source": [
    "### Datentypen"
   ]
  },
  {
   "cell_type": "markdown",
   "metadata": {
    "deletable": false,
    "editable": false,
    "nbgrader": {
     "cell_type": "markdown",
     "checksum": "f3918e5021d2e26b2d2f1f9fab9d8c6d",
     "grade": false,
     "grade_id": "cell-cb38e7009c9a2a25",
     "locked": true,
     "schema_version": 3,
     "solution": false,
     "task": false
    },
    "tags": []
   },
   "source": [
    "#### Variablen sind dynamisch getypt"
   ]
  },
  {
   "cell_type": "code",
   "execution_count": null,
   "metadata": {
    "deletable": false,
    "editable": false,
    "nbgrader": {
     "cell_type": "code",
     "checksum": "f64c65d25858bdd8f65b09ce5d9b1a0c",
     "grade": false,
     "grade_id": "cell-2dc170a79b772b2c",
     "locked": true,
     "schema_version": 3,
     "solution": false,
     "task": false
    },
    "tags": []
   },
   "outputs": [],
   "source": [
    "variable = 1 # Int\n",
    "\n",
    "variable = 1.0 # Float\n",
    "\n",
    "variable = '1.0' # string (immutable)"
   ]
  },
  {
   "cell_type": "markdown",
   "metadata": {
    "deletable": false,
    "editable": false,
    "nbgrader": {
     "cell_type": "markdown",
     "checksum": "eab894510d7539a98b68d453112c825d",
     "grade": false,
     "grade_id": "cell-5afbf631a0ee3926",
     "locked": true,
     "schema_version": 3,
     "solution": false,
     "task": false
    },
    "tags": []
   },
   "source": [
    "#### Sequenzen"
   ]
  },
  {
   "cell_type": "code",
   "execution_count": null,
   "metadata": {
    "deletable": false,
    "editable": false,
    "nbgrader": {
     "cell_type": "code",
     "checksum": "d5291e6c8cb52c4b736413127bb3c583",
     "grade": false,
     "grade_id": "cell-1eff00be4fce1ce5",
     "locked": true,
     "schema_version": 3,
     "solution": false,
     "task": false
    },
    "tags": []
   },
   "outputs": [],
   "source": [
    "seq = (1, 1.0, '1.0') # tuple (immutable)\n",
    "\n",
    "seq = [1, 2, 3, 'foo'] # list\n",
    "print(seq)"
   ]
  },
  {
   "cell_type": "markdown",
   "metadata": {
    "deletable": false,
    "editable": false,
    "nbgrader": {
     "cell_type": "markdown",
     "checksum": "02b8b6901f0758b277e26da76cbe3279",
     "grade": false,
     "grade_id": "cell-49e94b2934026585",
     "locked": true,
     "schema_version": 3,
     "solution": false,
     "task": false
    },
    "tags": []
   },
   "source": [
    "#### Dictionaries"
   ]
  },
  {
   "cell_type": "code",
   "execution_count": null,
   "metadata": {
    "deletable": false,
    "editable": false,
    "nbgrader": {
     "cell_type": "code",
     "checksum": "daaf7273a1a8470521a749f00c499629",
     "grade": false,
     "grade_id": "cell-c7c15dd9296200eb",
     "locked": true,
     "schema_version": 3,
     "solution": false,
     "task": false
    },
    "tags": []
   },
   "outputs": [],
   "source": [
    "dic_var = {'anna': 3098, 'marco': 4139}\n",
    "dic_var['guido'] = 4127\n",
    "\n",
    "print(dic_var['guido'])"
   ]
  },
  {
   "cell_type": "markdown",
   "metadata": {
    "deletable": false,
    "editable": false,
    "nbgrader": {
     "cell_type": "markdown",
     "checksum": "2ce13f573e1487727358bf972443faa3",
     "grade": false,
     "grade_id": "cell-f8ff51aacb328865",
     "locked": true,
     "schema_version": 3,
     "solution": false,
     "task": false
    },
    "tags": []
   },
   "source": [
    "### Aufbau eines Python Programms"
   ]
  },
  {
   "cell_type": "code",
   "execution_count": null,
   "metadata": {
    "deletable": false,
    "editable": false,
    "nbgrader": {
     "cell_type": "code",
     "checksum": "d4b018bb4a951e729427c35dfcdc6b47",
     "grade": false,
     "grade_id": "cell-3c1f54503be3e01b",
     "locked": true,
     "schema_version": 3,
     "solution": false,
     "task": false
    },
    "tags": []
   },
   "outputs": [],
   "source": [
    "# Import benoetigter Pakete\n",
    "import math\n",
    "import numpy as np\n",
    "from os.path import join\n",
    "\n",
    "def some_function(a, b=10): # Funktionsdefinition\n",
    "    result = b * math.cos(a * math.pi)\n",
    "    return result\n",
    "\n",
    "def main(): # Weitere Funktion\n",
    "    pass # Platzhalter fuer Codeblock\n",
    "\n",
    "# Einsprungpunkt\n",
    "if __name__ == '__main__':\n",
    "    main() # Funktionsaufruf"
   ]
  },
  {
   "cell_type": "markdown",
   "metadata": {
    "deletable": false,
    "editable": false,
    "nbgrader": {
     "cell_type": "markdown",
     "checksum": "cd68b46c294b18e3506b9c14c7529277",
     "grade": false,
     "grade_id": "cell-9702a12047bddc23",
     "locked": true,
     "schema_version": 3,
     "solution": false,
     "task": false
    },
    "tags": []
   },
   "source": [
    "### Funktionen"
   ]
  },
  {
   "cell_type": "markdown",
   "metadata": {
    "deletable": false,
    "editable": false,
    "nbgrader": {
     "cell_type": "markdown",
     "checksum": "84e3b8285afc2cae1905ed852fbdb354",
     "grade": false,
     "grade_id": "cell-fad4422664d2f95e",
     "locked": true,
     "schema_version": 3,
     "solution": false,
     "task": false
    },
    "tags": []
   },
   "source": [
    "#### Funktionsdefinition (mit einem Default-Argument):"
   ]
  },
  {
   "cell_type": "code",
   "execution_count": null,
   "metadata": {
    "deletable": false,
    "editable": false,
    "nbgrader": {
     "cell_type": "code",
     "checksum": "98e63b06bd0cb6d7b190e5f8a9842bc2",
     "grade": false,
     "grade_id": "cell-8d4f6c84fa9ee6bb",
     "locked": true,
     "schema_version": 3,
     "solution": false,
     "task": false
    },
    "tags": []
   },
   "outputs": [],
   "source": [
    "def some_function(a, b=10):\n",
    "    result = b * (a + 2)\n",
    "    return result"
   ]
  },
  {
   "cell_type": "markdown",
   "metadata": {
    "deletable": false,
    "editable": false,
    "nbgrader": {
     "cell_type": "markdown",
     "checksum": "6634d28afad676f4fa93c1d5c0d6396e",
     "grade": false,
     "grade_id": "cell-2beff856589a9d03",
     "locked": true,
     "schema_version": 3,
     "solution": false,
     "task": false
    },
    "tags": []
   },
   "source": [
    "#### Funktionsaufrufe mit Positional- und/oder Keyword-Argumenten:"
   ]
  },
  {
   "cell_type": "code",
   "execution_count": null,
   "metadata": {
    "deletable": false,
    "editable": false,
    "nbgrader": {
     "cell_type": "code",
     "checksum": "a1daba49dcde690a61e996742ebbd7d9",
     "grade": false,
     "grade_id": "cell-0125a4e68391d2b1",
     "locked": true,
     "schema_version": 3,
     "solution": false,
     "task": false
    },
    "tags": []
   },
   "outputs": [],
   "source": [
    "some_function(10) # a=10, b=10"
   ]
  },
  {
   "cell_type": "code",
   "execution_count": null,
   "metadata": {
    "deletable": false,
    "editable": false,
    "nbgrader": {
     "cell_type": "code",
     "checksum": "55698f0c16a1ddee3a366753c7376633",
     "grade": false,
     "grade_id": "cell-02dd1639e3a7aafa",
     "locked": true,
     "schema_version": 3,
     "solution": false,
     "task": false
    },
    "tags": []
   },
   "outputs": [],
   "source": [
    "some_function(10, 4) # a=10, b=4"
   ]
  },
  {
   "cell_type": "code",
   "execution_count": null,
   "metadata": {
    "deletable": false,
    "editable": false,
    "nbgrader": {
     "cell_type": "code",
     "checksum": "e96235e4c2e5c48a0633942c6165c4bf",
     "grade": false,
     "grade_id": "cell-86303c2589474233",
     "locked": true,
     "schema_version": 3,
     "solution": false,
     "task": false
    },
    "tags": []
   },
   "outputs": [],
   "source": [
    "some_function(b=3, a=15) # a=15, b=3"
   ]
  },
  {
   "cell_type": "markdown",
   "metadata": {
    "deletable": false,
    "editable": false,
    "nbgrader": {
     "cell_type": "markdown",
     "checksum": "2751359956cb2bf45ab118b6d6ef08cb",
     "grade": false,
     "grade_id": "cell-3c62367fc2c6ef01",
     "locked": true,
     "schema_version": 3,
     "solution": false,
     "task": false
    },
    "tags": []
   },
   "source": [
    "### Klassen"
   ]
  },
  {
   "cell_type": "markdown",
   "metadata": {
    "deletable": false,
    "editable": false,
    "nbgrader": {
     "cell_type": "markdown",
     "checksum": "f02feae2c5efd24474b0a5bf824bc87e",
     "grade": false,
     "grade_id": "cell-f5594ad020458472",
     "locked": true,
     "schema_version": 3,
     "solution": false,
     "task": false
    },
    "tags": []
   },
   "source": [
    "#### Klassendefinition mit Konstruktor und Funktion:"
   ]
  },
  {
   "cell_type": "code",
   "execution_count": null,
   "metadata": {
    "deletable": false,
    "editable": false,
    "nbgrader": {
     "cell_type": "code",
     "checksum": "07955f929b817ab1d6c789046e78090b",
     "grade": false,
     "grade_id": "cell-397cf6dfb9f4b4a7",
     "locked": true,
     "schema_version": 3,
     "solution": false,
     "task": false
    },
    "tags": []
   },
   "outputs": [],
   "source": [
    "class Example(object):\n",
    "    class_attr = 3.4 # Klassenattribut\n",
    "\n",
    "    def __init__(self, value, name='abc'):\n",
    "        \"\"\"Konstruktor\"\"\"\n",
    "        self.name = name # Instanzattribut\n",
    "        self.my_val = value\n",
    "\n",
    "    def do_something(self, a):\n",
    "        self.my_val += a\n",
    "        return self.name, self.my_val # Tuple"
   ]
  },
  {
   "cell_type": "markdown",
   "metadata": {
    "deletable": false,
    "editable": false,
    "nbgrader": {
     "cell_type": "markdown",
     "checksum": "5bb5a0a5c7616716e64e02533563de46",
     "grade": false,
     "grade_id": "cell-d4c97aaf2caa6d18",
     "locked": true,
     "schema_version": 3,
     "solution": false,
     "task": false
    },
    "tags": []
   },
   "source": [
    "#### Instanzierung und Methodenaufruf:"
   ]
  },
  {
   "cell_type": "code",
   "execution_count": null,
   "metadata": {
    "deletable": false,
    "editable": false,
    "nbgrader": {
     "cell_type": "code",
     "checksum": "2f994500bec9a08407e04fd5c9f05551",
     "grade": false,
     "grade_id": "cell-7473d0e1bb225e06",
     "locked": true,
     "schema_version": 3,
     "solution": false,
     "task": false
    },
    "tags": []
   },
   "outputs": [],
   "source": [
    "my_object = Example(2)\n",
    "name, val = my_object.do_something(3)"
   ]
  },
  {
   "cell_type": "code",
   "execution_count": null,
   "metadata": {
    "deletable": false,
    "editable": false,
    "nbgrader": {
     "cell_type": "code",
     "checksum": "d1a9fae07bb0a41369ccf448d7e51e32",
     "grade": false,
     "grade_id": "cell-0475ca20d916c4ad",
     "locked": true,
     "schema_version": 3,
     "solution": false,
     "task": false
    },
    "tags": []
   },
   "outputs": [],
   "source": [
    "name"
   ]
  },
  {
   "cell_type": "code",
   "execution_count": null,
   "metadata": {
    "deletable": false,
    "editable": false,
    "nbgrader": {
     "cell_type": "code",
     "checksum": "e9a8964a850e239c388cfc1e0454cd62",
     "grade": false,
     "grade_id": "cell-3306fb1140b09d54",
     "locked": true,
     "schema_version": 3,
     "solution": false,
     "task": false
    },
    "tags": []
   },
   "outputs": [],
   "source": [
    "val"
   ]
  },
  {
   "cell_type": "markdown",
   "metadata": {
    "deletable": false,
    "editable": false,
    "nbgrader": {
     "cell_type": "markdown",
     "checksum": "06d03477d836a2cd5881512ddc63ffac",
     "grade": false,
     "grade_id": "cell-c4e03f14b5a929ea",
     "locked": true,
     "schema_version": 3,
     "solution": false,
     "task": false
    },
    "tags": []
   },
   "source": [
    "### Kontrollfluss"
   ]
  },
  {
   "cell_type": "markdown",
   "metadata": {
    "deletable": false,
    "editable": false,
    "nbgrader": {
     "cell_type": "markdown",
     "checksum": "1a085492c44b21107deddbe0acb1630b",
     "grade": false,
     "grade_id": "cell-43bdaa8c4e3f099b",
     "locked": true,
     "schema_version": 3,
     "solution": false,
     "task": false
    },
    "tags": []
   },
   "source": [
    "#### if-Statement:"
   ]
  },
  {
   "cell_type": "code",
   "execution_count": null,
   "metadata": {
    "deletable": false,
    "editable": false,
    "nbgrader": {
     "cell_type": "code",
     "checksum": "d8bde9b682bdffa7b49093c462eca73c",
     "grade": false,
     "grade_id": "cell-b3c1c7424e9d494e",
     "locked": true,
     "schema_version": 3,
     "solution": false,
     "task": false
    },
    "tags": []
   },
   "outputs": [],
   "source": [
    "variable = (1, 1.0, '1.0')\n",
    "if 42 in variable:\n",
    "    print('42 is in variable')\n",
    "elif 2 in variable:\n",
    "    print('2 is in variable')\n",
    "else:\n",
    "    print('42 and 2 are not in variable')"
   ]
  },
  {
   "cell_type": "markdown",
   "metadata": {
    "deletable": false,
    "editable": false,
    "nbgrader": {
     "cell_type": "markdown",
     "checksum": "eb3274a0bec9a72b32423d09ea5b02b4",
     "grade": false,
     "grade_id": "cell-c5a414520ec3b9a3",
     "locked": true,
     "schema_version": 3,
     "solution": false,
     "task": false
    },
    "tags": []
   },
   "source": [
    "#### while-Statement:"
   ]
  },
  {
   "cell_type": "code",
   "execution_count": null,
   "metadata": {
    "deletable": false,
    "editable": false,
    "nbgrader": {
     "cell_type": "code",
     "checksum": "a987b53cfad778fc96904a82eb56b05c",
     "grade": false,
     "grade_id": "cell-a8c47569a8ee7556",
     "locked": true,
     "schema_version": 3,
     "solution": false,
     "task": false
    },
    "tags": []
   },
   "outputs": [],
   "source": [
    "i = 0\n",
    "while i < 10:\n",
    "    i += 1\n",
    "i"
   ]
  },
  {
   "cell_type": "markdown",
   "metadata": {
    "deletable": false,
    "editable": false,
    "nbgrader": {
     "cell_type": "markdown",
     "checksum": "363653cc4d33cc1f848b551fb56570ff",
     "grade": false,
     "grade_id": "cell-bc87e7299397a35c",
     "locked": true,
     "schema_version": 3,
     "solution": false,
     "task": false
    },
    "tags": []
   },
   "source": [
    "#### for-Statement (iteriert über Sequenz!):"
   ]
  },
  {
   "cell_type": "code",
   "execution_count": null,
   "metadata": {
    "deletable": false,
    "editable": false,
    "nbgrader": {
     "cell_type": "code",
     "checksum": "673bcd5b02f0b5ac7c0e4135f0e73137",
     "grade": false,
     "grade_id": "cell-158665b437ae1a0b",
     "locked": true,
     "schema_version": 3,
     "solution": false,
     "task": false
    },
    "tags": []
   },
   "outputs": [],
   "source": [
    "for i in range(10):\n",
    "    print(i, end=' ')"
   ]
  },
  {
   "cell_type": "code",
   "execution_count": null,
   "metadata": {
    "deletable": false,
    "editable": false,
    "nbgrader": {
     "cell_type": "code",
     "checksum": "332899d2c0e02922f0cbabfff90aede6",
     "grade": false,
     "grade_id": "cell-b4e0fa43c0146835",
     "locked": true,
     "schema_version": 3,
     "solution": false,
     "task": false
    },
    "tags": []
   },
   "outputs": [],
   "source": [
    "words = ['cat', 'window', 'defenestrate']\n",
    "for c, w in enumerate(words):\n",
    "    print('(%d: %s)' % (c, w), end=' ')"
   ]
  },
  {
   "cell_type": "markdown",
   "metadata": {
    "deletable": false,
    "editable": false,
    "nbgrader": {
     "cell_type": "markdown",
     "checksum": "d3097c49f3c482cb5414744e9975debb",
     "grade": false,
     "grade_id": "cell-7fff0e40f364c43d",
     "locked": true,
     "schema_version": 3,
     "solution": false,
     "task": false
    },
    "tags": []
   },
   "source": [
    "#### List Comprehension:"
   ]
  },
  {
   "cell_type": "code",
   "execution_count": null,
   "metadata": {
    "deletable": false,
    "editable": false,
    "nbgrader": {
     "cell_type": "code",
     "checksum": "aacdfa04d9e3482647810591fc3fc56e",
     "grade": false,
     "grade_id": "cell-5aa648f79cbb2d52",
     "locked": true,
     "schema_version": 3,
     "solution": false,
     "task": false
    },
    "tags": []
   },
   "outputs": [],
   "source": [
    "[ x**2 for x in range(10) ]"
   ]
  },
  {
   "cell_type": "markdown",
   "metadata": {
    "deletable": false,
    "editable": false,
    "nbgrader": {
     "cell_type": "markdown",
     "checksum": "f0c39d288ae7de9cd239657ca0468141",
     "grade": false,
     "grade_id": "cell-b5e2cbd48d59feac",
     "locked": true,
     "schema_version": 3,
     "solution": false,
     "task": false
    },
    "tags": []
   },
   "source": [
    "### String Formatierung"
   ]
  },
  {
   "cell_type": "markdown",
   "metadata": {
    "deletable": false,
    "editable": false,
    "nbgrader": {
     "cell_type": "markdown",
     "checksum": "2558d5f13e7c6be7e88fe1522769e9f8",
     "grade": false,
     "grade_id": "cell-d793613dd77f2f5b",
     "locked": true,
     "schema_version": 3,
     "solution": false,
     "task": false
    },
    "tags": []
   },
   "source": [
    "#### Formatierung mit \\%-Operator"
   ]
  },
  {
   "cell_type": "code",
   "execution_count": null,
   "metadata": {
    "deletable": false,
    "editable": false,
    "nbgrader": {
     "cell_type": "code",
     "checksum": "ecf28c464ccd8c536d712de544ed483e",
     "grade": false,
     "grade_id": "cell-e3123710fa33280d",
     "locked": true,
     "schema_version": 3,
     "solution": false,
     "task": false
    },
    "tags": []
   },
   "outputs": [],
   "source": [
    "'Number: %d' % 50"
   ]
  },
  {
   "cell_type": "code",
   "execution_count": null,
   "metadata": {
    "deletable": false,
    "editable": false,
    "nbgrader": {
     "cell_type": "code",
     "checksum": "01ddf9ecf3dc6f00a26aa9227184fa23",
     "grade": false,
     "grade_id": "cell-227ad81e71d3ee04",
     "locked": true,
     "schema_version": 3,
     "solution": false,
     "task": false
    },
    "tags": []
   },
   "outputs": [],
   "source": [
    "name, val = 'marc', 2.45\n",
    "'%s: %.2f' % (name, val)"
   ]
  },
  {
   "cell_type": "markdown",
   "metadata": {
    "deletable": false,
    "editable": false,
    "nbgrader": {
     "cell_type": "markdown",
     "checksum": "3e799b82b4ac1658898a03475e9ae41a",
     "grade": false,
     "grade_id": "cell-07582b84997b9f96",
     "locked": true,
     "schema_version": 3,
     "solution": false,
     "task": false
    },
    "tags": []
   },
   "source": [
    "#### Formatierung mit format()"
   ]
  },
  {
   "cell_type": "code",
   "execution_count": null,
   "metadata": {
    "deletable": false,
    "editable": false,
    "nbgrader": {
     "cell_type": "code",
     "checksum": "066dcb1d62c9e7a74bd45db35b2b439c",
     "grade": false,
     "grade_id": "cell-d3c65c5920086e06",
     "locked": true,
     "schema_version": 3,
     "solution": false,
     "task": false
    },
    "tags": []
   },
   "outputs": [],
   "source": [
    "'Number: {:d}'.format(50)"
   ]
  },
  {
   "cell_type": "code",
   "execution_count": null,
   "metadata": {
    "deletable": false,
    "editable": false,
    "nbgrader": {
     "cell_type": "code",
     "checksum": "47a006b532d4bd39fa0c741b51e2dd5b",
     "grade": false,
     "grade_id": "cell-11f540f35adcfe54",
     "locked": true,
     "schema_version": 3,
     "solution": false,
     "task": false
    },
    "tags": []
   },
   "outputs": [],
   "source": [
    "'{:s}: {:.2f}'.format(name, val)"
   ]
  },
  {
   "cell_type": "markdown",
   "metadata": {
    "deletable": false,
    "editable": false,
    "nbgrader": {
     "cell_type": "markdown",
     "checksum": "2309e932600d03c595a2972fb2588b78",
     "grade": false,
     "grade_id": "cell-b8d24b11eb68f234",
     "locked": true,
     "schema_version": 3,
     "solution": false,
     "task": false
    },
    "tags": []
   },
   "source": [
    "Formatierung mit f-Strings"
   ]
  },
  {
   "cell_type": "code",
   "execution_count": null,
   "metadata": {
    "deletable": false,
    "editable": false,
    "nbgrader": {
     "cell_type": "code",
     "checksum": "d589e8feed2c219578ed36bfb8f85577",
     "grade": false,
     "grade_id": "cell-aefe40696e66cbc3",
     "locked": true,
     "schema_version": 3,
     "solution": false,
     "task": false
    },
    "tags": []
   },
   "outputs": [],
   "source": [
    "f'Number: {50}'"
   ]
  },
  {
   "cell_type": "code",
   "execution_count": null,
   "metadata": {
    "deletable": false,
    "editable": false,
    "nbgrader": {
     "cell_type": "code",
     "checksum": "60e058ac2e44baace295938a73427024",
     "grade": false,
     "grade_id": "cell-f2a8a92b1104d978",
     "locked": true,
     "schema_version": 3,
     "solution": false,
     "task": false
    },
    "tags": []
   },
   "outputs": [],
   "source": [
    "f'Name: {name}, Values: {val}'"
   ]
  },
  {
   "cell_type": "markdown",
   "metadata": {
    "deletable": false,
    "editable": false,
    "nbgrader": {
     "cell_type": "markdown",
     "checksum": "a15ef98647327016afd1c02ae9e5e2ad",
     "grade": false,
     "grade_id": "cell-f8084bb6c5325eea",
     "locked": true,
     "schema_version": 3,
     "solution": false,
     "task": false
    },
    "tags": []
   },
   "source": [
    "Vorsicht bei der Verwendung von Dictionaries! Benutzen Sie unterschiedlche Anführungsstriche \"\"  und ''"
   ]
  },
  {
   "cell_type": "code",
   "execution_count": null,
   "metadata": {
    "deletable": false,
    "editable": false,
    "nbgrader": {
     "cell_type": "code",
     "checksum": "68dcd48b1e777e4e1e425805d3e05cbf",
     "grade": false,
     "grade_id": "cell-e1adb0c9a1a39322",
     "locked": true,
     "schema_version": 3,
     "solution": false,
     "task": false
    },
    "tags": []
   },
   "outputs": [],
   "source": [
    "dic_var = {'bob': 1234}\n",
    "f'Bob in dic_var ist {dic_var[\"bob\"]}'"
   ]
  },
  {
   "cell_type": "markdown",
   "metadata": {
    "deletable": false,
    "editable": false,
    "nbgrader": {
     "cell_type": "markdown",
     "checksum": "116f84a54383d12bb56da7887ffd019d",
     "grade": false,
     "grade_id": "cell-fb9b8262e523fb9f",
     "locked": true,
     "schema_version": 3,
     "solution": false,
     "task": false
    },
    "tags": []
   },
   "source": [
    "## NumPy"
   ]
  },
  {
   "cell_type": "markdown",
   "metadata": {
    "deletable": false,
    "editable": false,
    "nbgrader": {
     "cell_type": "markdown",
     "checksum": "4329b96eefe2a268fb6d2c268ab58303",
     "grade": false,
     "grade_id": "cell-a2761e10f738334b",
     "locked": true,
     "schema_version": 3,
     "solution": false,
     "task": false
    },
    "tags": []
   },
   "source": [
    "<ul>\n",
    "    <li> Numeric Python\n",
    "    <li> Programmbibliothek für wissenschaftliches Rechnen und numerische Berechnungen\n",
    "    <li> Komplexe Berechnungen und rechnen mit großen Datenmengen in Python ineffizient\n",
    "    <li> Effizientes rechnen mit Matrizen, mehrdimensionalen Arrays und Vektoren\n",
    "<ul>"
   ]
  },
  {
   "cell_type": "markdown",
   "metadata": {
    "deletable": false,
    "editable": false,
    "nbgrader": {
     "cell_type": "markdown",
     "checksum": "b00d40fc294c36c65bfcf009e5ac3d7b",
     "grade": false,
     "grade_id": "cell-df102e13af146ec6",
     "locked": true,
     "schema_version": 3,
     "solution": false,
     "task": false
    },
    "tags": []
   },
   "source": [
    "### Einführung"
   ]
  },
  {
   "cell_type": "code",
   "execution_count": null,
   "metadata": {
    "deletable": false,
    "editable": false,
    "nbgrader": {
     "cell_type": "code",
     "checksum": "79d4ab9609ee7313c81d94666d5c8d94",
     "grade": false,
     "grade_id": "cell-45e088129f5f38df",
     "locked": true,
     "schema_version": 3,
     "solution": false,
     "task": false
    },
    "tags": []
   },
   "outputs": [],
   "source": [
    "import numpy as np"
   ]
  },
  {
   "cell_type": "code",
   "execution_count": null,
   "metadata": {
    "deletable": false,
    "editable": false,
    "nbgrader": {
     "cell_type": "code",
     "checksum": "e0e147cbb05a5e9d7b604e4d367ea4cd",
     "grade": false,
     "grade_id": "cell-e137ce61e357cd93",
     "locked": true,
     "schema_version": 3,
     "solution": false,
     "task": false
    },
    "tags": []
   },
   "outputs": [],
   "source": [
    "a = np.array([0,1,2,3,4,5,6,7,8])\n",
    "a"
   ]
  },
  {
   "cell_type": "code",
   "execution_count": null,
   "metadata": {
    "deletable": false,
    "editable": false,
    "nbgrader": {
     "cell_type": "code",
     "checksum": "8b720f497fd13a0516b2d8350641d7e4",
     "grade": false,
     "grade_id": "cell-256055650eff81e7",
     "locked": true,
     "schema_version": 3,
     "solution": false,
     "task": false
    },
    "tags": []
   },
   "outputs": [],
   "source": [
    "b = a.reshape((3,3))\n",
    "b"
   ]
  },
  {
   "cell_type": "code",
   "execution_count": null,
   "metadata": {
    "deletable": false,
    "editable": false,
    "nbgrader": {
     "cell_type": "code",
     "checksum": "dbd1eef573710885fdf6e484cbdf1d88",
     "grade": false,
     "grade_id": "cell-021a845a7b9aa613",
     "locked": true,
     "schema_version": 3,
     "solution": false,
     "task": false
    },
    "tags": []
   },
   "outputs": [],
   "source": [
    "c = b * 10\n",
    "c"
   ]
  },
  {
   "cell_type": "code",
   "execution_count": null,
   "metadata": {
    "deletable": false,
    "editable": false,
    "nbgrader": {
     "cell_type": "code",
     "checksum": "451c61376d067bd0327e5dbbf6c0b84f",
     "grade": false,
     "grade_id": "cell-db3171cf15b4acc9",
     "locked": true,
     "schema_version": 3,
     "solution": false,
     "task": false
    },
    "tags": []
   },
   "outputs": [],
   "source": [
    "b + c"
   ]
  },
  {
   "cell_type": "code",
   "execution_count": null,
   "metadata": {
    "deletable": false,
    "editable": false,
    "nbgrader": {
     "cell_type": "code",
     "checksum": "c58c0eb7f107cbc7f03294f097b0a535",
     "grade": false,
     "grade_id": "cell-26dbaff17811f6f4",
     "locked": true,
     "schema_version": 3,
     "solution": false,
     "task": false
    },
    "tags": []
   },
   "outputs": [],
   "source": [
    "b * c"
   ]
  },
  {
   "cell_type": "code",
   "execution_count": null,
   "metadata": {
    "deletable": false,
    "editable": false,
    "nbgrader": {
     "cell_type": "code",
     "checksum": "3d3e34ad6f4537bff831cf3dd2a8b04f",
     "grade": false,
     "grade_id": "cell-e6ac73a9bd8be4b9",
     "locked": true,
     "schema_version": 3,
     "solution": false,
     "task": false
    },
    "tags": []
   },
   "outputs": [],
   "source": [
    "b.mean()"
   ]
  },
  {
   "cell_type": "code",
   "execution_count": null,
   "metadata": {
    "deletable": false,
    "editable": false,
    "nbgrader": {
     "cell_type": "code",
     "checksum": "1e5485d683c275c0b6841ba0efb4840d",
     "grade": false,
     "grade_id": "cell-51978fdb874ad2cf",
     "locked": true,
     "schema_version": 3,
     "solution": false,
     "task": false
    },
    "tags": []
   },
   "outputs": [],
   "source": [
    "b.sum()"
   ]
  },
  {
   "cell_type": "markdown",
   "metadata": {
    "deletable": false,
    "editable": false,
    "nbgrader": {
     "cell_type": "markdown",
     "checksum": "088b1da3149562c1f80140f602cad07b",
     "grade": false,
     "grade_id": "cell-0a3dcf83b467b43c",
     "locked": true,
     "schema_version": 3,
     "solution": false,
     "task": false
    },
    "tags": []
   },
   "source": [
    "### Array Größe"
   ]
  },
  {
   "cell_type": "code",
   "execution_count": null,
   "metadata": {
    "deletable": false,
    "editable": false,
    "nbgrader": {
     "cell_type": "code",
     "checksum": "bb9f63d23bee48b9597244ab739c7c83",
     "grade": false,
     "grade_id": "cell-7fbb3ee1573093b7",
     "locked": true,
     "schema_version": 3,
     "solution": false,
     "task": false
    },
    "tags": []
   },
   "outputs": [],
   "source": [
    "print(a)\n",
    "a.shape"
   ]
  },
  {
   "cell_type": "code",
   "execution_count": null,
   "metadata": {
    "deletable": false,
    "editable": false,
    "nbgrader": {
     "cell_type": "code",
     "checksum": "5bcf98309c3f82ac7a4e63962b0d2375",
     "grade": false,
     "grade_id": "cell-8d7341da538e4c12",
     "locked": true,
     "schema_version": 3,
     "solution": false,
     "task": false
    },
    "tags": []
   },
   "outputs": [],
   "source": [
    "print(b)\n",
    "b.shape"
   ]
  },
  {
   "cell_type": "code",
   "execution_count": null,
   "metadata": {
    "deletable": false,
    "editable": false,
    "nbgrader": {
     "cell_type": "code",
     "checksum": "46990f88f5d9db92ba601e43dc6b06dd",
     "grade": false,
     "grade_id": "cell-cee238da86401380",
     "locked": true,
     "schema_version": 3,
     "solution": false,
     "task": false
    },
    "tags": []
   },
   "outputs": [],
   "source": [
    "d = np.array([[[0, 1, 2, 3],\n",
    "               [4, 5, 6, 7] ],\n",
    "              [[0, 1, 2, 3],\n",
    "               [4, 5, 6, 7] ],\n",
    "              [[0, 1, 2, 3],\n",
    "               [4, 5, 6, 7] ] ])\n",
    "d.shape"
   ]
  },
  {
   "cell_type": "markdown",
   "metadata": {
    "deletable": false,
    "editable": false,
    "nbgrader": {
     "cell_type": "markdown",
     "checksum": "a3ebbb693ab023cba9f0060479c1345c",
     "grade": false,
     "grade_id": "cell-90cc7fe007011c03",
     "locked": true,
     "schema_version": 3,
     "solution": false,
     "task": false
    },
    "tags": []
   },
   "source": [
    "### Initialisierung"
   ]
  },
  {
   "cell_type": "markdown",
   "metadata": {
    "deletable": false,
    "editable": false,
    "nbgrader": {
     "cell_type": "markdown",
     "checksum": "7ad4755ef15aa290f66f49d5c3e2f86c",
     "grade": false,
     "grade_id": "cell-1225edb1b0f9e1a2",
     "locked": true,
     "schema_version": 3,
     "solution": false,
     "task": false
    },
    "tags": []
   },
   "source": [
    "#### Explizite Liste:"
   ]
  },
  {
   "cell_type": "code",
   "execution_count": null,
   "metadata": {
    "deletable": false,
    "editable": false,
    "nbgrader": {
     "cell_type": "code",
     "checksum": "434056b9997e462b2c949c90f2131ccd",
     "grade": false,
     "grade_id": "cell-b45130d14318e5ca",
     "locked": true,
     "schema_version": 3,
     "solution": false,
     "task": false
    },
    "tags": []
   },
   "outputs": [],
   "source": [
    "a = np.array([0,1,2,3,4])\n",
    "a"
   ]
  },
  {
   "cell_type": "markdown",
   "metadata": {
    "deletable": false,
    "editable": false,
    "nbgrader": {
     "cell_type": "markdown",
     "checksum": "034a3daac98ee651998e5992c5027d8a",
     "grade": false,
     "grade_id": "cell-c41d87f1203c2ad9",
     "locked": true,
     "schema_version": 3,
     "solution": false,
     "task": false
    },
    "tags": []
   },
   "source": [
    "#### Range:"
   ]
  },
  {
   "cell_type": "code",
   "execution_count": null,
   "metadata": {
    "deletable": false,
    "editable": false,
    "nbgrader": {
     "cell_type": "code",
     "checksum": "b65d0c79aee2a8ff87a15a3f77a852a2",
     "grade": false,
     "grade_id": "cell-d1a6ae61c134f4dc",
     "locked": true,
     "schema_version": 3,
     "solution": false,
     "task": false
    },
    "tags": []
   },
   "outputs": [],
   "source": [
    "np.arange(10)"
   ]
  },
  {
   "cell_type": "markdown",
   "metadata": {
    "deletable": false,
    "editable": false,
    "nbgrader": {
     "cell_type": "markdown",
     "checksum": "ac03530916469cff1487d011212910de",
     "grade": false,
     "grade_id": "cell-0c5743e3dba0725b",
     "locked": true,
     "schema_version": 3,
     "solution": false,
     "task": false
    },
    "tags": []
   },
   "source": [
    "#### Zeros:"
   ]
  },
  {
   "cell_type": "code",
   "execution_count": null,
   "metadata": {
    "deletable": false,
    "editable": false,
    "nbgrader": {
     "cell_type": "code",
     "checksum": "c4f3a40d6b02dc71a444f4a274065527",
     "grade": false,
     "grade_id": "cell-88ae13f52d851c22",
     "locked": true,
     "schema_version": 3,
     "solution": false,
     "task": false
    },
    "tags": []
   },
   "outputs": [],
   "source": [
    "np.zeros((2,3))"
   ]
  },
  {
   "cell_type": "markdown",
   "metadata": {
    "deletable": false,
    "editable": false,
    "nbgrader": {
     "cell_type": "markdown",
     "checksum": "6e809b811ea9e024bb3bc7d4b9b9ea47",
     "grade": false,
     "grade_id": "cell-cd79e8843e9ae1d3",
     "locked": true,
     "schema_version": 3,
     "solution": false,
     "task": false
    },
    "tags": []
   },
   "source": [
    "#### Ones:"
   ]
  },
  {
   "cell_type": "code",
   "execution_count": null,
   "metadata": {
    "deletable": false,
    "editable": false,
    "nbgrader": {
     "cell_type": "code",
     "checksum": "089880f32b513919c53c907587f960b9",
     "grade": false,
     "grade_id": "cell-0e9fb1152a455b93",
     "locked": true,
     "schema_version": 3,
     "solution": false,
     "task": false
    },
    "tags": []
   },
   "outputs": [],
   "source": [
    "np.ones((2,3))"
   ]
  },
  {
   "cell_type": "markdown",
   "metadata": {
    "deletable": false,
    "editable": false,
    "nbgrader": {
     "cell_type": "markdown",
     "checksum": "416ed97489c174b57a98b12bb09cecbe",
     "grade": false,
     "grade_id": "cell-285c81c8754d23cc",
     "locked": true,
     "schema_version": 3,
     "solution": false,
     "task": false
    },
    "tags": []
   },
   "source": [
    "#### Konstante Diagonale:"
   ]
  },
  {
   "cell_type": "code",
   "execution_count": null,
   "metadata": {
    "deletable": false,
    "editable": false,
    "nbgrader": {
     "cell_type": "code",
     "checksum": "3ec6d11f1f5509e7c50fe06d2d015b7b",
     "grade": false,
     "grade_id": "cell-1ff42948335eb28c",
     "locked": true,
     "schema_version": 3,
     "solution": false,
     "task": false
    },
    "tags": []
   },
   "outputs": [],
   "source": [
    "np.eye(3)"
   ]
  },
  {
   "cell_type": "markdown",
   "metadata": {
    "deletable": false,
    "editable": false,
    "nbgrader": {
     "cell_type": "markdown",
     "checksum": "002a098c6f8bf848c7c807589fe8b457",
     "grade": false,
     "grade_id": "cell-7d14e9c7dcf7e058",
     "locked": true,
     "schema_version": 3,
     "solution": false,
     "task": false
    },
    "tags": []
   },
   "source": [
    "#### Diagonale mit Werten:"
   ]
  },
  {
   "cell_type": "code",
   "execution_count": null,
   "metadata": {
    "deletable": false,
    "editable": false,
    "nbgrader": {
     "cell_type": "code",
     "checksum": "7f97545b139a12e8b318754f15ab23a7",
     "grade": false,
     "grade_id": "cell-2c7ff75ae7463bd3",
     "locked": true,
     "schema_version": 3,
     "solution": false,
     "task": false
    },
    "tags": []
   },
   "outputs": [],
   "source": [
    "np.diag([1,2,3])"
   ]
  },
  {
   "cell_type": "markdown",
   "metadata": {
    "deletable": false,
    "editable": false,
    "nbgrader": {
     "cell_type": "markdown",
     "checksum": "8fd516d7318550a281a69674460ca2f9",
     "grade": false,
     "grade_id": "cell-48860cac88e3a83f",
     "locked": true,
     "schema_version": 3,
     "solution": false,
     "task": false
    },
    "tags": []
   },
   "source": [
    "### Indizieren und Slicing"
   ]
  },
  {
   "cell_type": "code",
   "execution_count": null,
   "metadata": {
    "deletable": false,
    "editable": false,
    "nbgrader": {
     "cell_type": "code",
     "checksum": "1e06cd0963285f5576c728ea08af871e",
     "grade": false,
     "grade_id": "cell-4d11cfd42b8bc7bd",
     "locked": true,
     "schema_version": 3,
     "solution": false,
     "task": false
    },
    "tags": []
   },
   "outputs": [],
   "source": [
    "a = np.array([ [ 0,  1,  2,  3,  4],\n",
    "               [ 5,  6,  7,  8,  9],\n",
    "               [10, 11, 12, 13, 14]   ])"
   ]
  },
  {
   "cell_type": "markdown",
   "metadata": {
    "deletable": false,
    "editable": false,
    "nbgrader": {
     "cell_type": "markdown",
     "checksum": "4bdb067773cfa3bf9ecca65e19c7f335",
     "grade": false,
     "grade_id": "cell-7a2c0d6ab99ee06e",
     "locked": true,
     "schema_version": 3,
     "solution": false,
     "task": false
    },
    "tags": []
   },
   "source": [
    "(1) Die zweite und dritte Spalte von den ersten beiden Zeilen:"
   ]
  },
  {
   "cell_type": "code",
   "execution_count": null,
   "metadata": {
    "deletable": false,
    "editable": false,
    "nbgrader": {
     "cell_type": "code",
     "checksum": "bcf42dae30babb529187bf8f929b7891",
     "grade": false,
     "grade_id": "cell-0c87c538597c22a4",
     "locked": true,
     "schema_version": 3,
     "solution": false,
     "task": false
    },
    "tags": []
   },
   "outputs": [],
   "source": [
    "a[:2,1:3]"
   ]
  },
  {
   "cell_type": "markdown",
   "metadata": {
    "deletable": false,
    "editable": false,
    "nbgrader": {
     "cell_type": "markdown",
     "checksum": "56cb5d3026dfbfcf96a0457b8b125ba3",
     "grade": false,
     "grade_id": "cell-a35913fe97b2c00b",
     "locked": true,
     "schema_version": 3,
     "solution": false,
     "task": false
    },
    "tags": []
   },
   "source": [
    "(2) Die ersten beiden Zeilen:"
   ]
  },
  {
   "cell_type": "code",
   "execution_count": null,
   "metadata": {
    "deletable": false,
    "editable": false,
    "nbgrader": {
     "cell_type": "code",
     "checksum": "99d273680ffffbae7c7ed0a790a835bc",
     "grade": false,
     "grade_id": "cell-7108b7db6a359cda",
     "locked": true,
     "schema_version": 3,
     "solution": false,
     "task": false
    },
    "tags": []
   },
   "outputs": [],
   "source": [
    "a[0:2,:]"
   ]
  },
  {
   "cell_type": "markdown",
   "metadata": {
    "deletable": false,
    "editable": false,
    "nbgrader": {
     "cell_type": "markdown",
     "checksum": "9bc4ea92bbfdfa4f651183b5c70919d6",
     "grade": false,
     "grade_id": "cell-a6d01b81e599b4fa",
     "locked": true,
     "schema_version": 3,
     "solution": false,
     "task": false
    },
    "tags": []
   },
   "source": [
    "(3) Jede 2te Spalte:"
   ]
  },
  {
   "cell_type": "code",
   "execution_count": null,
   "metadata": {
    "deletable": false,
    "editable": false,
    "nbgrader": {
     "cell_type": "code",
     "checksum": "ca9cfa5b688ca7c6d88892e77f29edc3",
     "grade": false,
     "grade_id": "cell-3147aa04ac212dfe",
     "locked": true,
     "schema_version": 3,
     "solution": false,
     "task": false
    },
    "tags": []
   },
   "outputs": [],
   "source": [
    "a[:,::2]"
   ]
  },
  {
   "cell_type": "markdown",
   "metadata": {
    "deletable": false,
    "editable": false,
    "nbgrader": {
     "cell_type": "markdown",
     "checksum": "45d5ab0d7bf5462edaf526a181f43e7b",
     "grade": false,
     "grade_id": "cell-5f5333a6430ba1c7",
     "locked": true,
     "schema_version": 3,
     "solution": false,
     "task": false
    },
    "tags": []
   },
   "source": [
    "(4) Die erste und dritte Zeile ohne das erste Element:"
   ]
  },
  {
   "cell_type": "code",
   "execution_count": null,
   "metadata": {
    "deletable": false,
    "editable": false,
    "nbgrader": {
     "cell_type": "code",
     "checksum": "ba8bcdccc9f365ad99326126e9d91f42",
     "grade": false,
     "grade_id": "cell-24b40aac02cd14c7",
     "locked": true,
     "schema_version": 3,
     "solution": false,
     "task": false
    },
    "tags": []
   },
   "outputs": [],
   "source": [
    "a[[0,2],1:]"
   ]
  },
  {
   "cell_type": "markdown",
   "metadata": {
    "deletable": false,
    "editable": false,
    "nbgrader": {
     "cell_type": "markdown",
     "checksum": "8c3e89c47d7b71dc7f5d08242232787a",
     "grade": false,
     "grade_id": "cell-ae899423da8ad7be",
     "locked": true,
     "schema_version": 3,
     "solution": false,
     "task": false
    },
    "tags": []
   },
   "source": [
    "(5) Boolsche Maske für gerade Werte:"
   ]
  },
  {
   "cell_type": "code",
   "execution_count": null,
   "metadata": {
    "deletable": false,
    "editable": false,
    "nbgrader": {
     "cell_type": "code",
     "checksum": "c0d70fa8aca6176601a96c7745aae4bd",
     "grade": false,
     "grade_id": "cell-67e4b85fb5d25e74",
     "locked": true,
     "schema_version": 3,
     "solution": false,
     "task": false
    },
    "tags": []
   },
   "outputs": [],
   "source": [
    "a % 2 == 0"
   ]
  },
  {
   "cell_type": "markdown",
   "metadata": {
    "deletable": false,
    "editable": false,
    "nbgrader": {
     "cell_type": "markdown",
     "checksum": "748b4bf37abe10968bd913bb07cf3a13",
     "grade": false,
     "grade_id": "cell-87fe67243a9b6ecb",
     "locked": true,
     "schema_version": 3,
     "solution": false,
     "task": false
    },
    "tags": []
   },
   "source": [
    "(6) Alle geraden Werte:"
   ]
  },
  {
   "cell_type": "code",
   "execution_count": null,
   "metadata": {
    "deletable": false,
    "editable": false,
    "nbgrader": {
     "cell_type": "code",
     "checksum": "456fdefde78fcc7b02eb8528b5bff91c",
     "grade": false,
     "grade_id": "cell-8f55014f63e35281",
     "locked": true,
     "schema_version": 3,
     "solution": false,
     "task": false
    },
    "tags": []
   },
   "outputs": [],
   "source": [
    "a[a % 2 == 0]"
   ]
  },
  {
   "cell_type": "markdown",
   "metadata": {
    "deletable": false,
    "editable": false,
    "nbgrader": {
     "cell_type": "markdown",
     "checksum": "49d6c8eaeab3da2cd268e66248df6510",
     "grade": false,
     "grade_id": "cell-3f85d178a02b960e",
     "locked": true,
     "schema_version": 3,
     "solution": false,
     "task": false
    },
    "tags": []
   },
   "source": [
    "### Axis"
   ]
  },
  {
   "cell_type": "code",
   "execution_count": null,
   "metadata": {
    "deletable": false,
    "editable": false,
    "nbgrader": {
     "cell_type": "code",
     "checksum": "acbb7ddf98eab2345cf5c37c27eebf26",
     "grade": false,
     "grade_id": "cell-b4efd21dc24d1084",
     "locked": true,
     "schema_version": 3,
     "solution": false,
     "task": false
    },
    "tags": []
   },
   "outputs": [],
   "source": [
    "a"
   ]
  },
  {
   "cell_type": "markdown",
   "metadata": {
    "deletable": false,
    "editable": false,
    "nbgrader": {
     "cell_type": "markdown",
     "checksum": "104fa90a0f52b09daca8f4c529edf0f3",
     "grade": false,
     "grade_id": "cell-b04adb92e162dd68",
     "locked": true,
     "schema_version": 3,
     "solution": false,
     "task": false
    },
    "tags": []
   },
   "source": [
    "#### axis = None"
   ]
  },
  {
   "cell_type": "markdown",
   "metadata": {
    "deletable": false,
    "editable": false,
    "nbgrader": {
     "cell_type": "markdown",
     "checksum": "2804065aa75fb64a0616fd0984651ab7",
     "grade": false,
     "grade_id": "cell-6281a06af491e1c0",
     "locked": true,
     "schema_version": 3,
     "solution": false,
     "task": false
    },
    "tags": []
   },
   "source": [
    "<div align=\"center\">\n",
    "    <figure >\n",
    "        <img src=\"images/axis0.png\" style=\"width:30%;padding:20px;align:center;display: block;margin-left: auto;margin-right: auto;\">\n",
    "    </figure>\n",
    "</div>"
   ]
  },
  {
   "cell_type": "code",
   "execution_count": null,
   "metadata": {
    "deletable": false,
    "editable": false,
    "nbgrader": {
     "cell_type": "code",
     "checksum": "44dbbd3fc9226ccc0cb34a153eb03c0c",
     "grade": false,
     "grade_id": "cell-e776ef2725326e8a",
     "locked": true,
     "schema_version": 3,
     "solution": false,
     "task": false
    },
    "tags": []
   },
   "outputs": [],
   "source": [
    "a.sum()"
   ]
  },
  {
   "cell_type": "markdown",
   "metadata": {
    "deletable": false,
    "editable": false,
    "nbgrader": {
     "cell_type": "markdown",
     "checksum": "d90ba3ccc65f85da67351c0d12cbbd8b",
     "grade": false,
     "grade_id": "cell-98ac834f846e02d3",
     "locked": true,
     "schema_version": 3,
     "solution": false,
     "task": false
    },
    "tags": []
   },
   "source": [
    "#### axis = 0"
   ]
  },
  {
   "cell_type": "markdown",
   "metadata": {
    "deletable": false,
    "editable": false,
    "nbgrader": {
     "cell_type": "markdown",
     "checksum": "dfd1d23a2dc54b713601ec68a1e882d9",
     "grade": false,
     "grade_id": "cell-49a148a96926038d",
     "locked": true,
     "schema_version": 3,
     "solution": false,
     "task": false
    },
    "tags": []
   },
   "source": [
    "<div align=\"center\">\n",
    "    <figure >\n",
    "        <img src=\"images/axis1.png\" style=\"width:30%;padding:20px;align:center;display: block;margin-left: auto;margin-right: auto;\">\n",
    "    </figure>\n",
    "</div>"
   ]
  },
  {
   "cell_type": "code",
   "execution_count": null,
   "metadata": {
    "deletable": false,
    "editable": false,
    "nbgrader": {
     "cell_type": "code",
     "checksum": "07e4ade8edc5c3c96bc02702d02e088b",
     "grade": false,
     "grade_id": "cell-1c20cb856c94c168",
     "locked": true,
     "schema_version": 3,
     "solution": false,
     "task": false
    },
    "tags": []
   },
   "outputs": [],
   "source": [
    "a.sum(axis=0)"
   ]
  },
  {
   "cell_type": "markdown",
   "metadata": {
    "deletable": false,
    "editable": false,
    "nbgrader": {
     "cell_type": "markdown",
     "checksum": "15949c0e7ae7544763b3c601340ea218",
     "grade": false,
     "grade_id": "cell-df91be3cd55f3c89",
     "locked": true,
     "schema_version": 3,
     "solution": false,
     "task": false
    },
    "tags": []
   },
   "source": [
    "#### axis = 1"
   ]
  },
  {
   "cell_type": "markdown",
   "metadata": {
    "deletable": false,
    "editable": false,
    "nbgrader": {
     "cell_type": "markdown",
     "checksum": "9e2dab03a02d086ee953e2f88e9a3bf3",
     "grade": false,
     "grade_id": "cell-8d95841b4747ce7f",
     "locked": true,
     "schema_version": 3,
     "solution": false,
     "task": false
    },
    "tags": []
   },
   "source": [
    "<div align=\"center\">\n",
    "    <figure >\n",
    "        <img src=\"images/axis2.png\" style=\"width:30%;padding:20px;align:center;display: block;margin-left: auto;margin-right: auto;\">\n",
    "    </figure>\n",
    "</div>"
   ]
  },
  {
   "cell_type": "code",
   "execution_count": null,
   "metadata": {
    "deletable": false,
    "editable": false,
    "nbgrader": {
     "cell_type": "code",
     "checksum": "96944bbdd08a5b8887ce3ef972cd8d73",
     "grade": false,
     "grade_id": "cell-1e1aa418a582f67a",
     "locked": true,
     "schema_version": 3,
     "solution": false,
     "task": false
    },
    "tags": []
   },
   "outputs": [],
   "source": [
    "a.sum(axis=1)"
   ]
  },
  {
   "cell_type": "markdown",
   "metadata": {
    "deletable": false,
    "editable": false,
    "nbgrader": {
     "cell_type": "markdown",
     "checksum": "c068537d6a0e1138cf8bdd2a1a64b437",
     "grade": false,
     "grade_id": "cell-b923929aaa4ef8b8",
     "locked": true,
     "schema_version": 3,
     "solution": false,
     "task": false
    },
    "tags": []
   },
   "source": [
    "## Matplotlib"
   ]
  },
  {
   "cell_type": "code",
   "execution_count": null,
   "metadata": {
    "deletable": false,
    "editable": false,
    "nbgrader": {
     "cell_type": "code",
     "checksum": "3ac6bfe9421dd12b67f635d657944e81",
     "grade": false,
     "grade_id": "cell-49ce74d202b913c6",
     "locked": true,
     "schema_version": 3,
     "solution": false,
     "task": false
    },
    "tags": []
   },
   "outputs": [],
   "source": [
    "import matplotlib.pyplot as plt\n",
    "plt.plot([1, 2, 3, 4], \n",
    "         [1, 4, 9, 16])\n",
    "plt.show()"
   ]
  }
 ],
 "metadata": {
  "kernelspec": {
   "display_name": "Python 3 (ipykernel)",
   "language": "python",
   "name": "python3"
  },
  "language_info": {
   "codemirror_mode": {
    "name": "ipython",
    "version": 3
   },
   "file_extension": ".py",
   "mimetype": "text/x-python",
   "name": "python",
   "nbconvert_exporter": "python",
   "pygments_lexer": "ipython3",
   "version": "3.9.7"
  }
 },
 "nbformat": 4,
 "nbformat_minor": 4
}
