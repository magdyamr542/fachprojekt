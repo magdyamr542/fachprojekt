{
 "cells": [
  {
   "cell_type": "markdown",
   "metadata": {
    "deletable": false,
    "editable": false,
    "nbgrader": {
     "cell_type": "markdown",
     "checksum": "d9d9fdc7f85b6e207774c3ad1f08631b",
     "grade": false,
     "grade_id": "cell-bddd385b98118b7a",
     "locked": true,
     "schema_version": 3,
     "solution": false,
     "task": false
    },
    "tags": []
   },
   "source": [
    "**Fachprojekt Dokumentenanalyse** *WS 22/23* -- *Philipp Oberdiek, Gernot A. Fink* -- *Technische Universität Dortmund, Lehrstuhl XII, Mustererkennung in eingebetteten Systemen*\n",
    "---\n",
    "# Einführung in Python\n",
    "\n",
    "In diesen Einführungsaufgaben sollen Sie sich mit den grundlegenden Eigenschaften und Funktionen von *Python* vertraut machen. Die Aufgaben sind dazu gedacht, Ihnen den Einstieg zu erleichtern."
   ]
  },
  {
   "cell_type": "markdown",
   "metadata": {
    "deletable": false,
    "editable": false,
    "nbgrader": {
     "cell_type": "markdown",
     "checksum": "ceb19e82e2e89955a0efe4e5e2739881",
     "grade": false,
     "grade_id": "cell-6bf104cbdd08c2a0",
     "locked": true,
     "schema_version": 3,
     "solution": false,
     "task": false
    },
    "tags": []
   },
   "source": [
    "### Imports\n",
    "_________\n",
    "\n",
    "Zuerst müssem wir die in dienem Skript benötigten Packages, Module, Klassen und Funktionen importieren. Der Python Interpreter durchsucht dazu alle Verzeichnisse im sogenannten `PYTHONPATH` (ist überlicherweise als Umgebungsvariable definiert). Da das Verzeichnis *patrec* mit dem *common* Package nicht darin steht, können wir dies auch im Code nachträglich dem Pfad hinzufügen. Anschließend können wir auch aus dem *common* Package importieren.\n",
    "\n",
    "Zu den normalen Python Imports sind werden im Folgenden auch sogenannte [magic commands](https://ipython.readthedocs.io/en/stable/interactive/magics.html) aufgerugen. Wir laden die Erweiterung *autoreload* und setzen den Modus *2*. Dies benötigen wir, damit IPython (welches von Jupyter verwendet wird) die importieren Module bei jeder Codeausführung neu lädt. Dies ist wichtig, wenn man nachträglich den Code einer importieren Klasse oder Methode verändert. Somit kann diese direkt aufgerufen werden, ohne dass diese vorher explizit neu importiert werden muss."
   ]
  },
  {
   "cell_type": "code",
   "execution_count": 6,
   "metadata": {
    "deletable": false,
    "editable": false,
    "nbgrader": {
     "cell_type": "code",
     "checksum": "7160696bdfa7f898f82dc2e780cd52c8",
     "grade": false,
     "grade_id": "cell-356df21545ff9338",
     "locked": true,
     "schema_version": 3,
     "solution": false,
     "task": false
    },
    "tags": []
   },
   "outputs": [
    {
     "name": "stdout",
     "output_type": "stream",
     "text": [
      "The autoreload extension is already loaded. To reload it, use:\n",
      "  %reload_ext autoreload\n"
     ]
    }
   ],
   "source": [
    "%load_ext autoreload\n",
    "%autoreload 2\n",
    "import sys\n",
    "\n",
    "# Uebergeordneten Ordner zum Pfad hinzufuegen, damit das common Package importiert werden kann\n",
    "if '..' not in sys.path:\n",
    "    sys.path.append('..')\n",
    "import numpy as np\n",
    "from common.python_intro_functions import RandomArrayGenerator"
   ]
  },
  {
   "cell_type": "markdown",
   "metadata": {
    "deletable": false,
    "editable": false,
    "nbgrader": {
     "cell_type": "markdown",
     "checksum": "6a813bd1c818417027082050d8c259ca",
     "grade": false,
     "grade_id": "cell-de0bc706294a3ade",
     "locked": true,
     "schema_version": 3,
     "solution": false,
     "task": false
    },
    "tags": []
   },
   "source": [
    "### I. Elementare Datenstrukturen\n",
    "_________"
   ]
  },
  {
   "cell_type": "markdown",
   "metadata": {
    "deletable": false,
    "editable": false,
    "jp-MarkdownHeadingCollapsed": true,
    "nbgrader": {
     "cell_type": "markdown",
     "checksum": "0e049aba7013458ffe0c8021d3338818",
     "grade": false,
     "grade_id": "cell-8e014e34cf74b247",
     "locked": true,
     "schema_version": 3,
     "solution": false,
     "task": false
    },
    "tags": []
   },
   "source": [
    "Variablen sind dynamisch getypt."
   ]
  },
  {
   "cell_type": "code",
   "execution_count": 7,
   "metadata": {
    "deletable": false,
    "editable": false,
    "nbgrader": {
     "cell_type": "code",
     "checksum": "0d9e10929309503c03f73904ecd716fe",
     "grade": false,
     "grade_id": "cell-98ddf57b9e24147a",
     "locked": true,
     "schema_version": 3,
     "solution": false,
     "task": false
    },
    "tags": []
   },
   "outputs": [
    {
     "name": "stdout",
     "output_type": "stream",
     "text": [
      "<class 'int'>\n",
      "<class 'float'>\n",
      "<class 'str'>\n"
     ]
    }
   ],
   "source": [
    "# Int\n",
    "variable = 1\n",
    "print(type(variable))\n",
    "    \n",
    "# Float\n",
    "variable = 1.0\n",
    "print(type(variable))\n",
    "    \n",
    "# string\n",
    "variable = '1.0'\n",
    "print(type(variable))"
   ]
  },
  {
   "cell_type": "markdown",
   "metadata": {
    "deletable": false,
    "editable": false,
    "nbgrader": {
     "cell_type": "markdown",
     "checksum": "959f1e8f1d64c20d347cdf27bffbccc8",
     "grade": false,
     "grade_id": "cell-06a7ac4505e9d1d6",
     "locked": true,
     "schema_version": 3,
     "solution": false,
     "task": false
    },
    "tags": []
   },
   "source": [
    "### II. Datenstrukturen für Sequenzen\n",
    "_______"
   ]
  },
  {
   "cell_type": "markdown",
   "metadata": {
    "deletable": false,
    "editable": false,
    "nbgrader": {
     "cell_type": "markdown",
     "checksum": "4d2c887f0469d79144b50fb60cc842a1",
     "grade": false,
     "grade_id": "cell-8cbea304c91bca2c",
     "locked": true,
     "schema_version": 3,
     "solution": false,
     "task": false
    },
    "tags": []
   },
   "source": [
    "#### Tuple"
   ]
  },
  {
   "cell_type": "code",
   "execution_count": 8,
   "metadata": {
    "deletable": false,
    "editable": false,
    "nbgrader": {
     "cell_type": "code",
     "checksum": "0aceb01018a1912908b2ddaac4eceaf0",
     "grade": false,
     "grade_id": "cell-07a422937062a292",
     "locked": true,
     "schema_version": 3,
     "solution": false,
     "task": false
    },
    "tags": []
   },
   "outputs": [
    {
     "name": "stdout",
     "output_type": "stream",
     "text": [
      "<class 'tuple'>\n"
     ]
    }
   ],
   "source": [
    "variable = (1, 1.0, '1.0')\n",
    "print(type(variable))"
   ]
  },
  {
   "cell_type": "markdown",
   "metadata": {
    "deletable": false,
    "editable": false,
    "nbgrader": {
     "cell_type": "markdown",
     "checksum": "416f1b15b713ed375f2bd92dc3d0f1a7",
     "grade": false,
     "grade_id": "cell-63f1da14b6ba8d93",
     "locked": true,
     "schema_version": 3,
     "solution": false,
     "task": false
    },
    "tags": []
   },
   "source": [
    "Überprüfen Sie, ob sich Objekte mit den Werten **42** oder **23** in dem *tuple* `variable` befinden. Verwenden Sie dazu *if-elif-else* Abfragen mit den [konditionalen Ausdrücken](https://docs.python.org/3/library/stdtypes.html#boolean-operations-and-or-not) `or`, [`in` oder `not in`](https://docs.python.org/3/library/stdtypes.html#sequence-types-list-tuple-range).\n",
    "Geben Sie das Ergebnis mit `print` auf der Konsole aus."
   ]
  },
  {
   "cell_type": "code",
   "execution_count": 10,
   "metadata": {
    "tags": []
   },
   "outputs": [
    {
     "data": {
      "text/plain": [
       "True"
      ]
     },
     "execution_count": 10,
     "metadata": {},
     "output_type": "execute_result"
    }
   ],
   "source": [
    "1.0 in variable"
   ]
  },
  {
   "cell_type": "markdown",
   "metadata": {
    "deletable": false,
    "editable": false,
    "nbgrader": {
     "cell_type": "markdown",
     "checksum": "459e1022117f336b6d5ec8935d475512",
     "grade": false,
     "grade_id": "cell-fe0ccd6a9bc77e68",
     "locked": true,
     "schema_version": 3,
     "solution": false,
     "task": false
    },
    "tags": []
   },
   "source": [
    "Wichtig: *string* und *tuple* sind nicht veränderbar (immutable). *tuple* eigenen sich somit sehr gut als Container zum übergeben/zurückgeben von Werten in/aus Funktionen."
   ]
  },
  {
   "cell_type": "code",
   "execution_count": 11,
   "metadata": {
    "deletable": false,
    "editable": false,
    "nbgrader": {
     "cell_type": "code",
     "checksum": "f4946c4a7cf3a52782c3d7e0c09a806a",
     "grade": false,
     "grade_id": "cell-7a735eae2346859e",
     "locked": true,
     "schema_version": 3,
     "solution": false,
     "task": false
    },
    "tags": []
   },
   "outputs": [
    {
     "name": "stdout",
     "output_type": "stream",
     "text": [
      "Damit haben wir gerechnet...\n",
      "'tuple' object does not support item assignment\n"
     ]
    }
   ],
   "source": [
    "try:\n",
    "    variable[0] = 2\n",
    "except TypeError as err:\n",
    "    print('Damit haben wir gerechnet...')\n",
    "    print(err)"
   ]
  },
  {
   "cell_type": "markdown",
   "metadata": {
    "deletable": false,
    "editable": false,
    "nbgrader": {
     "cell_type": "markdown",
     "checksum": "fc16067d8d24616b0ef737f8e314dba9",
     "grade": false,
     "grade_id": "cell-6666d26dc8c1a63f",
     "locked": true,
     "schema_version": 3,
     "solution": false,
     "task": false
    },
    "tags": []
   },
   "source": [
    "Warum ist das ein Vorteil?\n",
    "\n",
    "**Antwort:**"
   ]
  },
  {
   "cell_type": "markdown",
   "metadata": {
    "tags": []
   },
   "source": []
  },
  {
   "cell_type": "markdown",
   "metadata": {
    "deletable": false,
    "editable": false,
    "nbgrader": {
     "cell_type": "markdown",
     "checksum": "d489c3949bd166bf40f7543be12cd120",
     "grade": false,
     "grade_id": "cell-419542fce7680915",
     "locked": true,
     "schema_version": 3,
     "solution": false,
     "task": false
    },
    "tags": []
   },
   "source": [
    "#### Listen"
   ]
  },
  {
   "cell_type": "markdown",
   "metadata": {
    "deletable": false,
    "editable": false,
    "nbgrader": {
     "cell_type": "markdown",
     "checksum": "c9fc868905993e7eab7731d1d1e416a3",
     "grade": false,
     "grade_id": "cell-f0db61a1ce47036f",
     "locked": true,
     "schema_version": 3,
     "solution": false,
     "task": false
    },
    "tags": []
   },
   "source": [
    "Im Gegensatz zu tuple ist der list Datentyp veränderbar (mutable)."
   ]
  },
  {
   "cell_type": "code",
   "execution_count": 12,
   "metadata": {
    "deletable": false,
    "editable": false,
    "nbgrader": {
     "cell_type": "code",
     "checksum": "be60352a65e12a4a1e82de1fede3b763",
     "grade": false,
     "grade_id": "cell-444f901e9a033773",
     "locked": true,
     "schema_version": 3,
     "solution": false,
     "task": false
    },
    "tags": []
   },
   "outputs": [
    {
     "name": "stdout",
     "output_type": "stream",
     "text": [
      "<class 'list'>\n",
      "[2, 1.0, '1.0']\n"
     ]
    }
   ],
   "source": [
    "# list\n",
    "variable = [1, 1.0, '1.0'] \n",
    "print(type(variable))\n",
    "variable[0] = 2\n",
    "print(variable)"
   ]
  },
  {
   "cell_type": "markdown",
   "metadata": {
    "deletable": false,
    "editable": false,
    "nbgrader": {
     "cell_type": "markdown",
     "checksum": "7e325aa311257ebf91aae62a2cd3a4f3",
     "grade": false,
     "grade_id": "cell-4d52e6a07599e340",
     "locked": true,
     "schema_version": 3,
     "solution": false,
     "task": false
    },
    "tags": []
   },
   "source": [
    "Machen Sie sich mit Zugriffsmethoden fuer list / tuple Objekte vertraut. Dazu verwenden wir eine etwas längere Liste.  \n",
    "Mit [list](https://docs.python.org/3/library/functions.html#func-list)([range](https://docs.python.org/3/library/functions.html#range)()) kann eine fortlaufende Liste von int Objekten erzeugt werden.\n",
    "        \n",
    "\n"
   ]
  },
  {
   "cell_type": "code",
   "execution_count": 13,
   "metadata": {
    "deletable": false,
    "editable": false,
    "nbgrader": {
     "cell_type": "code",
     "checksum": "cfe082771813544a23d1b4defc1366f1",
     "grade": false,
     "grade_id": "cell-6db71b642d636026",
     "locked": true,
     "schema_version": 3,
     "solution": false,
     "task": false
    },
    "tags": []
   },
   "outputs": [
    {
     "name": "stdout",
     "output_type": "stream",
     "text": [
      "[10, 12, 14, 16, 18, 20, 22, 24, 26, 28, 30, 32]\n"
     ]
    }
   ],
   "source": [
    "test_list = list(range(10, 33, 2))\n",
    "print(test_list)"
   ]
  },
  {
   "cell_type": "markdown",
   "metadata": {
    "deletable": false,
    "editable": false,
    "nbgrader": {
     "cell_type": "markdown",
     "checksum": "e6f8da6eb8b2ea1596a5b22b4e1ecc9f",
     "grade": false,
     "grade_id": "cell-8109048aa97ba728",
     "locked": true,
     "schema_version": 3,
     "solution": false,
     "task": false
    },
    "tags": []
   },
   "source": [
    "Bestimmen Sie die Anzahl von Elementen in der Liste mit [`len`](https://docs.python.org/3/library/functions.html#len):"
   ]
  },
  {
   "cell_type": "code",
   "execution_count": null,
   "metadata": {
    "tags": []
   },
   "outputs": [],
   "source": []
  },
  {
   "cell_type": "markdown",
   "metadata": {
    "deletable": false,
    "editable": false,
    "nbgrader": {
     "cell_type": "markdown",
     "checksum": "5ba47e832988f804c3f49673eb1847a7",
     "grade": false,
     "grade_id": "cell-ba54bcafe7594817",
     "locked": true,
     "schema_version": 3,
     "solution": false,
     "task": false
    },
    "tags": []
   },
   "source": [
    "Geben Sie:\n",
    "\n",
    "- das erste, letzte und vorletzte Element\n",
    "- das erste, zweite und letzte Drittel \n",
    "\n",
    "mit Hilfe von [list slicing](https://docs.python.org/3/tutorial/introduction.html#lists) aus. Auf das letzte Element greifen Sie mit -1 zu.<br>\n",
    "Achten Sie auf den Datentyp, den sie bei der Berechnung der Indexposition verwenden. Verwenden Sie [`int()`](https://docs.python.org/3/library/functions.html#int), [`float()`](https://docs.python.org/3/library/functions.html#float) für Typecasts."
   ]
  },
  {
   "cell_type": "markdown",
   "metadata": {
    "deletable": false,
    "editable": false,
    "nbgrader": {
     "cell_type": "markdown",
     "checksum": "baf98a2bca553feb110943a966f8401d",
     "grade": false,
     "grade_id": "cell-a977545dfc61c50e",
     "locked": true,
     "schema_version": 3,
     "solution": false,
     "task": false
    },
    "tags": []
   },
   "source": [
    "Zugriff auf der erste, letze, letzte und vorletzte Element"
   ]
  },
  {
   "cell_type": "code",
   "execution_count": 16,
   "metadata": {
    "tags": []
   },
   "outputs": [
    {
     "name": "stdout",
     "output_type": "stream",
     "text": [
      "10\n",
      "32\n",
      "[26, 28, 30, 32]\n"
     ]
    }
   ],
   "source": [
    "print(test_list[0])\n",
    "print(test_list[-1])\n",
    "print(test_list[-4:])"
   ]
  },
  {
   "cell_type": "markdown",
   "metadata": {
    "deletable": false,
    "editable": false,
    "nbgrader": {
     "cell_type": "markdown",
     "checksum": "9fe404ce4697bcf74e5b986043f4ed8a",
     "grade": false,
     "grade_id": "cell-ed44bd519f08de6c",
     "locked": true,
     "schema_version": 3,
     "solution": false,
     "task": false
    },
    "tags": []
   },
   "source": [
    "Zugriff auf die Drittel"
   ]
  },
  {
   "cell_type": "code",
   "execution_count": null,
   "metadata": {
    "tags": []
   },
   "outputs": [],
   "source": []
  },
  {
   "cell_type": "markdown",
   "metadata": {
    "deletable": false,
    "editable": false,
    "nbgrader": {
     "cell_type": "markdown",
     "checksum": "b4055ca56489ab14e3d664ca41fff1c6",
     "grade": false,
     "grade_id": "cell-42383c4a5a379492",
     "locked": true,
     "schema_version": 3,
     "solution": false,
     "task": false
    },
    "tags": []
   },
   "source": [
    "### Schleifen"
   ]
  },
  {
   "cell_type": "markdown",
   "metadata": {
    "deletable": false,
    "editable": false,
    "nbgrader": {
     "cell_type": "markdown",
     "checksum": "1c2943e9d69f30f0780d221e11be4ff3",
     "grade": false,
     "grade_id": "cell-43519c882f402475",
     "locked": true,
     "schema_version": 3,
     "solution": false,
     "task": false
    },
    "tags": []
   },
   "source": [
    "Wenn Sie mit einzelnen Elementen eines list / tuple Objekts arbeiten, können Sie eine [for Schleife](https://docs.python.org/3/tutorial/controlflow.html#for-statements) verwenden.<br>\n",
    "Geben Sie die Elemente von test_list einzeln in einer for-Schleife aus.<br>\n",
    "Wenn Sie zusätzlich mit dem Index eines Elements arbeiten wollen verwenden Sie [`enumerate()`](https://docs.python.org/3/library/functions.html#enumerate)."
   ]
  },
  {
   "cell_type": "code",
   "execution_count": null,
   "metadata": {
    "pycharm": {
     "name": "#%%\n"
    },
    "tags": []
   },
   "outputs": [],
   "source": []
  },
  {
   "cell_type": "markdown",
   "metadata": {
    "deletable": false,
    "editable": false,
    "nbgrader": {
     "cell_type": "markdown",
     "checksum": "3647ab4956c5f3d05f9569392db65e08",
     "grade": false,
     "grade_id": "cell-82781ea3e2b4e975",
     "locked": true,
     "schema_version": 3,
     "solution": false,
     "task": false
    },
    "tags": []
   },
   "source": [
    "Geben Sie in der Schleife zu jedem Element noch dessen Index aus."
   ]
  },
  {
   "cell_type": "code",
   "execution_count": null,
   "metadata": {
    "tags": []
   },
   "outputs": [],
   "source": []
  },
  {
   "cell_type": "markdown",
   "metadata": {
    "deletable": false,
    "editable": false,
    "nbgrader": {
     "cell_type": "markdown",
     "checksum": "22023bb01578f0443585acd76ee58050",
     "grade": false,
     "grade_id": "cell-1c29d7a48f34b089",
     "locked": true,
     "schema_version": 3,
     "solution": false,
     "task": false
    },
    "tags": []
   },
   "source": [
    "### III. Komplexere Operationen auf Sequenzen\n",
    "_________"
   ]
  },
  {
   "cell_type": "markdown",
   "metadata": {
    "deletable": false,
    "editable": false,
    "nbgrader": {
     "cell_type": "markdown",
     "checksum": "a200d0401364f155766da912aee0bc24",
     "grade": false,
     "grade_id": "cell-4625530d985e2076",
     "locked": true,
     "schema_version": 3,
     "solution": false,
     "task": false
    },
    "tags": []
   },
   "source": [
    "Kommen wir nun noch einmal zu dem initialen Beispiel zurueck."
   ]
  },
  {
   "cell_type": "code",
   "execution_count": null,
   "metadata": {
    "deletable": false,
    "editable": false,
    "nbgrader": {
     "cell_type": "code",
     "checksum": "47c381d0810f28a90ab0c30a27d35ae8",
     "grade": false,
     "grade_id": "cell-480af453529729d3",
     "locked": true,
     "schema_version": 3,
     "solution": false,
     "task": false
    },
    "tags": []
   },
   "outputs": [],
   "source": [
    "test_list = [1, 1.0, '1.0']"
   ]
  },
  {
   "cell_type": "markdown",
   "metadata": {
    "deletable": false,
    "editable": false,
    "nbgrader": {
     "cell_type": "markdown",
     "checksum": "5a246b5e5d110f7de4c56dba746221ef",
     "grade": false,
     "grade_id": "cell-c0ce16872426b66e",
     "locked": true,
     "schema_version": 3,
     "solution": false,
     "task": false
    },
    "tags": []
   },
   "source": [
    "Geben Sie nun den Inhalt des list Objekts in folgender Form in der Konsole aus: `[ <type: value>, ... ]`. Also konkret für unser Beispiel: `[ <int: 1>, <float: 1.0>, <string, 1.0> ]`. Verwenden Sie dazu eine for Schleife und die Methoden [`type(obj).__name__`](https://docs.python.org/3/library/functions.html#type) und [`str()`](https://docs.python.org/3/library/functions.html#func-str).\n",
    "    \n",
    "Konstruieren Sie einen string, den Sie am Ende ausgeben. Zwei strings lassen sich mit `+` konkatenieren. \n",
    "SEHR SCHLECHTER STIL (siehe unten)."
   ]
  },
  {
   "cell_type": "code",
   "execution_count": 20,
   "metadata": {
    "tags": []
   },
   "outputs": [
    {
     "data": {
      "text/plain": [
       "['<int:10>',\n",
       " '<int:12>',\n",
       " '<int:14>',\n",
       " '<int:16>',\n",
       " '<int:18>',\n",
       " '<int:20>',\n",
       " '<int:22>',\n",
       " '<int:24>',\n",
       " '<int:26>',\n",
       " '<int:28>',\n",
       " '<int:30>',\n",
       " '<int:32>']"
      ]
     },
     "execution_count": 20,
     "metadata": {},
     "output_type": "execute_result"
    }
   ],
   "source": [
    "[ f\"<{type(ele).__name__}:{ele}>\" for ele in test_list]"
   ]
  },
  {
   "cell_type": "markdown",
   "metadata": {
    "deletable": false,
    "editable": false,
    "nbgrader": {
     "cell_type": "markdown",
     "checksum": "d45d3a8e3b1addf0db9157c9a197b997",
     "grade": false,
     "grade_id": "cell-a56bb2b8ff24569e",
     "locked": true,
     "schema_version": 3,
     "solution": false,
     "task": false
    },
    "tags": []
   },
   "source": [
    "Leider ist das Konkatenieren von strings mit `+` sehr ineffizient. Da strings nicht veränderbar sind (immutable), muss jedesmal neuer Speicher reserviert werden und der Inhalt des alten Speichers kopiert werden.  \n",
    "Stattdessen verfügen strings über eine [`join()`](https://docs.python.org/3/library/string.html#string.join) Funktion. Dieser übergibt man die zu konkatenierenden strings als Sequenz (z.B. tuple oder list).  \n",
    "Da wir unsere Datenstruktur iterativ aufbauen wollen und tuple nach der Erzeugung nicht veränderbar sind, verwenden wir eine [Liste](https://docs.python.org/3/tutorial/introduction.html#lists \"Python List tutorial\").\n",
    "\n",
    "Ein einfache und effiziente Methode strings zu formatieren bietet der [%-Operator](https://docs.python.org/3/library/stdtypes.html#old-string-formatting) für strings. Beispeil:  \n",
    "`type_val_str = '<%s, %s>' % (obj_type.__name__, obj)`\n",
    "\n",
    "Alternativ können strings auch mit der [`format()`](https://docs.python.org/3/tutorial/inputoutput.html#the-string-format-method) Funktion formatiert werden. Beispiel:  \n",
    "`type_val_str = '<{}: {}>'.format(obj_type.__name__, obj)`\n",
    "\n",
    "Auf diese Weise lässt sich der `+` Operator zur Konkatenation von strings komplett vermeiden."
   ]
  },
  {
   "cell_type": "code",
   "execution_count": null,
   "metadata": {
    "tags": []
   },
   "outputs": [],
   "source": []
  },
  {
   "cell_type": "markdown",
   "metadata": {
    "deletable": false,
    "editable": false,
    "nbgrader": {
     "cell_type": "markdown",
     "checksum": "705a2c5b1d109791c27f1b87a6f3d616",
     "grade": false,
     "grade_id": "cell-349ae4997c0615b3",
     "locked": true,
     "schema_version": 3,
     "solution": false,
     "task": false
    },
    "tags": []
   },
   "source": [
    "### IV. List Comprehensions\n",
    "_________"
   ]
  },
  {
   "cell_type": "markdown",
   "metadata": {
    "deletable": false,
    "editable": false,
    "nbgrader": {
     "cell_type": "markdown",
     "checksum": "7f46c587cce25b3ff8e6b8c3a7ca40ea",
     "grade": false,
     "grade_id": "cell-e38fdfe38588c002",
     "locked": true,
     "schema_version": 3,
     "solution": false,
     "task": false
    },
    "tags": []
   },
   "source": [
    "Eine effiziente und sehr mächtige Methode zum Generieren von Listen sind [list comprehensions](https://docs.python.org/3/tutorial/datastructures.html#list-comprehensions).\n",
    "\n",
    "Erstellen Sie gemäß des vorherigen Beispiels eine Liste mit Typenamen für die Elemente in *test_list*. "
   ]
  },
  {
   "cell_type": "code",
   "execution_count": null,
   "metadata": {
    "tags": []
   },
   "outputs": [],
   "source": []
  },
  {
   "cell_type": "markdown",
   "metadata": {
    "deletable": false,
    "editable": false,
    "nbgrader": {
     "cell_type": "markdown",
     "checksum": "404680dce95b9ad9114743c933503c71",
     "grade": false,
     "grade_id": "cell-76ab681007422e4e",
     "locked": true,
     "schema_version": 3,
     "solution": false,
     "task": false
    },
    "tags": []
   },
   "source": [
    "Verwenden Sie dann die [`zip()`](https://docs.python.org/3/library/functions.html#zip) Methode, um eine Liste von tuple Ojekten der Form `[(type_name,obj),...]` zu erhalten."
   ]
  },
  {
   "cell_type": "code",
   "execution_count": 23,
   "metadata": {
    "tags": []
   },
   "outputs": [
    {
     "name": "stdout",
     "output_type": "stream",
     "text": [
      "[('<int:10>',), ('<int:12>',), ('<int:14>',), ('<int:16>',), ('<int:18>',), ('<int:20>',), ('<int:22>',), ('<int:24>',), ('<int:26>',), ('<int:28>',), ('<int:30>',), ('<int:32>',)]\n"
     ]
    }
   ],
   "source": [
    "new_list = [ f\"<{type(ele).__name__}:{ele}>\" for ele in test_list]\n",
    "print(list(zip(new_list)))"
   ]
  },
  {
   "cell_type": "markdown",
   "metadata": {
    "deletable": false,
    "editable": false,
    "nbgrader": {
     "cell_type": "markdown",
     "checksum": "91c12291576ce4b51223365fce9ba72e",
     "grade": false,
     "grade_id": "cell-39a6c9e7897e0331",
     "locked": true,
     "schema_version": 3,
     "solution": false,
     "task": false
    },
    "tags": []
   },
   "source": [
    "Verwenden Sie diese Liste mit einer list comprehension, um wieder eine Liste von strings der Form \n",
    "`<obj_type_name, obj>` zu erzeugen. Das Ergebnis können Sie dann wieder mit `string.join()` ausgeben."
   ]
  },
  {
   "cell_type": "code",
   "execution_count": null,
   "metadata": {
    "tags": []
   },
   "outputs": [],
   "source": []
  },
  {
   "cell_type": "markdown",
   "metadata": {
    "deletable": false,
    "editable": false,
    "nbgrader": {
     "cell_type": "markdown",
     "checksum": "f590da83c2c2e464bcac6257afb6192a",
     "grade": false,
     "grade_id": "cell-31e25cb94349eebc",
     "locked": true,
     "schema_version": 3,
     "solution": false,
     "task": false
    },
    "tags": []
   },
   "source": [
    "### V. Dictionaries\n",
    "_________"
   ]
  },
  {
   "cell_type": "markdown",
   "metadata": {
    "deletable": false,
    "editable": false,
    "nbgrader": {
     "cell_type": "markdown",
     "checksum": "5624d82eb15664bde8a9a520e58e0b33",
     "grade": false,
     "grade_id": "cell-9beb9c3b63c33735",
     "locked": true,
     "schema_version": 3,
     "solution": false,
     "task": false
    },
    "tags": []
   },
   "source": [
    "Für die folgenden Aufgaben benötigen wir eine Klasse welche uns Zufallszahlen erzeugt. Dazu haben wir zuvor die Klasse `RandomArrayGenerator` aus dem Modul [common.python_intro_functions](../common/python_intro_functions.py) importiert. Schauen Sie sich bei der Gelegenheit [objektorientierte Konzepte](https://docs.python.org/3/tutorial/classes.html) in Python an. Schauen Sie sich dabei auch [Default-Argumente](https://docs.python.org/3/tutorial/controlflow.html#default-argument-values) an.\n",
    "\n",
    "Nun schauen wir uns den [dict](https://docs.python.org/3/tutorial/datastructures.html#dictionaries) Datentyp an. Dabei handelt es sich um Hashmaps, die von einem Schlüssel Objekt auf ein Wert Objekt abbilden.\n",
    "\n",
    "Gegeben sei die folgende zufällig erzeugte Liste. Beim Funktionsaufruf wurden [Keyword-Argumente](https://docs.python.org/3/tutorial/controlflow.html#keyword-arguments) verwendet."
   ]
  },
  {
   "cell_type": "code",
   "execution_count": 35,
   "metadata": {
    "deletable": false,
    "editable": false,
    "nbgrader": {
     "cell_type": "code",
     "checksum": "9932a2869a03d6921e97cda81b58db72",
     "grade": false,
     "grade_id": "cell-0725b6ed7d4421d8",
     "locked": true,
     "schema_version": 3,
     "solution": false,
     "task": false
    },
    "tags": []
   },
   "outputs": [
    {
     "data": {
      "text/plain": [
       "[14.477531425834911,\n",
       " 20.127775577571306,\n",
       " 19.54430703981003,\n",
       " 19.213172900902673,\n",
       " 25.174348142607236,\n",
       " 28.27389147810107,\n",
       " 15.280323080154087,\n",
       " 19.630114631383478,\n",
       " 19.57765788136243,\n",
       " 23.36301612812457,\n",
       " 7.925492458050851,\n",
       " 22.74892524234474,\n",
       " 29.85266109057342,\n",
       " 11.835920782850598,\n",
       " 16.41531575572247,\n",
       " 23.920144663557142,\n",
       " 20.147811647545616,\n",
       " 23.58894887037309,\n",
       " 13.964415202433216,\n",
       " 27.349405482267656]"
      ]
     },
     "execution_count": 35,
     "metadata": {},
     "output_type": "execute_result"
    }
   ],
   "source": [
    "rand_arr_gen = RandomArrayGenerator()\n",
    "rand_arr = rand_arr_gen.rand_gauss(arr_shape=(20,), mean=20, std_deviation=5)\n",
    "rand_list = list(rand_arr)\n",
    "rand_list"
   ]
  },
  {
   "cell_type": "markdown",
   "metadata": {
    "deletable": false,
    "editable": false,
    "nbgrader": {
     "cell_type": "markdown",
     "checksum": "c2be31f6ffbd622eb435303bb2eb62fe",
     "grade": false,
     "grade_id": "cell-332afdd94860c775",
     "locked": true,
     "schema_version": 3,
     "solution": false,
     "task": false
    },
    "tags": []
   },
   "source": [
    "Verwenden Sie nun eine list comprehension, um die Elemente der Liste rand_list ganzzahlig zu [runden](https://docs.python.org/3/library/functions.html#round) und \n",
    "zu einem [int zu konvertieren](https://docs.python.org/3/library/functions.html#int)."
   ]
  },
  {
   "cell_type": "code",
   "execution_count": 38,
   "metadata": {
    "tags": []
   },
   "outputs": [
    {
     "name": "stdout",
     "output_type": "stream",
     "text": [
      "[<class 'int'>, <class 'int'>, <class 'int'>, <class 'int'>, <class 'int'>, <class 'int'>, <class 'int'>, <class 'int'>, <class 'int'>, <class 'int'>, <class 'int'>, <class 'int'>, <class 'int'>, <class 'int'>, <class 'int'>, <class 'int'>, <class 'int'>, <class 'int'>, <class 'int'>, <class 'int'>]\n"
     ]
    }
   ],
   "source": [
    "rounded_list = [round(num) for num in rand_list]\n",
    "rounded_list_types = [type(num) for num in rounded_list]\n",
    "print(rounded_list_types)"
   ]
  },
  {
   "cell_type": "markdown",
   "metadata": {
    "deletable": false,
    "editable": false,
    "nbgrader": {
     "cell_type": "markdown",
     "checksum": "d839255dd317dcb8ddf7f91be3699a3b",
     "grade": false,
     "grade_id": "cell-89cb3fdc3ebd2512",
     "locked": true,
     "schema_version": 3,
     "solution": false,
     "task": false
    },
    "tags": []
   },
   "source": [
    "Verwenden Sie dann ein dict Object, um zu zählen wie oft jeder int in der Liste auftritt.\n",
    "Als Schlüssel verwenden Sie dabei den int, als Wert die entsprechende Anzahl.\n",
    "Sie bestimmen also ein Histogramm, das die empirische Verteilung der Daten darstellt."
   ]
  },
  {
   "cell_type": "code",
   "execution_count": 39,
   "metadata": {
    "deletable": false,
    "editable": false,
    "nbgrader": {
     "cell_type": "code",
     "checksum": "73a0dd4fa414face8bf17a84fd12fb49",
     "grade": false,
     "grade_id": "cell-891207b6dc9ee2d9",
     "locked": true,
     "schema_version": 3,
     "solution": false,
     "task": false
    },
    "tags": []
   },
   "outputs": [
    {
     "name": "stdout",
     "output_type": "stream",
     "text": [
      "<class 'dict'>\n"
     ]
    }
   ],
   "source": [
    "hist = {}\n",
    "print(type(hist))"
   ]
  },
  {
   "cell_type": "code",
   "execution_count": 42,
   "metadata": {
    "tags": []
   },
   "outputs": [
    {
     "name": "stdout",
     "output_type": "stream",
     "text": [
      "{14: 6, 20: 15, 19: 3, 25: 3, 28: 3, 15: 3, 23: 6, 8: 3, 30: 3, 12: 3, 16: 3, 24: 6, 27: 3}\n"
     ]
    }
   ],
   "source": [
    "for num in rounded_list:\n",
    "\tif hist.get(num , None):\n",
    "\t\thist[num] += 1\n",
    "\telse:\n",
    "\t\thist[num] = 1\n",
    "print(hist)"
   ]
  },
  {
   "cell_type": "markdown",
   "metadata": {
    "deletable": false,
    "editable": false,
    "nbgrader": {
     "cell_type": "markdown",
     "checksum": "410bf3363595170fc9304a7206f0d4be",
     "grade": false,
     "grade_id": "cell-8da84c8d65f9308c",
     "locked": true,
     "schema_version": 3,
     "solution": false,
     "task": false
    },
    "tags": []
   },
   "source": [
    "Geben Sie anschließend das dict Objekt nach Schlüssel sortiert in der Konsole aus. \n",
    "Verwenden Sie die [`sorted()`](https://docs.python.org/3/howto/sorting.html#sortinghowto) Methode."
   ]
  },
  {
   "cell_type": "code",
   "execution_count": 44,
   "metadata": {
    "tags": []
   },
   "outputs": [
    {
     "name": "stdout",
     "output_type": "stream",
     "text": [
      "[8, 12, 14, 15, 16, 19, 20, 23, 24, 25, 27, 28, 30]\n"
     ]
    }
   ],
   "source": [
    "print(sorted(hist))"
   ]
  },
  {
   "cell_type": "markdown",
   "metadata": {
    "deletable": false,
    "editable": false,
    "nbgrader": {
     "cell_type": "markdown",
     "checksum": "f9d80c93728abf7021c00630264ff478",
     "grade": false,
     "grade_id": "cell-b37d86d5f69d8784",
     "locked": true,
     "schema_version": 3,
     "solution": false,
     "task": false
    },
    "tags": []
   },
   "source": [
    "**Optional:** Sehen Sie sich die Klasse [`collections.defaultdict`](https://docs.python.org/3/library/collections.html#defaultdict-objects) an. Wie kann der Code für die Histogrammberechnung durch die Verwendung eines defaultdicts vereinfacht werden?"
   ]
  },
  {
   "cell_type": "code",
   "execution_count": 53,
   "metadata": {
    "tags": []
   },
   "outputs": [
    {
     "name": "stdout",
     "output_type": "stream",
     "text": [
      "dict_items([(14, 2), (20, 5), (19, 1), (25, 1), (28, 1), (15, 1), (23, 2), (8, 1), (30, 1), (12, 1), (16, 1), (24, 2), (27, 1)])\n"
     ]
    }
   ],
   "source": [
    "from collections import defaultdict\n",
    "default_d = defaultdict(int)\n",
    "for num in rounded_list:\n",
    "\tdefault_d[num] += 1\n",
    "print(default_d.items())\n"
   ]
  },
  {
   "cell_type": "code",
   "execution_count": null,
   "metadata": {},
   "outputs": [],
   "source": []
  }
 ],
 "metadata": {
  "kernelspec": {
   "display_name": "Python 3.10.6 ('venv': venv)",
   "language": "python",
   "name": "python3"
  },
  "language_info": {
   "codemirror_mode": {
    "name": "ipython",
    "version": 3
   },
   "file_extension": ".py",
   "mimetype": "text/x-python",
   "name": "python",
   "nbconvert_exporter": "python",
   "pygments_lexer": "ipython3",
   "version": "3.10.6"
  },
  "vscode": {
   "interpreter": {
    "hash": "fc08c6a171b6838a188e3c3554b8e7e943075d7bc2272df6fd278e6ba9dfd998"
   }
  }
 },
 "nbformat": 4,
 "nbformat_minor": 4
}
