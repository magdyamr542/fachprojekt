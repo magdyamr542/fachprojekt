{
 "cells": [
  {
   "cell_type": "markdown",
   "metadata": {
    "deletable": false,
    "editable": false,
    "nbgrader": {
     "cell_type": "markdown",
     "checksum": "2443ab094d5b166a05dc64e1f68f4afe",
     "grade": false,
     "grade_id": "cell-167675742f4ab308",
     "locked": true,
     "schema_version": 3,
     "solution": false,
     "task": false
    },
    "pycharm": {
     "name": "#%% md\n"
    },
    "tags": []
   },
   "source": [
    "**Fachprojekt Dokumentenanalyse** *WS 22/23* -- *Philipp Oberdiek, Gernot A. Fink* -- *Technische Universität Dortmund, Lehrstuhl XII, Mustererkennung in eingebetteten Systemen*\n",
    "---\n",
    "# Aufgabe 3: Kreuzvalidierung, Term Weighting\n",
    "\n",
    "\n",
    "Um eine willkürliche Aufteilung der Daten in Training und Test zu vermeiden (machen Sie sich bewusst warum das problematisch ist), verwendet man zur Evaluierung von Klassifikatoren eine Kreuzvalidierung. Dabei wird der gesamte Datensatz in k disjunkte Ausschnitte (Folds) aufgeteilt. Jeder dieser Ausschnitte wird einmal als Test Datensatz verwendet, während alle anderen k-1 Ausschnitte als Trainings Datensatz verwendet werden. Man erhählt also k Gesamtfehlerraten und k klassenspezifische Fehlerraten die man jeweils zu einer gemeinsamen Fehlerrate für die gesamte Kreuzvalidierung mittelt. Beachten Sie, dass dabei ein gewichtetes Mittel gebildet werden muss, da die einzelnen Test Folds nicht unbedingt gleich groß sein müssen.\n",
    "\n",
    "Erweitern Sie ihre Implementierung des Nächste-Nachbar Klassifikators auf mehrere Nachbarn. Führen Sie aufbauend auf den Ergebnissen aus Aufgabe 2 eine 5-Fold Kreuzvalidierung für den k-Nächste-Nachbarn Klassifikator auf dem Brown Corpus durch. Dazu können Sie die Klasse `CrossValidation` im [`evaluation`](../common/evaluation.py) Modul verwenden.\n",
    "\n",
    "Vollziehen Sie dazu nach wie die Klasse die Daten in Trainging und Test Folds aufteilt. Fertigen Sie zu dem Schema eine Skizze an. Diskutieren Sie Vorteile und Nachteile. Schauen Sie sich an, wie die eigentliche Kreuzvalidierung funktioniert.\n",
    "\n",
    "**Hinweise:**\n",
    "\n",
    "Die Klasse `CrossValidator` verwendet die Klasse `ClassificationEvaluator`, die Sie schon für Aufgabe 2 implementieren sollten. Kontrollieren Sie Ihre Umsetzung im Sinne der Verwendung im `CrossValidator`."
   ]
  },
  {
   "cell_type": "code",
   "execution_count": 3,
   "metadata": {
    "deletable": false,
    "editable": false,
    "jupyter": {
     "outputs_hidden": false
    },
    "nbgrader": {
     "cell_type": "code",
     "checksum": "15a410736b46163169ff91fa5e893a5f",
     "grade": false,
     "grade_id": "cell-40f404bc4da71f90",
     "locked": true,
     "schema_version": 3,
     "solution": false,
     "task": false
    },
    "pycharm": {
     "name": "#%%\n"
    },
    "tags": []
   },
   "outputs": [
    {
     "name": "stdout",
     "output_type": "stream",
     "text": [
      "The autoreload extension is already loaded. To reload it, use:\n",
      "  %reload_ext autoreload\n"
     ]
    }
   ],
   "source": [
    "%load_ext autoreload\n",
    "%autoreload 2\n",
    "%matplotlib widget\n",
    "\n",
    "import sys\n",
    "\n",
    "if \"..\" not in sys.path:\n",
    "    sys.path.append(\"..\")\n",
    "\n",
    "from common.corpus import CorpusLoader\n",
    "brown = CorpusLoader.brown_corpus()"
   ]
  },
  {
   "cell_type": "markdown",
   "metadata": {
    "deletable": false,
    "editable": false,
    "nbgrader": {
     "cell_type": "markdown",
     "checksum": "ed3b8f831f4ab706f2097283d33f1064",
     "grade": false,
     "grade_id": "cell-52e456ac5ee4fce3",
     "locked": true,
     "schema_version": 3,
     "solution": false,
     "task": false
    },
    "pycharm": {
     "name": "#%% md\n"
    },
    "tags": []
   },
   "source": [
    "Testen Sie ihre Implementierung des erweiterten Nächste-Nachbar Klassifikators mit folgendem Unittest:"
   ]
  },
  {
   "cell_type": "code",
   "execution_count": 4,
   "metadata": {
    "deletable": false,
    "editable": false,
    "jupyter": {
     "outputs_hidden": false
    },
    "nbgrader": {
     "cell_type": "code",
     "checksum": "aec38845bdbf43a2209e787e98133636",
     "grade": false,
     "grade_id": "cell-fa28f0e5ec358438",
     "locked": true,
     "schema_version": 3,
     "solution": false,
     "task": false
    },
    "pycharm": {
     "name": "#%%\n"
    },
    "tags": []
   },
   "outputs": [
    {
     "name": "stderr",
     "output_type": "stream",
     "text": [
      "."
     ]
    },
    {
     "name": "stdout",
     "output_type": "stream",
     "text": [
      "knn_test\n"
     ]
    },
    {
     "name": "stderr",
     "output_type": "stream",
     "text": [
      "\n",
      "----------------------------------------------------------------------\n",
      "Ran 1 test in 0.001s\n",
      "\n",
      "OK\n"
     ]
    },
    {
     "data": {
      "text/plain": [
       "<unittest.runner.TextTestResult run=1 errors=0 failures=0>"
      ]
     },
     "execution_count": 4,
     "metadata": {},
     "output_type": "execute_result"
    }
   ],
   "source": [
    "import unittest\n",
    "\n",
    "from utest.test_classification import ClassificationTest\n",
    "\n",
    "suite = unittest.TestSuite()\n",
    "suite.addTest(ClassificationTest(\"test_knn\"))\n",
    "runner = unittest.TextTestRunner()\n",
    "runner.run(suite)"
   ]
  },
  {
   "cell_type": "code",
   "execution_count": 5,
   "metadata": {},
   "outputs": [],
   "source": [
    "from nltk.corpus import CategorizedCorpusReader\n",
    "\n",
    "brown : CategorizedCorpusReader = CorpusLoader.brown_corpus()\n",
    "brown_categories = brown.categories()\n",
    "brown_documents = brown.fileids()\n",
    "brown_words = brown.words()"
   ]
  },
  {
   "cell_type": "code",
   "execution_count": 6,
   "metadata": {},
   "outputs": [],
   "source": [
    "from common.features import BagOfWords, WordListNormalizer\n",
    "stop_words = CorpusLoader.stopwords_corpus()\n",
    "normalizer =  WordListNormalizer(stop_words)\n",
    "words , stemmed_words  = normalizer.normalize_words(brown_words)\n",
    "vocabulary = BagOfWords.most_freq_words(stemmed_words , 500)\n",
    "category_wordlists_dict = {}\n",
    "for category in brown_categories:\n",
    "\tcategory_wordlists_dict[category] = []\n",
    "\tdocs = brown.fileids(categories=category)\n",
    "\tfor doc in docs: \n",
    "\t\twords  = brown.words(fileids=doc)\n",
    "\t\tcategory_wordlists_dict[category].append(words)\n",
    "bow = BagOfWords(vocabulary)\n",
    "category_bow_dict = bow.category_bow_dict(category_wordlists_dict)"
   ]
  },
  {
   "cell_type": "code",
   "execution_count": 7,
   "metadata": {
    "jupyter": {
     "outputs_hidden": false
    },
    "pycharm": {
     "name": "#%%\n"
    }
   },
   "outputs": [],
   "source": [
    "from common.features import BagOfWords, WordListNormalizer\n",
    "from common.classification import KNNClassifier\n",
    "from common.evaluation import CrossValidation\n",
    "from common.visualization import hbar_plot\n",
    "\n",
    "def processCategoryBowDict(category_bow_dict):\n",
    "\tcv = CrossValidation(category_bow_dict , 5)\n",
    "\tknn_classifier = KNNClassifier(k_neighbors=3, metric='euclidean')\n",
    "\tcrossval_overall_result, crossval_class_results = cv.validate(knn_classifier)\n",
    "\tprint(\"cross val overall result\" , crossval_overall_result)\n",
    "\tcategories = [res[0] for res in crossval_class_results]\n",
    "\tcategories_results = [res[1] for res in crossval_class_results]\n",
    "\thbar_plot( categories_results , categories)\n",
    "\n"
   ]
  },
  {
   "cell_type": "code",
   "execution_count": 8,
   "metadata": {},
   "outputs": [
    {
     "name": "stdout",
     "output_type": "stream",
     "text": [
      "cross val overall result 74.60000000000001\n"
     ]
    },
    {
     "data": {
      "application/vnd.jupyter.widget-view+json": {
       "model_id": "4ae20eb734a54c88b5bcb593ba05f59f",
       "version_major": 2,
       "version_minor": 0
      },
      "image/png": "[encoded data removed]",
      "text/html": [
       "\n",
       "            <div style=\"display: inline-block;\">\n",
       "                <div class=\"jupyter-widgets widget-label\" style=\"text-align: center;\">\n",
       "                    Figure\n",
       "                </div>\n",
       "                <img src='data:image/png;base64,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' width=640.0/>\n",
       "            </div>\n",
       "        "
      ],
      "text/plain": [
       "Canvas(toolbar=Toolbar(toolitems=[('Home', 'Reset original view', 'home', 'home'), ('Back', 'Back to previous …"
      ]
     },
     "metadata": {},
     "output_type": "display_data"
    }
   ],
   "source": [
    "processCategoryBowDict(category_bow_dict)"
   ]
  },
  {
   "cell_type": "markdown",
   "metadata": {
    "deletable": false,
    "editable": false,
    "nbgrader": {
     "cell_type": "markdown",
     "checksum": "fdc7dc9173af2ab66ae7aff68f60fe72",
     "grade": false,
     "grade_id": "cell-4db0aa8ddffc29a3",
     "locked": true,
     "schema_version": 3,
     "solution": false,
     "task": false
    },
    "pycharm": {
     "name": "#%% md\n"
    },
    "tags": []
   },
   "source": [
    "# Bag-of-Words Weighting\n",
    "\n",
    "Bisher enthalten die Bag-of-Words Histogramme absolute Frequenzen. Dadurch sind die Repräsentationen abhängig von der absoluten Anzahl von Wörtern in den Dokumenten. Dies kann vermieden werden, indem man die Bag-of-Words Histogramme mit einem Normalisierungsfaktor gewichtet.\n",
    "\n",
    "Normalisieren Sie die Bag-of-Words Histogramme so, dass relative Frequenzen verwendet werden. Implementieren und verwenden Sie die Klasse `RelativeTermFrequencies` im [`features`](../common/features.py) Modul.\n",
    "\n",
    "Wie erklären Sie das Ergebnis? Schauen Sie sich dazu noch einmal die mittlere Anzahl von Wörtern pro Dokument an (Aufgabe 2).\n",
    "\n",
    "Wie in der Literatur üblich, verwenden wir den Begriff des \"Term\". Ein Term bezeichnet ein Wort aus dem Vokabular über dem die Bag-of-Words Histogramme gebildet werden. Ein Bag-of-Words Histogramm wird daher auch als Term-Vektor bezeichnet."
   ]
  },
  {
   "cell_type": "code",
   "execution_count": null,
   "metadata": {
    "jupyter": {
     "outputs_hidden": false
    },
    "pycharm": {
     "name": "#%%\n"
    }
   },
   "outputs": [],
   "source": [
    "from common.features import RelativeTermFrequencies\n",
    "\n",
    "bow2 = BagOfWords(vocabulary, term_weighting=RelativeTermFrequencies())\n",
    "category_bow_dict2 = bow2.category_bow_dict(category_wordlists_dict)\n",
    "processCategoryBowDict(category_bow_dict2)"
   ]
  },
  {
   "cell_type": "markdown",
   "metadata": {
    "deletable": false,
    "editable": false,
    "nbgrader": {
     "cell_type": "markdown",
     "checksum": "ec48baea185ee193d739c9dac0a56eb9",
     "grade": false,
     "grade_id": "cell-1986c767af098359",
     "locked": true,
     "schema_version": 3,
     "solution": false,
     "task": false
    },
    "tags": []
   },
   "source": [
    "Zusätzlich kann man noch die inverse Frequenz von Dokumenten berücksichtigen in denen ein bestimmter Term vorkommt. Diese Normalisierung wird als _inverse document frequency_ bezeichnet. Die Idee dahinter ist Wörter, die in vielen Dokumenten vorkommen, weniger stark im Bag-of-Words Histogramm zu gewichten. Die zugrundeliegende Annahme ist ähnlich wie bei den stopwords (Aufgabe 1), dass Wörter, die in vielen Dokumenten vorkommen, weniger Bedeutung für die Unterscheidung von Dokumenten in verschiedene Klassen / Kategorien haben als Wörter, die nur in wenigen Dokumenten vorkommen. Diese Gewichtung lässt sich statistisch aus den Beispieldaten ermitteln.\n",
    "\n",
    "Zusammen mit der relativen Term Gewichtung ergibt sich die so genannte _\"term frequency inverse document frequency\"_.\n",
    "\n",
    "\n",
    "$ \\text{tfidf}(\\text{term},\\text{document}) = \\frac{\\#\\text{term in Dokument}}{ \\#\\text{Wörter in Dokument}} \\times \\log (\\frac{\\#\\text{Dokumente}}{\\#\\text{Dokumente die term enthalten}})$\n",
    "\n",
    "http://www.tfidf.com\n",
    "\n",
    "Eklären Sie die Formel. Plotten Sie die inverse document frequency für jeden Term über dem Brown Corpus.\n",
    "\n",
    "Implementieren und verwenden Sie die Klasse `RelativeInverseDocumentWordFrequecies` im [`features`](../common/features.py) Modul, in der Sie ein tfidf Gewichtungsschema umsetzen. Ermitteln Sie die Gesamt- und klassenspezifischen Fehlerraten mit der Kreuzvalidierung. Vergleichen Sie das Ergebnis mit der absolten und relativen Gewichtung. Erklären Sie die Unterschiede in den klassenspezifischen Fehlerraten. Schauen Sie sich dazu die Verteilungen der Anzahl Wörter und Dokumente je Kategorie aus Aufgabe 1 an. In wie weit ist eine Interpretation möglich?"
   ]
  },
  {
   "cell_type": "code",
   "execution_count": null,
   "metadata": {
    "jupyter": {
     "outputs_hidden": false
    },
    "pycharm": {
     "name": "#%%\n"
    }
   },
   "outputs": [
    {
     "name": "stdout",
     "output_type": "stream",
     "text": [
      "cross val overall result 76.4\n"
     ]
    },
    {
     "data": {
      "application/vnd.jupyter.widget-view+json": {
       "model_id": "f8c507b5b15b44a69c49da968a217cb2",
       "version_major": 2,
       "version_minor": 0
      },
      "image/png": "[encoded data removed]",
      "text/html": [
       "\n",
       "            <div style=\"display: inline-block;\">\n",
       "                <div class=\"jupyter-widgets widget-label\" style=\"text-align: center;\">\n",
       "                    Figure\n",
       "                </div>\n",
       "                <img src='data:image/png;base64,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' width=640.0/>\n",
       "            </div>\n",
       "        "
      ],
      "text/plain": [
       "Canvas(toolbar=Toolbar(toolitems=[('Home', 'Reset original view', 'home', 'home'), ('Back', 'Back to previous …"
      ]
     },
     "metadata": {},
     "output_type": "display_data"
    },
    {
     "ename": "",
     "evalue": "",
     "output_type": "error",
     "traceback": [
      "\u001b[1;31mnotebook controller is DISPOSED. \n",
      "\u001b[1;31mView Jupyter <a href='command:jupyter.viewOutput'>log</a> for further details."
     ]
    },
    {
     "ename": "",
     "evalue": "",
     "output_type": "error",
     "traceback": [
      "\u001b[1;31mnotebook controller is DISPOSED. \n",
      "\u001b[1;31mView Jupyter <a href='command:jupyter.viewOutput'>log</a> for further details."
     ]
    },
    {
     "ename": "",
     "evalue": "",
     "output_type": "error",
     "traceback": [
      "\u001b[1;31mnotebook controller is DISPOSED. \n",
      "\u001b[1;31mView Jupyter <a href='command:jupyter.viewOutput'>log</a> for further details."
     ]
    }
   ],
   "source": [
    "from common.features import RelativeInverseDocumentWordFrequecies , AbsoluteTermFrequencies\n",
    "\n",
    "bow3 = BagOfWords(vocabulary, term_weighting=RelativeInverseDocumentWordFrequecies(vocabulary ,category_wordlists_dict ))\n",
    "category_bow_dict3 = bow3.category_bow_dict(category_wordlists_dict)\n",
    "processCategoryBowDict(category_bow_dict3)"
   ]
  },
  {
   "cell_type": "markdown",
   "metadata": {
    "deletable": false,
    "editable": false,
    "nbgrader": {
     "cell_type": "markdown",
     "checksum": "8b4e7d19fb356ce848e8992959e93373",
     "grade": false,
     "grade_id": "cell-51adf05d64784197",
     "locked": true,
     "schema_version": 3,
     "solution": false,
     "task": false
    },
    "pycharm": {
     "name": "#%% md\n"
    },
    "tags": []
   },
   "source": [
    "Evaluieren Sie die beste Klassifikationsleistung.\n",
    "\n",
    "Ermitteln Sie nun die Parameter für die beste Klassifikationsleistung des k-nächste-Nachbarn Klassifikators auf dem Brown Corpus mit der Kreuzvalidierung. Dabei wird gleichzeitig immer nur ein Parameter verändert. Man hat eine lokal optimale Parameterkonfiguration gefunden, wenn jede Änderung eines Parameters zu einer Verschlechterung der Fehlerrate führt.\n",
    "\n",
    "Erläutern Sie warum eine solche Parameterkonfiguration lokal optimal ist.\n",
    "\n",
    "Testen Sie mindestens die angegebenen Werte für die folgenden Parameter:\n",
    "1. Größe des Vokabulars typischer Wörter (100, 500, 1000, 2000)\n",
    "2. Gewichtung der Bag-of-Words Histogramme (absolute, relative, relative with inverse document frequency)\n",
    "3. Distanzfunktion für die Bestimmung der nächsten Nachbarn (Cityblock, Euclidean, Cosine)\n",
    "4. Anzahl der betrachteten nächsten Nachbarn (1, 2, 3, 4, 5, 6)\n",
    "\n",
    "Erklären Sie den Effekt aller Parameter.\n",
    "\n",
    "Erklären Sie den Effekt zwischen Gewichtungsschema und Distanzfunktion."
   ]
  },
  {
   "cell_type": "code",
   "execution_count": null,
   "metadata": {
    "jupyter": {
     "outputs_hidden": false
    },
    "pycharm": {
     "name": "#%%\n"
    }
   },
   "outputs": [
    {
     "name": "stdout",
     "output_type": "stream",
     "text": [
      "testing with vsize=100 distFunc=euclidean neighbors=1\n",
      "cross val overall result 77.2\n",
      "testing with vsize=100 distFunc=euclidean neighbors=2\n",
      "cross val overall result 74.00000000000001\n",
      "testing with vsize=100 distFunc=euclidean neighbors=3\n",
      "cross val overall result 72.6\n",
      "testing with vsize=100 distFunc=euclidean neighbors=4\n",
      "cross val overall result 71.4\n",
      "testing with vsize=100 distFunc=euclidean neighbors=5\n",
      "cross val overall result 73.4\n",
      "testing with vsize=100 distFunc=euclidean neighbors=6\n",
      "cross val overall result 71.8\n",
      "testing with vsize=100 distFunc=cityblock neighbors=1\n",
      "cross val overall result 71.2\n",
      "testing with vsize=100 distFunc=cityblock neighbors=2\n",
      "cross val overall result 73.0\n",
      "testing with vsize=100 distFunc=cityblock neighbors=3\n",
      "cross val overall result 70.2\n",
      "testing with vsize=100 distFunc=cityblock neighbors=4\n",
      "cross val overall result 66.6\n",
      "testing with vsize=100 distFunc=cityblock neighbors=5\n",
      "cross val overall result 64.80000000000001\n",
      "testing with vsize=100 distFunc=cityblock neighbors=6\n",
      "cross val overall result 65.4\n",
      "testing with vsize=100 distFunc=cosine neighbors=1\n",
      "cross val overall result 72.0\n",
      "testing with vsize=100 distFunc=cosine neighbors=2\n",
      "cross val overall result 74.4\n",
      "testing with vsize=100 distFunc=cosine neighbors=3\n",
      "cross val overall result 72.00000000000001\n",
      "testing with vsize=100 distFunc=cosine neighbors=4\n",
      "cross val overall result 69.0\n",
      "testing with vsize=100 distFunc=cosine neighbors=5\n",
      "cross val overall result 69.8\n",
      "testing with vsize=100 distFunc=cosine neighbors=6\n",
      "cross val overall result 69.0\n",
      "testing with vsize=500 distFunc=euclidean neighbors=1\n",
      "cross val overall result 73.4\n",
      "testing with vsize=500 distFunc=euclidean neighbors=2\n",
      "cross val overall result 74.60000000000001\n",
      "testing with vsize=500 distFunc=euclidean neighbors=3\n",
      "cross val overall result 70.2\n",
      "testing with vsize=500 distFunc=euclidean neighbors=4\n",
      "cross val overall result 69.2\n",
      "testing with vsize=500 distFunc=euclidean neighbors=5\n",
      "cross val overall result 69.4\n",
      "testing with vsize=500 distFunc=euclidean neighbors=6\n",
      "cross val overall result 70.8\n",
      "testing with vsize=500 distFunc=cityblock neighbors=1\n",
      "cross val overall result 62.400000000000006\n",
      "testing with vsize=500 distFunc=cityblock neighbors=2\n",
      "cross val overall result 66.60000000000001\n",
      "testing with vsize=500 distFunc=cityblock neighbors=3\n",
      "cross val overall result 62.199999999999996\n",
      "testing with vsize=500 distFunc=cityblock neighbors=4\n",
      "cross val overall result 61.4\n",
      "testing with vsize=500 distFunc=cityblock neighbors=5\n",
      "cross val overall result 61.0\n",
      "testing with vsize=500 distFunc=cityblock neighbors=6\n",
      "cross val overall result 59.00000000000001\n",
      "testing with vsize=500 distFunc=cosine neighbors=1\n",
      "cross val overall result 67.8\n",
      "testing with vsize=500 distFunc=cosine neighbors=2\n",
      "cross val overall result 73.4\n",
      "testing with vsize=500 distFunc=cosine neighbors=3\n",
      "cross val overall result 70.2\n",
      "testing with vsize=500 distFunc=cosine neighbors=4\n",
      "cross val overall result 69.60000000000001\n",
      "testing with vsize=500 distFunc=cosine neighbors=5\n",
      "cross val overall result 70.2\n",
      "testing with vsize=500 distFunc=cosine neighbors=6\n",
      "cross val overall result 67.6\n",
      "testing with vsize=1000 distFunc=euclidean neighbors=1\n",
      "cross val overall result 71.00000000000001\n",
      "testing with vsize=1000 distFunc=euclidean neighbors=2\n",
      "cross val overall result 75.2\n",
      "testing with vsize=1000 distFunc=euclidean neighbors=3\n",
      "cross val overall result 69.6\n",
      "testing with vsize=1000 distFunc=euclidean neighbors=4\n",
      "cross val overall result 70.8\n",
      "testing with vsize=1000 distFunc=euclidean neighbors=5\n",
      "cross val overall result 71.2\n",
      "testing with vsize=1000 distFunc=euclidean neighbors=6\n",
      "cross val overall result 70.19999999999999\n",
      "testing with vsize=1000 distFunc=cityblock neighbors=1\n",
      "cross val overall result 60.800000000000004\n",
      "testing with vsize=1000 distFunc=cityblock neighbors=2\n",
      "cross val overall result 66.0\n",
      "testing with vsize=1000 distFunc=cityblock neighbors=3\n",
      "cross val overall result 62.800000000000004\n",
      "testing with vsize=1000 distFunc=cityblock neighbors=4\n",
      "cross val overall result 60.8\n",
      "testing with vsize=1000 distFunc=cityblock neighbors=5\n",
      "cross val overall result 59.2\n",
      "testing with vsize=1000 distFunc=cityblock neighbors=6\n",
      "cross val overall result 59.4\n",
      "testing with vsize=1000 distFunc=cosine neighbors=1\n",
      "cross val overall result 68.39999999999999\n",
      "testing with vsize=1000 distFunc=cosine neighbors=2\n",
      "cross val overall result 73.2\n",
      "testing with vsize=1000 distFunc=cosine neighbors=3\n",
      "cross val overall result 70.4\n",
      "testing with vsize=1000 distFunc=cosine neighbors=4\n",
      "cross val overall result 70.2\n",
      "testing with vsize=1000 distFunc=cosine neighbors=5\n",
      "cross val overall result 70.2\n",
      "testing with vsize=1000 distFunc=cosine neighbors=6\n",
      "cross val overall result 69.0\n",
      "testing with vsize=2000 distFunc=euclidean neighbors=1\n",
      "cross val overall result 72.8\n",
      "testing with vsize=2000 distFunc=euclidean neighbors=2\n",
      "cross val overall result 75.4\n",
      "testing with vsize=2000 distFunc=euclidean neighbors=3\n",
      "cross val overall result 72.80000000000001\n",
      "testing with vsize=2000 distFunc=euclidean neighbors=4\n",
      "cross val overall result 69.39999999999999\n",
      "testing with vsize=2000 distFunc=euclidean neighbors=5\n",
      "cross val overall result 70.8\n",
      "testing with vsize=2000 distFunc=euclidean neighbors=6\n",
      "cross val overall result 69.80000000000001\n",
      "testing with vsize=2000 distFunc=cityblock neighbors=1\n",
      "cross val overall result 59.39999999999999\n",
      "testing with vsize=2000 distFunc=cityblock neighbors=2\n",
      "cross val overall result 64.0\n",
      "testing with vsize=2000 distFunc=cityblock neighbors=3\n",
      "cross val overall result 61.400000000000006\n",
      "testing with vsize=2000 distFunc=cityblock neighbors=4\n",
      "cross val overall result 58.599999999999994\n",
      "testing with vsize=2000 distFunc=cityblock neighbors=5\n",
      "cross val overall result 58.0\n",
      "testing with vsize=2000 distFunc=cityblock neighbors=6\n",
      "cross val overall result 56.99999999999999\n",
      "testing with vsize=2000 distFunc=cosine neighbors=1\n",
      "cross val overall result 69.4\n",
      "testing with vsize=2000 distFunc=cosine neighbors=2\n",
      "cross val overall result 71.8\n",
      "testing with vsize=2000 distFunc=cosine neighbors=3\n",
      "cross val overall result 70.4\n",
      "testing with vsize=2000 distFunc=cosine neighbors=4\n",
      "cross val overall result 69.2\n",
      "testing with vsize=2000 distFunc=cosine neighbors=5\n",
      "cross val overall result 67.8\n",
      "testing with vsize=2000 distFunc=cosine neighbors=6\n",
      "cross val overall result 68.2\n"
     ]
    },
    {
     "ename": "",
     "evalue": "",
     "output_type": "error",
     "traceback": [
      "\u001b[1;31mnotebook controller is DISPOSED. \n",
      "\u001b[1;31mView Jupyter <a href='command:jupyter.viewOutput'>log</a> for further details."
     ]
    },
    {
     "ename": "",
     "evalue": "",
     "output_type": "error",
     "traceback": [
      "\u001b[1;31mnotebook controller is DISPOSED. \n",
      "\u001b[1;31mView Jupyter <a href='command:jupyter.viewOutput'>log</a> for further details."
     ]
    }
   ],
   "source": [
    "\n",
    "def testWithParameters(voccSize , termWeightingFactory , distanceFunction ,  numKNeighbors):\n",
    "\n",
    "\tvocabulary = BagOfWords.most_freq_words(stemmed_words , voccSize)\n",
    "\ttermWeighting = termWeightingFactory(vocabulary , category_wordlists_dict)\n",
    "\tbow = BagOfWords(vocabulary, term_weighting=termWeighting)\n",
    "\tcategory_bow_dict = bow.category_bow_dict(category_wordlists_dict)\n",
    "\n",
    "\tcv = CrossValidation(category_bow_dict , 5)\n",
    "\tknn_classifier = KNNClassifier(k_neighbors=numKNeighbors, metric=distanceFunction)\n",
    "\tcrossval_overall_result, _ = cv.validate(knn_classifier)\n",
    "\treturn  crossval_overall_result\n",
    "\n",
    "\n",
    "voccSize = [100 , 500 , 1000 , 2000 ]\n",
    "distanceFuncs = [\"euclidean\" , \"cityblock\", \"cosine\"]\n",
    "neighbors = [1, 2, 3, 4, 5, 6]\n",
    "bestCrossValidationResult = 0\n",
    "bestCombination = \"\"\n",
    "weightingFuncs = [\n",
    "    {\"func\" : lambda _,__ : RelativeTermFrequencies() , \"name\" : \"relative term frequencies\"} ,\n",
    "    {\"func\" : lambda _,__: AbsoluteTermFrequencies()  , \"name\" : \"absolute term frequencies\" },\n",
    "    { \"func\" : lambda vocab , cat_wordlists_dict: RelativeInverseDocumentWordFrequecies(vocab , cat_wordlists_dict) , \"name\" : \"relative inverse document frequencies\" }\n",
    "    ]\n",
    "for vSize in voccSize:\n",
    "\tfor distFunc in distanceFuncs:\n",
    "\t\tfor n in neighbors:\n",
    "\t\t\tfor weightFunctionDict in weightingFuncs:\n",
    "\t\t\t\tfunc_name = weightFunctionDict[\"name\"]\n",
    "\t\t\t\tcombination = f\"test vsize={vSize} distFunc={distFunc} neighbors={n} freq_func={func_name}\"\n",
    "\t\t\t\tprint(combination)\n",
    "\t\t\t\tcrossval_overall_result = testWithParameters(vSize , weightFunctionDict[\"func\"], distFunc , n)\n",
    "\t\t\t\tprint(\"cross val overall result\" , crossval_overall_result)\n",
    "\t\t\t\tif crossval_overall_result > bestCrossValidationResult:\n",
    "\t\t\t\t\tbestCrossValidationResult = crossval_overall_result\n",
    "\t\t\t\t\tbestCombination = combination"
   ]
  },
  {
   "cell_type": "code",
   "execution_count": null,
   "metadata": {},
   "outputs": [
    {
     "ename": "",
     "evalue": "",
     "output_type": "error",
     "traceback": [
      "\u001b[1;31mnotebook controller is DISPOSED. \n",
      "\u001b[1;31mView Jupyter <a href='command:jupyter.viewOutput'>log</a> for further details."
     ]
    },
    {
     "ename": "",
     "evalue": "",
     "output_type": "error",
     "traceback": [
      "\u001b[1;31mnotebook controller is DISPOSED. \n",
      "\u001b[1;31mView Jupyter <a href='command:jupyter.viewOutput'>log</a> for further details."
     ]
    }
   ],
   "source": []
  }
 ],
 "metadata": {
  "kernelspec": {
   "display_name": "Python 3.8.10 ('venv': venv)",
   "language": "python",
   "name": "python3"
  },
  "language_info": {
   "codemirror_mode": {
    "name": "ipython",
    "version": 3
   },
   "file_extension": ".py",
   "mimetype": "text/x-python",
   "name": "python",
   "nbconvert_exporter": "python",
   "pygments_lexer": "ipython3",
   "version": "3.8.10"
  },
  "vscode": {
   "interpreter": {
    "hash": "532930a045c70b6179a9e76aad6b950d5161a1fd1537a8fdd1aa5c1fdfc9fb89"
   }
  }
 },
 "nbformat": 4,
 "nbformat_minor": 4
}
